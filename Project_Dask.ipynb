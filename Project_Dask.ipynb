{
 "cells": [
  {
   "cell_type": "code",
   "execution_count": 2,
   "id": "92104e43",
   "metadata": {},
   "outputs": [],
   "source": [
    "%matplotlib inline\n",
    "\n",
    "from dask.distributed import Client\n",
    "import dask.dataframe as dd\n",
    "import matplotlib.pyplot as plt\n",
    "import joblib\n",
    "import numpy as np"
   ]
  },
  {
   "cell_type": "code",
   "execution_count": 3,
   "id": "f3a6b18f",
   "metadata": {},
   "outputs": [],
   "source": [
    "# Start and connect to local client\n",
    "\n",
    "client = Client(n_workers=4)\n",
    "# client = Client(\"scheduler-address:8786\")  # connecting to remote cluster"
   ]
  },
  {
   "cell_type": "code",
   "execution_count": 4,
   "id": "30ffa168",
   "metadata": {},
   "outputs": [
    {
     "data": {
      "text/html": [
       "<table style=\"border: 2px solid white;\">\n",
       "<tr>\n",
       "<td style=\"vertical-align: top; border: 0px solid white\">\n",
       "<h3 style=\"text-align: left;\">Client</h3>\n",
       "<ul style=\"text-align: left; list-style: none; margin: 0; padding: 0;\">\n",
       "  <li><b>Scheduler: </b>tcp://127.0.0.1:45185</li>\n",
       "  <li><b>Dashboard: </b><a href='http://127.0.0.1:8787/status' target='_blank'>http://127.0.0.1:8787/status</a></li>\n",
       "</ul>\n",
       "</td>\n",
       "<td style=\"vertical-align: top; border: 0px solid white\">\n",
       "<h3 style=\"text-align: left;\">Cluster</h3>\n",
       "<ul style=\"text-align: left; list-style:none; margin: 0; padding: 0;\">\n",
       "  <li><b>Workers: </b>4</li>\n",
       "  <li><b>Cores: </b>8</li>\n",
       "  <li><b>Memory: </b>15.64 GiB</li>\n",
       "</ul>\n",
       "</td>\n",
       "</tr>\n",
       "</table>"
      ],
      "text/plain": [
       "<Client: 'tcp://127.0.0.1:45185' processes=4 threads=8, memory=15.64 GiB>"
      ]
     },
     "execution_count": 4,
     "metadata": {},
     "output_type": "execute_result"
    }
   ],
   "source": [
    "client"
   ]
  },
  {
   "cell_type": "markdown",
   "id": "fe96bbe7",
   "metadata": {},
   "source": [
    "# 1. Data Preparation"
   ]
  },
  {
   "cell_type": "markdown",
   "id": "0bafa290",
   "metadata": {},
   "source": [
    "## a) Load Data"
   ]
  },
  {
   "cell_type": "code",
   "execution_count": 5,
   "id": "f2bf8b87",
   "metadata": {},
   "outputs": [],
   "source": [
    "# Read in files"
   ]
  },
  {
   "cell_type": "code",
   "execution_count": 6,
   "id": "39389230",
   "metadata": {},
   "outputs": [],
   "source": [
    "def read_file(filepath):\n",
    "    df = dd.read_csv(filepath, sep = ',', header = None)\n",
    "    df.columns = ['subject_id', 'activity_code', 'timestamp', 'x_coord', 'y_coord', 'z_coord']\n",
    "    df['z_coord'] = df['z_coord'].str.replace(\";\",\"\").astype('float64') # remove ; and ensure float (having issues with lineterminator)\n",
    "    return df"
   ]
  },
  {
   "cell_type": "code",
   "execution_count": 7,
   "id": "b92f88bb",
   "metadata": {},
   "outputs": [],
   "source": [
    "phone_gyro_df = read_file('wisdm-dataset/raw/phone/gyro/*.txt')\n",
    "phone_accel_df = read_file('wisdm-dataset/raw/phone/accel/*.txt')\n",
    "watch_gyro_df = read_file('wisdm-dataset/raw/watch/gyro/*.txt')\n",
    "watch_accel_df = read_file('wisdm-dataset/raw/watch/accel/*.txt')"
   ]
  },
  {
   "cell_type": "markdown",
   "id": "a4e97d98",
   "metadata": {},
   "source": [
    "## b) Exploratory Data Analysis"
   ]
  },
  {
   "cell_type": "code",
   "execution_count": 70,
   "id": "8362a07f",
   "metadata": {},
   "outputs": [],
   "source": [
    "def plot_subject_activity(df, title_append=None):\n",
    "    subject_id = df.head(1)['subject_id'][0]\n",
    "    activity_code = df.head(1)['activity_code'][0]\n",
    "    title = f'Subject {subject_id} Performing Activity {activity_code}' \n",
    "    if title_append != None:\n",
    "        title+=str(f' ({title_append})')\n",
    "        \n",
    "    fig, ax = plt.subplots(3, figsize=(20,10))\n",
    "    fig.suptitle(title)\n",
    "    ax[0].plot(range(len(df)), df['x_coord'].compute().to_numpy())\n",
    "    ax[0].set_title('x_coord')\n",
    "    ax[1].plot(range(len(df)), df['y_coord'].compute().to_numpy())\n",
    "    ax[1].set_title('y_coord')\n",
    "    ax[2].plot(range(len(df)), df['z_coord'].compute().to_numpy())\n",
    "    ax[2].set_title('z_coord')\n",
    "    ax[2].set_xlabel('Interval')"
   ]
  },
  {
   "cell_type": "code",
   "execution_count": null,
   "id": "fd70538e",
   "metadata": {},
   "outputs": [],
   "source": [
    "temp = phone_gyro_df[(phone_gyro_df['subject_id'] == 1600) & (phone_gyro_df['activity_code'] == 'A')]\n",
    "plot_subject_activity(temp, 'Phone Gyro')"
   ]
  },
  {
   "cell_type": "code",
   "execution_count": null,
   "id": "c27654dc",
   "metadata": {},
   "outputs": [],
   "source": [
    "# Join gyroscope and accelerometer data by device"
   ]
  },
  {
   "cell_type": "code",
   "execution_count": null,
   "id": "a18a39a1",
   "metadata": {},
   "outputs": [],
   "source": [
    "len(phone_gyro_df[ (phone_gyro_df['subject_id'] == 1600) & (phone_gyro_df['activity_code'] == 'A') ])"
   ]
  },
  {
   "cell_type": "code",
   "execution_count": null,
   "id": "294bc47e",
   "metadata": {},
   "outputs": [],
   "source": [
    "combined_watch_df = watch_accel_df.merge(watch_gyro_df, on=[\"subject_id\",\"timestamp\"], how=\"inner\")\n",
    "combined_watch_df.compute()"
   ]
  },
  {
   "cell_type": "code",
   "execution_count": null,
   "id": "46a3dc05",
   "metadata": {},
   "outputs": [],
   "source": [
    "combined_phone_df = phone_accel_df.merge(phone_gyro_df, on=[\"subject_id\",\"timestamp\"], how=\"inner\")\n",
    "combined_phone_df.compute()"
   ]
  },
  {
   "cell_type": "code",
   "execution_count": null,
   "id": "bcb8a5b8",
   "metadata": {},
   "outputs": [],
   "source": [
    "# Group by subject id, activity, time interval window (3s) - mean, std x, y, z with group by\n",
    "\n",
    "# https://stackoverflow.com/questions/35898667/group-by-time-and-other-column-in-pandas"
   ]
  },
  {
   "cell_type": "code",
   "execution_count": null,
   "id": "f6205bdc",
   "metadata": {},
   "outputs": [],
   "source": [
    "# Join back together for single dataframe "
   ]
  },
  {
   "cell_type": "markdown",
   "id": "e2d296b6",
   "metadata": {},
   "source": [
    "# 2. Model Selection & Training"
   ]
  },
  {
   "cell_type": "code",
   "execution_count": null,
   "id": "65ba19b9",
   "metadata": {},
   "outputs": [],
   "source": [
    "# train test split\n",
    "# fit model\n",
    "# hyperparamter tuning depending on model selected (if time permits)"
   ]
  },
  {
   "cell_type": "markdown",
   "id": "0e517160",
   "metadata": {},
   "source": [
    "# 3. Model Test"
   ]
  },
  {
   "cell_type": "code",
   "execution_count": null,
   "id": "9ea75a09",
   "metadata": {},
   "outputs": [],
   "source": [
    "# test /validate and provide final accurracy "
   ]
  },
  {
   "cell_type": "markdown",
   "id": "3dea46a5",
   "metadata": {},
   "source": [
    "# 4. Results & Conclusion"
   ]
  },
  {
   "cell_type": "code",
   "execution_count": null,
   "id": "8891f29f",
   "metadata": {},
   "outputs": [],
   "source": [
    "# Summarize final results and conclusion - reinclude any helpful charts/graphs"
   ]
  },
  {
   "cell_type": "code",
   "execution_count": null,
   "id": "6944a6bf",
   "metadata": {},
   "outputs": [],
   "source": [
    "client.shutdown()"
   ]
  }
 ],
 "metadata": {
  "kernelspec": {
   "display_name": "Python 3",
   "language": "python",
   "name": "python3"
  },
  "language_info": {
   "codemirror_mode": {
    "name": "ipython",
    "version": 3
   },
   "file_extension": ".py",
   "mimetype": "text/x-python",
   "name": "python",
   "nbconvert_exporter": "python",
   "pygments_lexer": "ipython3",
   "version": "3.8.5"
  }
 },
 "nbformat": 4,
 "nbformat_minor": 5
}
