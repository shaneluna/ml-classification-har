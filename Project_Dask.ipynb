{
 "cells": [
  {
   "cell_type": "code",
   "execution_count": null,
   "id": "d6d2c42c",
   "metadata": {},
   "outputs": [],
   "source": [
    "%matplotlib inline\n",
    "\n",
    "from dask.distributed import Client\n",
    "import dask.dataframe as dd\n",
    "import matplotlib.pyplot as plt\n",
    "import joblib\n",
    "import numpy as np"
   ]
  },
  {
   "cell_type": "code",
   "execution_count": null,
   "id": "4b4247f1",
   "metadata": {},
   "outputs": [],
   "source": [
    "# Start and connect to local client\n",
    "\n",
    "client = Client(n_workers=4)\n",
    "# client = Client(\"scheduler-address:8786\")  # connecting to remote cluster"
   ]
  },
  {
   "cell_type": "code",
   "execution_count": null,
   "id": "03ee43de",
   "metadata": {},
   "outputs": [],
   "source": [
    "client"
   ]
  },
  {
   "cell_type": "markdown",
   "id": "a957be83",
   "metadata": {},
   "source": [
    "# 1. Data Preparation"
   ]
  },
  {
   "cell_type": "code",
   "execution_count": null,
   "id": "63fa075c",
   "metadata": {},
   "outputs": [],
   "source": [
    "# Read in files"
   ]
  },
  {
   "cell_type": "code",
   "execution_count": null,
   "id": "7832106b",
   "metadata": {},
   "outputs": [],
   "source": [
    "def read_file(filepath):\n",
    "    df = dd.read_csv(filepath, sep = ',', header = None)\n",
    "    df.columns = ['subject_id', 'activity_code', 'timestamp', 'x_coord', 'y_coord', 'z_coord']\n",
    "    df['z_coord'] = df['z_coord'].str.replace(\";\",\"\").astype('float64') # remove ; and ensure float (having issues with lineterminator)\n",
    "    return df"
   ]
  },
  {
   "cell_type": "code",
   "execution_count": null,
   "id": "f5935144",
   "metadata": {},
   "outputs": [],
   "source": [
    "phone_gyro_df = read_file('wisdm-dataset/raw/phone/gyro/*.txt')\n",
    "phone_accel_df = read_file('wisdm-dataset/raw/phone/accel/*.txt')\n",
    "watch_gyro_df = read_file('wisdm-dataset/raw/watch/gyro/*.txt')\n",
    "watch_accel_df = read_file('wisdm-dataset/raw/watch/accel/*.txt')"
   ]
  },
  {
   "cell_type": "code",
   "execution_count": null,
   "id": "8849e9c0",
   "metadata": {},
   "outputs": [],
   "source": [
    "# Join gyroscope and accelerometer data by device"
   ]
  },
  {
   "cell_type": "code",
   "execution_count": null,
   "id": "276d9e1d",
   "metadata": {},
   "outputs": [],
   "source": [
    "len(phone_gyro_df[ (phone_gyro_df['subject_id'] == 1600) & (phone_gyro_df['activity_code'] == 'A') ])"
   ]
  },
  {
   "cell_type": "code",
   "execution_count": null,
   "id": "1b41fa50",
   "metadata": {},
   "outputs": [],
   "source": [
    "combined_watch_df = watch_accel_df.merge(watch_gyro_df, on=[\"subject_id\",\"timestamp\"], how=\"inner\")\n",
    "combined_watch_df.compute()"
   ]
  },
  {
   "cell_type": "code",
   "execution_count": null,
   "id": "657d3e60",
   "metadata": {},
   "outputs": [],
   "source": [
    "combined_phone_df = phone_accel_df.merge(phone_gyro_df, on=[\"subject_id\",\"timestamp\"], how=\"inner\")\n",
    "combined_phone_df.compute()"
   ]
  },
  {
   "cell_type": "code",
   "execution_count": null,
   "id": "5ff03c2d",
   "metadata": {},
   "outputs": [],
   "source": [
    "# Group by subject id, activity, time interval window (3s) - mean, std x, y, z with group by\n",
    "\n",
    "# https://stackoverflow.com/questions/35898667/group-by-time-and-other-column-in-pandas"
   ]
  },
  {
   "cell_type": "code",
   "execution_count": null,
   "id": "079e7569",
   "metadata": {},
   "outputs": [],
   "source": [
    "# Join back together for single dataframe "
   ]
  },
  {
   "cell_type": "markdown",
   "id": "6f54b0e6",
   "metadata": {},
   "source": [
    "# Exploratory Data Analysis"
   ]
  },
  {
   "cell_type": "markdown",
   "id": "332f3ef9",
   "metadata": {},
   "source": [
    "# 2. Model Selection & Training"
   ]
  },
  {
   "cell_type": "code",
   "execution_count": null,
   "id": "1c8ee33f",
   "metadata": {},
   "outputs": [],
   "source": [
    "# train test split\n",
    "# fit model\n",
    "# hyperparamter tuning depending on model selected (if time permits)"
   ]
  },
  {
   "cell_type": "markdown",
   "id": "9fe28ba6",
   "metadata": {},
   "source": [
    "# 3. Model Test"
   ]
  },
  {
   "cell_type": "code",
   "execution_count": null,
   "id": "791bcf35",
   "metadata": {},
   "outputs": [],
   "source": [
    "# test /validate and provide final accurracy "
   ]
  },
  {
   "cell_type": "markdown",
   "id": "d8565a80",
   "metadata": {},
   "source": [
    "# 4. Results & Conclusion"
   ]
  },
  {
   "cell_type": "code",
   "execution_count": null,
   "id": "632d7c23",
   "metadata": {},
   "outputs": [],
   "source": [
    "# Summarize final results and conclusion - reinclude any helpful charts/graphs"
   ]
  },
  {
   "cell_type": "code",
   "execution_count": null,
   "id": "08f87d58",
   "metadata": {},
   "outputs": [],
   "source": [
    "client.shutdown()"
   ]
  }
 ],
 "metadata": {
  "kernelspec": {
   "display_name": "Python 3",
   "language": "python",
   "name": "python3"
  },
  "language_info": {
   "codemirror_mode": {
    "name": "ipython",
    "version": 3
   },
   "file_extension": ".py",
   "mimetype": "text/x-python",
   "name": "python",
   "nbconvert_exporter": "python",
   "pygments_lexer": "ipython3",
   "version": "3.8.5"
  }
 },
 "nbformat": 4,
 "nbformat_minor": 5
}
