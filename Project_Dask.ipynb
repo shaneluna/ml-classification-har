{
 "cells": [
  {
   "cell_type": "markdown",
   "id": "color-commander",
   "metadata": {},
   "source": [
    "# Smart Device Human Activity Recognition (HAR) Model (Using Feature Engineering?)\n",
    "\n",
    "[Eugene Zen](mailto:ezen@ucsd.edu), [Shane Luna](mailto:shluna@ucsd.edu)\n",
    "\n",
    "## I. Summary\n",
    "This notebook presents the development of a Human Activity Recognition (HAR) model that utilizes sensors from both smartphones and smartwatches. The data was originally collected and analyzed by the members of the WISDM (Wireless Sensor Data Mining) Lab in the Department of Computer and Information Science of Fordham University. More information on the original experiment can be found in the publication from 2019 [here](https://ieeexplore.ieee.org/document/8835065). The data was made publicly available on the UCI Machine Learning Repository as the \"WISDM Smartphone and Smartwach Activity and Biometrics Dataset\" and can be found [here](https://archive.ics.uci.edu/ml/datasets/WISDM+Smartphone+and+Smartwatch+Activity+and+Biometrics+Dataset+)."
   ]
  },
  {
   "cell_type": "markdown",
   "id": "bizarre-supervisor",
   "metadata": {},
   "source": [
    "## II. Development\n",
    "\n",
    "### Dependencies"
   ]
  },
  {
   "cell_type": "code",
   "execution_count": 1,
   "id": "vocal-demographic",
   "metadata": {},
   "outputs": [],
   "source": [
    "%matplotlib inline\n",
    "\n",
    "from dask.distributed import Client\n",
    "import dask.dataframe as dd\n",
    "import matplotlib.pyplot as plt\n",
    "import joblib\n",
    "import numpy as np\n",
    "import pandas as pd\n",
    "import string"
   ]
  },
  {
   "cell_type": "code",
   "execution_count": 2,
   "id": "balanced-western",
   "metadata": {},
   "outputs": [],
   "source": [
    "# Start local dask client\n",
    "client = Client(n_workers=4)"
   ]
  },
  {
   "cell_type": "code",
   "execution_count": 3,
   "id": "laughing-voluntary",
   "metadata": {},
   "outputs": [
    {
     "data": {
      "text/html": [
       "<table style=\"border: 2px solid white;\">\n",
       "<tr>\n",
       "<td style=\"vertical-align: top; border: 0px solid white\">\n",
       "<h3 style=\"text-align: left;\">Client</h3>\n",
       "<ul style=\"text-align: left; list-style: none; margin: 0; padding: 0;\">\n",
       "  <li><b>Scheduler: </b>tcp://127.0.0.1:36855</li>\n",
       "  <li><b>Dashboard: </b><a href='http://127.0.0.1:8787/status' target='_blank'>http://127.0.0.1:8787/status</a></li>\n",
       "</ul>\n",
       "</td>\n",
       "<td style=\"vertical-align: top; border: 0px solid white\">\n",
       "<h3 style=\"text-align: left;\">Cluster</h3>\n",
       "<ul style=\"text-align: left; list-style:none; margin: 0; padding: 0;\">\n",
       "  <li><b>Workers: </b>4</li>\n",
       "  <li><b>Cores: </b>4</li>\n",
       "  <li><b>Memory: </b>4.82 GiB</li>\n",
       "</ul>\n",
       "</td>\n",
       "</tr>\n",
       "</table>"
      ],
      "text/plain": [
       "<Client: 'tcp://127.0.0.1:36855' processes=4 threads=4, memory=4.82 GiB>"
      ]
     },
     "execution_count": 3,
     "metadata": {},
     "output_type": "execute_result"
    }
   ],
   "source": [
    "client"
   ]
  },
  {
   "cell_type": "markdown",
   "id": "conscious-timing",
   "metadata": {},
   "source": [
    "### Load Data"
   ]
  },
  {
   "cell_type": "code",
   "execution_count": 4,
   "id": "contemporary-radar",
   "metadata": {},
   "outputs": [],
   "source": [
    "def read_file(filepath):\n",
    "    df = dd.read_csv(filepath, sep = ',', header = None)\n",
    "#     unit = 'us' if 'phone' in filepath else 'ms' # phone in microseconds / watch in milliseconds\n",
    "    df.columns = ['subject_id', 'activity_code', 'timestamp', 'x', 'y', 'z']\n",
    "    df['timestamp_dt'] = dd.to_datetime(df['timestamp'], origin='unix')\n",
    "    df['z'] = df['z'].str.replace(\";\",\"\").astype('float64') # remove ; and ensure float (having issues with lineterminator)\n",
    "    return df"
   ]
  },
  {
   "cell_type": "code",
   "execution_count": 5,
   "id": "animated-theorem",
   "metadata": {},
   "outputs": [],
   "source": [
    "# Phone Data\n",
    "phone_accel_df = read_file('wisdm-dataset/raw/phone/accel/*.txt')\n",
    "phone_gyro_df = read_file('wisdm-dataset/raw/phone/gyro/*.txt')\n",
    "\n",
    "# Watch Data\n",
    "watch_accel_df = read_file('wisdm-dataset/raw/watch/accel/*.txt')\n",
    "watch_gyro_df = read_file('wisdm-dataset/raw/watch/gyro/*.txt')"
   ]
  },
  {
   "cell_type": "code",
   "execution_count": 6,
   "id": "muslim-germany",
   "metadata": {},
   "outputs": [],
   "source": [
    "# TEST: Datetime Converter us vs. ms\n",
    "# pd.to_datetime((phone_accel_df['timestamp']).to_frame().head(5)['timestamp'], origin='unix', unit='us')\n",
    "# pd.to_datetime((watch_accel_df['timestamp']).to_frame().head(5)['timestamp'], origin='unix', unit='ms')"
   ]
  },
  {
   "cell_type": "markdown",
   "id": "collectible-magic",
   "metadata": {},
   "source": [
    "Referring to the dataset description provided from the WISDM Lab, we expect to see the following row counts:\n",
    "\n",
    "- raw/phone/accel: 4,804,403\n",
    "- raw/phone/gyro: 3,608,635\n",
    "- raw/watch/accel: 3,777,046\n",
    "- raw/watch/gyro: 3,440,342"
   ]
  },
  {
   "cell_type": "code",
   "execution_count": 7,
   "id": "destroyed-beginning",
   "metadata": {},
   "outputs": [
    {
     "name": "stdout",
     "output_type": "stream",
     "text": [
      "Phone Accel:\t4804403\n",
      "Phone Gyro:\t3608635\n",
      "Watch Accel:\t3777046\n",
      "Watch Gyro:\t3440342\n"
     ]
    }
   ],
   "source": [
    "print(f'Phone Accel:\\t{len(phone_accel_df)}')\n",
    "print(f'Phone Gyro:\\t{len(phone_gyro_df)}')\n",
    "print(f'Watch Accel:\\t{len(watch_accel_df)}')\n",
    "print(f'Watch Gyro:\\t{len(watch_gyro_df)}')"
   ]
  },
  {
   "cell_type": "markdown",
   "id": "bearing-layer",
   "metadata": {},
   "source": [
    "All of the above dataframes are stuctured the same. A sample output of the column datatypes has been provided below for reference. An additional column, timestamp_dt, was added to the original data by converting the timestamp attribute to a datetime object type. The original timestamp column has been preserved if needed for future enhancements."
   ]
  },
  {
   "cell_type": "code",
   "execution_count": 8,
   "id": "convertible-crystal",
   "metadata": {},
   "outputs": [
    {
     "name": "stdout",
     "output_type": "stream",
     "text": [
      "subject_id                int64\n",
      "activity_code            object\n",
      "timestamp                 int64\n",
      "x                       float64\n",
      "y                       float64\n",
      "z                       float64\n",
      "timestamp_dt     datetime64[ns]\n",
      "dtype: object\n"
     ]
    }
   ],
   "source": [
    "print(phone_accel_df.dtypes)"
   ]
  },
  {
   "cell_type": "markdown",
   "id": "ethical-craps",
   "metadata": {},
   "source": [
    "### Exploratory Data Analysis"
   ]
  },
  {
   "cell_type": "code",
   "execution_count": 9,
   "id": "meaning-installation",
   "metadata": {},
   "outputs": [
    {
     "name": "stdout",
     "output_type": "stream",
     "text": [
      "--Phone Accel--\n",
      "subject_id       0\n",
      "activity_code    0\n",
      "timestamp        0\n",
      "x                0\n",
      "y                0\n",
      "z                0\n",
      "timestamp_dt     0\n",
      "dtype: int64\n",
      "--Phone Gyro--\n",
      "subject_id       0\n",
      "activity_code    0\n",
      "timestamp        0\n",
      "x                0\n",
      "y                0\n",
      "z                0\n",
      "timestamp_dt     0\n",
      "dtype: int64\n",
      "--Watch Accel--\n",
      "subject_id       0\n",
      "activity_code    0\n",
      "timestamp        0\n",
      "x                0\n",
      "y                0\n",
      "z                0\n",
      "timestamp_dt     0\n",
      "dtype: int64\n",
      "--Watch Gyro--\n",
      "subject_id       0\n",
      "activity_code    0\n",
      "timestamp        0\n",
      "x                0\n",
      "y                0\n",
      "z                0\n",
      "timestamp_dt     0\n",
      "dtype: int64\n"
     ]
    }
   ],
   "source": [
    "# Check for nulls\n",
    "\n",
    "print('--Phone Accel--')\n",
    "print(phone_accel_df.isna().sum().compute())\n",
    "\n",
    "print('--Phone Gyro--')\n",
    "print(phone_gyro_df.isna().sum().compute())\n",
    "\n",
    "print('--Watch Accel--')\n",
    "print(watch_accel_df.isna().sum().compute())\n",
    "\n",
    "print('--Watch Gyro--')\n",
    "print(watch_gyro_df.isna().sum().compute())"
   ]
  },
  {
   "cell_type": "code",
   "execution_count": 10,
   "id": "understanding-posting",
   "metadata": {},
   "outputs": [],
   "source": [
    "def plot_subject_activity(df, title_append=None):\n",
    "    subject_id = df.head(1)['subject_id'].item()\n",
    "    activity_code = df.head(1)['activity_code'].item()\n",
    "    title = f'Subject {subject_id} Performing Activity {activity_code}' \n",
    "    if title_append != None:\n",
    "        title+=str(f' ({title_append})')\n",
    "        \n",
    "    fig, ax = plt.subplots(3, figsize=(20,5), sharex=True)\n",
    "    fig.suptitle(title)\n",
    "    ax[0].plot(range(len(df)), df['x'].to_numpy(), c='C0')\n",
    "    ax[0].set_title('x')\n",
    "    ax[1].plot(range(len(df)), df['y'].to_numpy(), c='C1')\n",
    "    ax[1].set_title('y')\n",
    "    ax[2].plot(range(len(df)), df['z'].to_numpy(), c='C2')\n",
    "    ax[2].set_title('z')\n",
    "    ax[2].set_xlabel('Interval')"
   ]
  },
  {
   "cell_type": "markdown",
   "id": "oriented-charles",
   "metadata": {},
   "source": [
    "Visualizations have been provided below of tri-axial sensor readings from both a smartphone accelerometer (first) and smarphone gyroscope (second). Our efforts aim to assess the distinctness of these patterns for different physical activities. "
   ]
  },
  {
   "cell_type": "code",
   "execution_count": 11,
   "id": "narrow-voice",
   "metadata": {},
   "outputs": [
    {
     "data": {
      "image/png": "[encoded data removed]",
      "text/plain": [
       "<Figure size 1440x360 with 3 Axes>"
      ]
     },
     "metadata": {
      "needs_background": "light"
     },
     "output_type": "display_data"
    }
   ],
   "source": [
    "# Sample chart of a user performing an activity for 30 seconds or ~600 intervals @ 20Hz\n",
    "# Activity A = Walking\n",
    "activity = phone_accel_df[(phone_accel_df['subject_id'] == 1600) & (phone_accel_df['activity_code'] == \"A\")].compute()[0:600]\n",
    "plot_subject_activity(activity, 'Phone Accel')"
   ]
  },
  {
   "cell_type": "code",
   "execution_count": 12,
   "id": "aerial-liquid",
   "metadata": {},
   "outputs": [
    {
     "data": {
      "image/png": "[encoded data removed]",
      "text/plain": [
       "<Figure size 1440x360 with 3 Axes>"
      ]
     },
     "metadata": {
      "needs_background": "light"
     },
     "output_type": "display_data"
    }
   ],
   "source": [
    "# Sample chart of a user performing an activity for 30 seconds or ~600 intervals @ 20Hz\n",
    "# Activity A = Walking\n",
    "activity = phone_gyro_df[(phone_gyro_df['subject_id'] == 1600) & (phone_gyro_df['activity_code'] == 'A')].compute()[0:600]\n",
    "plot_subject_activity(activity, 'Phone Gyro')"
   ]
  },
  {
   "cell_type": "code",
   "execution_count": 13,
   "id": "verbal-fundamental",
   "metadata": {},
   "outputs": [],
   "source": [
    "subjects = phone_accel_df['subject_id'].unique().compute()\n",
    "activities = phone_accel_df['activity_code'].unique().compute()"
   ]
  },
  {
   "cell_type": "code",
   "execution_count": 14,
   "id": "rolled-privilege",
   "metadata": {},
   "outputs": [
    {
     "data": {
      "text/plain": [
       "activity_code     0\n",
       "phone_accel       8\n",
       "phone_gyro       10\n",
       "watch_accel       6\n",
       "watch_gyro       11\n",
       "dtype: int64"
      ]
     },
     "execution_count": 14,
     "metadata": {},
     "output_type": "execute_result"
    }
   ],
   "source": [
    "# Which sensors have missing activities\n",
    "\n",
    "subject_activities_df = pd.DataFrame(subjects).merge(pd.DataFrame(activities), how='cross')\n",
    "\n",
    "phone_accel_interval_counts = phone_accel_df.groupby(['subject_id', 'activity_code']).size().rename('phone_accel').reset_index().compute()\n",
    "subject_activities_df = subject_activities_df.merge(phone_accel_interval_counts, on=['subject_id', 'activity_code'], how='left')\n",
    "\n",
    "phone_gyro_interval_counts = phone_gyro_df.groupby(['subject_id', 'activity_code']).size().rename('phone_gyro').reset_index().compute()\n",
    "subject_activities_df = subject_activities_df.merge(phone_gyro_interval_counts, on=['subject_id', 'activity_code'], how='left')\n",
    "\n",
    "watch_accel_interval_counts = watch_accel_df.groupby(['subject_id', 'activity_code']).size().rename('watch_accel').reset_index().compute()\n",
    "subject_activities_df = subject_activities_df.merge(watch_accel_interval_counts, on=['subject_id', 'activity_code'], how='left')\n",
    "\n",
    "watch_gyro_interval_counts = watch_gyro_df.groupby(['subject_id', 'activity_code']).size().rename('watch_gyro').reset_index().compute()\n",
    "subject_activities_df = subject_activities_df.merge(watch_gyro_interval_counts, on=['subject_id', 'activity_code'], how='left')\n",
    "\n",
    "subject_activities_df = subject_activities_df.set_index(['subject_id'])\n",
    "\n",
    "subject_activities_df.isna().sum()"
   ]
  },
  {
   "cell_type": "code",
   "execution_count": 15,
   "id": "universal-wright",
   "metadata": {},
   "outputs": [
    {
     "data": {
      "text/html": [
       "<div>\n",
       "<style scoped>\n",
       "    .dataframe tbody tr th:only-of-type {\n",
       "        vertical-align: middle;\n",
       "    }\n",
       "\n",
       "    .dataframe tbody tr th {\n",
       "        vertical-align: top;\n",
       "    }\n",
       "\n",
       "    .dataframe thead th {\n",
       "        text-align: right;\n",
       "    }\n",
       "</style>\n",
       "<table border=\"1\" class=\"dataframe\">\n",
       "  <thead>\n",
       "    <tr style=\"text-align: right;\">\n",
       "      <th></th>\n",
       "      <th>activity_code</th>\n",
       "      <th>phone_accel</th>\n",
       "      <th>phone_gyro</th>\n",
       "      <th>watch_accel</th>\n",
       "      <th>watch_gyro</th>\n",
       "    </tr>\n",
       "    <tr>\n",
       "      <th>subject_id</th>\n",
       "      <th></th>\n",
       "      <th></th>\n",
       "      <th></th>\n",
       "      <th></th>\n",
       "      <th></th>\n",
       "    </tr>\n",
       "  </thead>\n",
       "  <tbody>\n",
       "    <tr>\n",
       "      <th>1607</th>\n",
       "      <td>J</td>\n",
       "      <td>NaN</td>\n",
       "      <td>NaN</td>\n",
       "      <td>3603.0</td>\n",
       "      <td>3602.0</td>\n",
       "    </tr>\n",
       "    <tr>\n",
       "      <th>1609</th>\n",
       "      <td>B</td>\n",
       "      <td>NaN</td>\n",
       "      <td>NaN</td>\n",
       "      <td>3605.0</td>\n",
       "      <td>3603.0</td>\n",
       "    </tr>\n",
       "    <tr>\n",
       "      <th>1616</th>\n",
       "      <td>B</td>\n",
       "      <td>NaN</td>\n",
       "      <td>NaN</td>\n",
       "      <td>NaN</td>\n",
       "      <td>NaN</td>\n",
       "    </tr>\n",
       "    <tr>\n",
       "      <th>1616</th>\n",
       "      <td>F</td>\n",
       "      <td>NaN</td>\n",
       "      <td>NaN</td>\n",
       "      <td>3605.0</td>\n",
       "      <td>3603.0</td>\n",
       "    </tr>\n",
       "    <tr>\n",
       "      <th>1618</th>\n",
       "      <td>O</td>\n",
       "      <td>NaN</td>\n",
       "      <td>NaN</td>\n",
       "      <td>NaN</td>\n",
       "      <td>NaN</td>\n",
       "    </tr>\n",
       "    <tr>\n",
       "      <th>1637</th>\n",
       "      <td>C</td>\n",
       "      <td>3600.0</td>\n",
       "      <td>3598.0</td>\n",
       "      <td>8931.0</td>\n",
       "      <td>NaN</td>\n",
       "    </tr>\n",
       "    <tr>\n",
       "      <th>1637</th>\n",
       "      <td>J</td>\n",
       "      <td>3600.0</td>\n",
       "      <td>3598.0</td>\n",
       "      <td>NaN</td>\n",
       "      <td>NaN</td>\n",
       "    </tr>\n",
       "    <tr>\n",
       "      <th>1638</th>\n",
       "      <td>H</td>\n",
       "      <td>3615.0</td>\n",
       "      <td>3613.0</td>\n",
       "      <td>8931.0</td>\n",
       "      <td>NaN</td>\n",
       "    </tr>\n",
       "    <tr>\n",
       "      <th>1638</th>\n",
       "      <td>O</td>\n",
       "      <td>3601.0</td>\n",
       "      <td>3599.0</td>\n",
       "      <td>8936.0</td>\n",
       "      <td>NaN</td>\n",
       "    </tr>\n",
       "    <tr>\n",
       "      <th>1639</th>\n",
       "      <td>L</td>\n",
       "      <td>3615.0</td>\n",
       "      <td>3613.0</td>\n",
       "      <td>NaN</td>\n",
       "      <td>NaN</td>\n",
       "    </tr>\n",
       "    <tr>\n",
       "      <th>1640</th>\n",
       "      <td>C</td>\n",
       "      <td>3601.0</td>\n",
       "      <td>3599.0</td>\n",
       "      <td>8932.0</td>\n",
       "      <td>NaN</td>\n",
       "    </tr>\n",
       "    <tr>\n",
       "      <th>1640</th>\n",
       "      <td>E</td>\n",
       "      <td>3601.0</td>\n",
       "      <td>3599.0</td>\n",
       "      <td>8934.0</td>\n",
       "      <td>NaN</td>\n",
       "    </tr>\n",
       "    <tr>\n",
       "      <th>1641</th>\n",
       "      <td>Q</td>\n",
       "      <td>8933.0</td>\n",
       "      <td>NaN</td>\n",
       "      <td>3601.0</td>\n",
       "      <td>3599.0</td>\n",
       "    </tr>\n",
       "    <tr>\n",
       "      <th>1642</th>\n",
       "      <td>C</td>\n",
       "      <td>NaN</td>\n",
       "      <td>NaN</td>\n",
       "      <td>NaN</td>\n",
       "      <td>NaN</td>\n",
       "    </tr>\n",
       "    <tr>\n",
       "      <th>1642</th>\n",
       "      <td>F</td>\n",
       "      <td>NaN</td>\n",
       "      <td>NaN</td>\n",
       "      <td>NaN</td>\n",
       "      <td>NaN</td>\n",
       "    </tr>\n",
       "    <tr>\n",
       "      <th>1643</th>\n",
       "      <td>I</td>\n",
       "      <td>NaN</td>\n",
       "      <td>NaN</td>\n",
       "      <td>3600.0</td>\n",
       "      <td>3598.0</td>\n",
       "    </tr>\n",
       "    <tr>\n",
       "      <th>1644</th>\n",
       "      <td>L</td>\n",
       "      <td>8931.0</td>\n",
       "      <td>NaN</td>\n",
       "      <td>3600.0</td>\n",
       "      <td>3599.0</td>\n",
       "    </tr>\n",
       "  </tbody>\n",
       "</table>\n",
       "</div>"
      ],
      "text/plain": [
       "           activity_code  phone_accel  phone_gyro  watch_accel  watch_gyro\n",
       "subject_id                                                                \n",
       "1607                   J          NaN         NaN       3603.0      3602.0\n",
       "1609                   B          NaN         NaN       3605.0      3603.0\n",
       "1616                   B          NaN         NaN          NaN         NaN\n",
       "1616                   F          NaN         NaN       3605.0      3603.0\n",
       "1618                   O          NaN         NaN          NaN         NaN\n",
       "1637                   C       3600.0      3598.0       8931.0         NaN\n",
       "1637                   J       3600.0      3598.0          NaN         NaN\n",
       "1638                   H       3615.0      3613.0       8931.0         NaN\n",
       "1638                   O       3601.0      3599.0       8936.0         NaN\n",
       "1639                   L       3615.0      3613.0          NaN         NaN\n",
       "1640                   C       3601.0      3599.0       8932.0         NaN\n",
       "1640                   E       3601.0      3599.0       8934.0         NaN\n",
       "1641                   Q       8933.0         NaN       3601.0      3599.0\n",
       "1642                   C          NaN         NaN          NaN         NaN\n",
       "1642                   F          NaN         NaN          NaN         NaN\n",
       "1643                   I          NaN         NaN       3600.0      3598.0\n",
       "1644                   L       8931.0         NaN       3600.0      3599.0"
      ]
     },
     "execution_count": 15,
     "metadata": {},
     "output_type": "execute_result"
    }
   ],
   "source": [
    "subject_activities_df[subject_activities_df.isna().any(axis=1)]"
   ]
  },
  {
   "cell_type": "markdown",
   "id": "returning-ecuador",
   "metadata": {},
   "source": [
    "Additional Takeaways:\n",
    "- Not all subjects performed all activities\n",
    "- Some subjects may have performed certain activites with limited sensors recording"
   ]
  },
  {
   "cell_type": "markdown",
   "id": "compressed-japanese",
   "metadata": {},
   "source": [
    "### Data Preparation\n",
    "\n",
    "Regarding data preparation, there will be two main tasks:\n",
    "1. Join the sensor data for each device by timestamp.\n",
    "2. Break each activity done by a subject into a desired window size (in seconds) to train/test on\n",
    "    - Aggregate/engineer desired features for each window \n",
    "\n",
    "In the WISDM dataset description, it was noted that the data collection process was not perfect and that their actual number of recordings didn't match their expected number of recordings. For example, they are unsure why there are so many more sensor readings for the phone accelerometer. We are placing high trust in the data collection process done by the WISDM Lab team, but are aware that there could be anomalies with an imperfect process. For example, we have already seen above that there is missing activity data for certain subjects and device sensors. That being said, we are trusting that the timestamps among sensors were accurately synced.\n",
    "\n",
    "Our go-forward approach is going to be to only use device data where it exists for both sensors.\n",
    "\n",
    "- **to_use_phone_data** = inner join phone_accel and phone_gryo data on timestamp (keep only activites where both sensor data available)\n",
    "- **to_use_watch_data** = inner join watch_accel and watch_gryo data on timestamp (keep only activites where both sensor data available)\n",
    "\n",
    "When training a model based on both phone AND watch data, we will use only activity data available with all 4 sensors."
   ]
  },
  {
   "cell_type": "code",
   "execution_count": null,
   "id": "comic-worst",
   "metadata": {},
   "outputs": [],
   "source": []
  },
  {
   "cell_type": "code",
   "execution_count": null,
   "id": "religious-liabilities",
   "metadata": {},
   "outputs": [],
   "source": []
  },
  {
   "cell_type": "markdown",
   "id": "rocky-mountain",
   "metadata": {},
   "source": [
    "<H2>Eugene experimental code section</H2>"
   ]
  },
  {
   "cell_type": "code",
   "execution_count": 16,
   "id": "boxed-justice",
   "metadata": {},
   "outputs": [],
   "source": [
    "#Run the group by strictly on the phone_gyro data"
   ]
  },
  {
   "cell_type": "code",
   "execution_count": 17,
   "id": "bright-radiation",
   "metadata": {},
   "outputs": [],
   "source": [
    "phone_gyro_grouped_df = phone_gyro_df.set_index('timestamp_dt').groupby(['subject_id', 'activity_code', pd.Grouper(freq='3S')])"
   ]
  },
  {
   "cell_type": "code",
   "execution_count": null,
   "id": "express-israel",
   "metadata": {},
   "outputs": [],
   "source": [
    "phone_gyro_grouped_interval_counts = phone_gyro_grouped_df.count()\n",
    "phone_gyro_grouped_interval_counts.head()"
   ]
  },
  {
   "cell_type": "code",
   "execution_count": null,
   "id": "catholic-baptist",
   "metadata": {},
   "outputs": [],
   "source": [
    "phone_gyro_grouped_interval_counts[phone_gyro_grouped_interval_counts['x'] < 59].compute()"
   ]
  },
  {
   "cell_type": "code",
   "execution_count": null,
   "id": "dense-wesley",
   "metadata": {},
   "outputs": [],
   "source": [
    "phone_gyro_grouped_interval_counts[phone_gyro_grouped_interval_counts['x'] > 60].compute()"
   ]
  },
  {
   "cell_type": "code",
   "execution_count": null,
   "id": "following-assessment",
   "metadata": {},
   "outputs": [],
   "source": [
    "# phone_gyro_grouped_interval_counts['x'].max().compute()\n",
    "phone_gyro_grouped_interval_counts.nlargest(100, \"x\").compute()"
   ]
  },
  {
   "cell_type": "code",
   "execution_count": 18,
   "id": "protected-leone",
   "metadata": {},
   "outputs": [
    {
     "data": {
      "text/html": [
       "<div>\n",
       "<style scoped>\n",
       "    .dataframe tbody tr th:only-of-type {\n",
       "        vertical-align: middle;\n",
       "    }\n",
       "\n",
       "    .dataframe tbody tr th {\n",
       "        vertical-align: top;\n",
       "    }\n",
       "\n",
       "    .dataframe thead th {\n",
       "        text-align: right;\n",
       "    }\n",
       "</style>\n",
       "<table border=\"1\" class=\"dataframe\">\n",
       "  <thead>\n",
       "    <tr style=\"text-align: right;\">\n",
       "      <th></th>\n",
       "      <th></th>\n",
       "      <th></th>\n",
       "      <th>timestamp_mean</th>\n",
       "      <th>timestamp_std</th>\n",
       "      <th>x_mean</th>\n",
       "      <th>x_std</th>\n",
       "      <th>y_mean</th>\n",
       "      <th>y_std</th>\n",
       "      <th>z_mean</th>\n",
       "      <th>z_std</th>\n",
       "    </tr>\n",
       "    <tr>\n",
       "      <th>subject_id</th>\n",
       "      <th>activity_code</th>\n",
       "      <th>timestamp_dt</th>\n",
       "      <th></th>\n",
       "      <th></th>\n",
       "      <th></th>\n",
       "      <th></th>\n",
       "      <th></th>\n",
       "      <th></th>\n",
       "      <th></th>\n",
       "      <th></th>\n",
       "    </tr>\n",
       "  </thead>\n",
       "  <tbody>\n",
       "    <tr>\n",
       "      <th rowspan=\"5\" valign=\"top\">1603</th>\n",
       "      <th rowspan=\"5\" valign=\"top\">A</th>\n",
       "      <th>1970-01-01 02:21:24</th>\n",
       "      <td>8.485868e+12</td>\n",
       "      <td>8.594088e+08</td>\n",
       "      <td>0.130771</td>\n",
       "      <td>1.560820</td>\n",
       "      <td>-0.017194</td>\n",
       "      <td>2.013496</td>\n",
       "      <td>-0.391190</td>\n",
       "      <td>1.040595</td>\n",
       "    </tr>\n",
       "    <tr>\n",
       "      <th>1970-01-01 02:21:27</th>\n",
       "      <td>8.488502e+12</td>\n",
       "      <td>9.483714e+08</td>\n",
       "      <td>0.071575</td>\n",
       "      <td>2.068814</td>\n",
       "      <td>0.010915</td>\n",
       "      <td>2.393875</td>\n",
       "      <td>0.114605</td>\n",
       "      <td>0.859421</td>\n",
       "    </tr>\n",
       "    <tr>\n",
       "      <th>1970-01-01 02:21:30</th>\n",
       "      <td>8.491495e+12</td>\n",
       "      <td>0.000000e+00</td>\n",
       "      <td>0.025613</td>\n",
       "      <td>1.859737</td>\n",
       "      <td>-0.055671</td>\n",
       "      <td>2.357789</td>\n",
       "      <td>0.142522</td>\n",
       "      <td>0.851089</td>\n",
       "    </tr>\n",
       "    <tr>\n",
       "      <th>1970-01-01 02:21:33</th>\n",
       "      <td>8.494488e+12</td>\n",
       "      <td>0.000000e+00</td>\n",
       "      <td>-0.092753</td>\n",
       "      <td>1.601559</td>\n",
       "      <td>0.044169</td>\n",
       "      <td>1.982819</td>\n",
       "      <td>0.132888</td>\n",
       "      <td>0.740964</td>\n",
       "    </tr>\n",
       "    <tr>\n",
       "      <th>1970-01-01 02:21:36</th>\n",
       "      <td>8.497501e+12</td>\n",
       "      <td>8.063148e+08</td>\n",
       "      <td>-0.026278</td>\n",
       "      <td>1.689287</td>\n",
       "      <td>0.007075</td>\n",
       "      <td>1.831074</td>\n",
       "      <td>0.135310</td>\n",
       "      <td>0.654597</td>\n",
       "    </tr>\n",
       "  </tbody>\n",
       "</table>\n",
       "</div>"
      ],
      "text/plain": [
       "                                              timestamp_mean  timestamp_std  \\\n",
       "subject_id activity_code timestamp_dt                                         \n",
       "1603       A             1970-01-01 02:21:24    8.485868e+12   8.594088e+08   \n",
       "                         1970-01-01 02:21:27    8.488502e+12   9.483714e+08   \n",
       "                         1970-01-01 02:21:30    8.491495e+12   0.000000e+00   \n",
       "                         1970-01-01 02:21:33    8.494488e+12   0.000000e+00   \n",
       "                         1970-01-01 02:21:36    8.497501e+12   8.063148e+08   \n",
       "\n",
       "                                                x_mean     x_std    y_mean  \\\n",
       "subject_id activity_code timestamp_dt                                        \n",
       "1603       A             1970-01-01 02:21:24  0.130771  1.560820 -0.017194   \n",
       "                         1970-01-01 02:21:27  0.071575  2.068814  0.010915   \n",
       "                         1970-01-01 02:21:30  0.025613  1.859737 -0.055671   \n",
       "                         1970-01-01 02:21:33 -0.092753  1.601559  0.044169   \n",
       "                         1970-01-01 02:21:36 -0.026278  1.689287  0.007075   \n",
       "\n",
       "                                                 y_std    z_mean     z_std  \n",
       "subject_id activity_code timestamp_dt                                       \n",
       "1603       A             1970-01-01 02:21:24  2.013496 -0.391190  1.040595  \n",
       "                         1970-01-01 02:21:27  2.393875  0.114605  0.859421  \n",
       "                         1970-01-01 02:21:30  2.357789  0.142522  0.851089  \n",
       "                         1970-01-01 02:21:33  1.982819  0.132888  0.740964  \n",
       "                         1970-01-01 02:21:36  1.831074  0.135310  0.654597  "
      ]
     },
     "execution_count": 18,
     "metadata": {},
     "output_type": "execute_result"
    }
   ],
   "source": [
    "# phone_gyro_grouped_mean_df = phone_gyro_grouped_df.mean()\n",
    "# phone_gyro_grouped_mean_df.head()\n",
    "\n",
    "phone_gyro_grouped_mean_df = phone_gyro_grouped_df.agg(['mean', 'std']).fillna(0)\n",
    "phone_gyro_grouped_mean_df.columns = phone_gyro_grouped_mean_df.columns.map('_'.join)\n",
    "phone_gyro_grouped_mean_df.head()"
   ]
  },
  {
   "cell_type": "code",
   "execution_count": null,
   "id": "elect-cleaners",
   "metadata": {},
   "outputs": [],
   "source": []
  },
  {
   "cell_type": "code",
   "execution_count": null,
   "id": "geographic-badge",
   "metadata": {},
   "outputs": [],
   "source": [
    "# phone_gyro_grouped_mean_df2 = phone_gyro_grouped_df.agg(['mean', 'std'])\n",
    "# phone_gyro_grouped_mean_df2.columns = phone_gyro_grouped_mean_df2.columns.map('_'.join)\n",
    "# phone_gyro_grouped_mean_df2.head()"
   ]
  },
  {
   "cell_type": "code",
   "execution_count": null,
   "id": "crucial-robertson",
   "metadata": {},
   "outputs": [],
   "source": [
    "# phone_gyro_grouped_mean_df['seq'] = phone_gyro_grouped_mean_df.groupby(['subject_id', 'activity_code', pd.Grouper(freq='3S')]).cumcount()\n",
    "# phone_gyro_grouped_mean_df.head()"
   ]
  },
  {
   "cell_type": "code",
   "execution_count": null,
   "id": "altered-vacation",
   "metadata": {},
   "outputs": [],
   "source": [
    "#Run the group by strictly on the phone_accel data"
   ]
  },
  {
   "cell_type": "code",
   "execution_count": 19,
   "id": "sorted-virtue",
   "metadata": {},
   "outputs": [],
   "source": [
    "phone_accel_grouped_df = phone_accel_df.set_index('timestamp_dt').groupby(['subject_id', 'activity_code', pd.Grouper(freq='3S')])"
   ]
  },
  {
   "cell_type": "code",
   "execution_count": null,
   "id": "subtle-defensive",
   "metadata": {},
   "outputs": [],
   "source": [
    "phone_accel_grouped_interval_counts = phone_accel_grouped_df.count()\n",
    "phone_accel_grouped_interval_counts.head()"
   ]
  },
  {
   "cell_type": "code",
   "execution_count": null,
   "id": "recognized-location",
   "metadata": {},
   "outputs": [],
   "source": [
    "phone_accel_grouped_interval_counts[phone_accel_grouped_interval_counts['x'] < 59].compute()"
   ]
  },
  {
   "cell_type": "code",
   "execution_count": 20,
   "id": "extraordinary-vampire",
   "metadata": {},
   "outputs": [
    {
     "data": {
      "text/html": [
       "<div>\n",
       "<style scoped>\n",
       "    .dataframe tbody tr th:only-of-type {\n",
       "        vertical-align: middle;\n",
       "    }\n",
       "\n",
       "    .dataframe tbody tr th {\n",
       "        vertical-align: top;\n",
       "    }\n",
       "\n",
       "    .dataframe thead th {\n",
       "        text-align: right;\n",
       "    }\n",
       "</style>\n",
       "<table border=\"1\" class=\"dataframe\">\n",
       "  <thead>\n",
       "    <tr style=\"text-align: right;\">\n",
       "      <th></th>\n",
       "      <th></th>\n",
       "      <th></th>\n",
       "      <th>timestamp_mean</th>\n",
       "      <th>timestamp_std</th>\n",
       "      <th>x_mean</th>\n",
       "      <th>x_std</th>\n",
       "      <th>y_mean</th>\n",
       "      <th>y_std</th>\n",
       "      <th>z_mean</th>\n",
       "      <th>z_std</th>\n",
       "    </tr>\n",
       "    <tr>\n",
       "      <th>subject_id</th>\n",
       "      <th>activity_code</th>\n",
       "      <th>timestamp_dt</th>\n",
       "      <th></th>\n",
       "      <th></th>\n",
       "      <th></th>\n",
       "      <th></th>\n",
       "      <th></th>\n",
       "      <th></th>\n",
       "      <th></th>\n",
       "      <th></th>\n",
       "    </tr>\n",
       "  </thead>\n",
       "  <tbody>\n",
       "    <tr>\n",
       "      <th rowspan=\"5\" valign=\"top\">1603</th>\n",
       "      <th rowspan=\"5\" valign=\"top\">A</th>\n",
       "      <th>1970-01-01 02:21:24</th>\n",
       "      <td>8.485868e+12</td>\n",
       "      <td>8.594088e+08</td>\n",
       "      <td>4.212986</td>\n",
       "      <td>4.628513</td>\n",
       "      <td>7.737745</td>\n",
       "      <td>4.933155</td>\n",
       "      <td>0.392429</td>\n",
       "      <td>4.481095</td>\n",
       "    </tr>\n",
       "    <tr>\n",
       "      <th>1970-01-01 02:21:27</th>\n",
       "      <td>8.488502e+12</td>\n",
       "      <td>9.483714e+08</td>\n",
       "      <td>0.559605</td>\n",
       "      <td>3.657154</td>\n",
       "      <td>9.691457</td>\n",
       "      <td>4.949684</td>\n",
       "      <td>0.405618</td>\n",
       "      <td>5.473689</td>\n",
       "    </tr>\n",
       "    <tr>\n",
       "      <th>1970-01-01 02:21:30</th>\n",
       "      <td>8.491495e+12</td>\n",
       "      <td>0.000000e+00</td>\n",
       "      <td>0.714135</td>\n",
       "      <td>3.981727</td>\n",
       "      <td>9.918300</td>\n",
       "      <td>4.833489</td>\n",
       "      <td>-0.132423</td>\n",
       "      <td>4.686573</td>\n",
       "    </tr>\n",
       "    <tr>\n",
       "      <th>1970-01-01 02:21:33</th>\n",
       "      <td>8.494488e+12</td>\n",
       "      <td>0.000000e+00</td>\n",
       "      <td>0.726632</td>\n",
       "      <td>3.442589</td>\n",
       "      <td>9.816738</td>\n",
       "      <td>4.236077</td>\n",
       "      <td>0.360471</td>\n",
       "      <td>4.312902</td>\n",
       "    </tr>\n",
       "    <tr>\n",
       "      <th>1970-01-01 02:21:36</th>\n",
       "      <td>8.497501e+12</td>\n",
       "      <td>8.063148e+08</td>\n",
       "      <td>1.110398</td>\n",
       "      <td>3.747706</td>\n",
       "      <td>9.851376</td>\n",
       "      <td>4.240831</td>\n",
       "      <td>0.614979</td>\n",
       "      <td>4.083812</td>\n",
       "    </tr>\n",
       "  </tbody>\n",
       "</table>\n",
       "</div>"
      ],
      "text/plain": [
       "                                              timestamp_mean  timestamp_std  \\\n",
       "subject_id activity_code timestamp_dt                                         \n",
       "1603       A             1970-01-01 02:21:24    8.485868e+12   8.594088e+08   \n",
       "                         1970-01-01 02:21:27    8.488502e+12   9.483714e+08   \n",
       "                         1970-01-01 02:21:30    8.491495e+12   0.000000e+00   \n",
       "                         1970-01-01 02:21:33    8.494488e+12   0.000000e+00   \n",
       "                         1970-01-01 02:21:36    8.497501e+12   8.063148e+08   \n",
       "\n",
       "                                                x_mean     x_std    y_mean  \\\n",
       "subject_id activity_code timestamp_dt                                        \n",
       "1603       A             1970-01-01 02:21:24  4.212986  4.628513  7.737745   \n",
       "                         1970-01-01 02:21:27  0.559605  3.657154  9.691457   \n",
       "                         1970-01-01 02:21:30  0.714135  3.981727  9.918300   \n",
       "                         1970-01-01 02:21:33  0.726632  3.442589  9.816738   \n",
       "                         1970-01-01 02:21:36  1.110398  3.747706  9.851376   \n",
       "\n",
       "                                                 y_std    z_mean     z_std  \n",
       "subject_id activity_code timestamp_dt                                       \n",
       "1603       A             1970-01-01 02:21:24  4.933155  0.392429  4.481095  \n",
       "                         1970-01-01 02:21:27  4.949684  0.405618  5.473689  \n",
       "                         1970-01-01 02:21:30  4.833489 -0.132423  4.686573  \n",
       "                         1970-01-01 02:21:33  4.236077  0.360471  4.312902  \n",
       "                         1970-01-01 02:21:36  4.240831  0.614979  4.083812  "
      ]
     },
     "execution_count": 20,
     "metadata": {},
     "output_type": "execute_result"
    }
   ],
   "source": [
    "# phone_accel_grouped_mean_df = phone_accel_grouped_df.mean()\n",
    "# phone_accel_grouped_mean_df.head()\n",
    "\n",
    "phone_accel_grouped_mean_df = phone_accel_grouped_df.agg(['mean', 'std']).fillna(0)\n",
    "phone_accel_grouped_mean_df.columns = phone_accel_grouped_mean_df.columns.map('_'.join)\n",
    "phone_accel_grouped_mean_df.head()"
   ]
  },
  {
   "cell_type": "code",
   "execution_count": 21,
   "id": "gross-cleaner",
   "metadata": {},
   "outputs": [],
   "source": [
    "phone_gyro_grouped_mean_df = phone_gyro_grouped_mean_df.reset_index()\n",
    "phone_accel_grouped_mean_df = phone_accel_grouped_mean_df.reset_index()"
   ]
  },
  {
   "cell_type": "code",
   "execution_count": 22,
   "id": "wound-lounge",
   "metadata": {},
   "outputs": [
    {
     "data": {
      "text/html": [
       "<div>\n",
       "<style scoped>\n",
       "    .dataframe tbody tr th:only-of-type {\n",
       "        vertical-align: middle;\n",
       "    }\n",
       "\n",
       "    .dataframe tbody tr th {\n",
       "        vertical-align: top;\n",
       "    }\n",
       "\n",
       "    .dataframe thead th {\n",
       "        text-align: right;\n",
       "    }\n",
       "</style>\n",
       "<table border=\"1\" class=\"dataframe\">\n",
       "  <thead>\n",
       "    <tr style=\"text-align: right;\">\n",
       "      <th></th>\n",
       "      <th>subject_id</th>\n",
       "      <th>activity_code</th>\n",
       "      <th>timestamp_dt</th>\n",
       "      <th>timestamp_mean</th>\n",
       "      <th>timestamp_std</th>\n",
       "      <th>x_mean</th>\n",
       "      <th>x_std</th>\n",
       "      <th>y_mean</th>\n",
       "      <th>y_std</th>\n",
       "      <th>z_mean</th>\n",
       "      <th>z_std</th>\n",
       "    </tr>\n",
       "  </thead>\n",
       "  <tbody>\n",
       "    <tr>\n",
       "      <th>0</th>\n",
       "      <td>1603</td>\n",
       "      <td>A</td>\n",
       "      <td>1970-01-01 02:21:24</td>\n",
       "      <td>8.485868e+12</td>\n",
       "      <td>8.594088e+08</td>\n",
       "      <td>0.130771</td>\n",
       "      <td>1.560820</td>\n",
       "      <td>-0.017194</td>\n",
       "      <td>2.013496</td>\n",
       "      <td>-0.391190</td>\n",
       "      <td>1.040595</td>\n",
       "    </tr>\n",
       "    <tr>\n",
       "      <th>1</th>\n",
       "      <td>1603</td>\n",
       "      <td>A</td>\n",
       "      <td>1970-01-01 02:21:27</td>\n",
       "      <td>8.488502e+12</td>\n",
       "      <td>9.483714e+08</td>\n",
       "      <td>0.071575</td>\n",
       "      <td>2.068814</td>\n",
       "      <td>0.010915</td>\n",
       "      <td>2.393875</td>\n",
       "      <td>0.114605</td>\n",
       "      <td>0.859421</td>\n",
       "    </tr>\n",
       "    <tr>\n",
       "      <th>2</th>\n",
       "      <td>1603</td>\n",
       "      <td>A</td>\n",
       "      <td>1970-01-01 02:21:30</td>\n",
       "      <td>8.491495e+12</td>\n",
       "      <td>0.000000e+00</td>\n",
       "      <td>0.025613</td>\n",
       "      <td>1.859737</td>\n",
       "      <td>-0.055671</td>\n",
       "      <td>2.357789</td>\n",
       "      <td>0.142522</td>\n",
       "      <td>0.851089</td>\n",
       "    </tr>\n",
       "    <tr>\n",
       "      <th>3</th>\n",
       "      <td>1603</td>\n",
       "      <td>A</td>\n",
       "      <td>1970-01-01 02:21:33</td>\n",
       "      <td>8.494488e+12</td>\n",
       "      <td>0.000000e+00</td>\n",
       "      <td>-0.092753</td>\n",
       "      <td>1.601559</td>\n",
       "      <td>0.044169</td>\n",
       "      <td>1.982819</td>\n",
       "      <td>0.132888</td>\n",
       "      <td>0.740964</td>\n",
       "    </tr>\n",
       "    <tr>\n",
       "      <th>4</th>\n",
       "      <td>1603</td>\n",
       "      <td>A</td>\n",
       "      <td>1970-01-01 02:21:36</td>\n",
       "      <td>8.497501e+12</td>\n",
       "      <td>8.063148e+08</td>\n",
       "      <td>-0.026278</td>\n",
       "      <td>1.689287</td>\n",
       "      <td>0.007075</td>\n",
       "      <td>1.831074</td>\n",
       "      <td>0.135310</td>\n",
       "      <td>0.654597</td>\n",
       "    </tr>\n",
       "  </tbody>\n",
       "</table>\n",
       "</div>"
      ],
      "text/plain": [
       "   subject_id activity_code        timestamp_dt  timestamp_mean  \\\n",
       "0        1603             A 1970-01-01 02:21:24    8.485868e+12   \n",
       "1        1603             A 1970-01-01 02:21:27    8.488502e+12   \n",
       "2        1603             A 1970-01-01 02:21:30    8.491495e+12   \n",
       "3        1603             A 1970-01-01 02:21:33    8.494488e+12   \n",
       "4        1603             A 1970-01-01 02:21:36    8.497501e+12   \n",
       "\n",
       "   timestamp_std    x_mean     x_std    y_mean     y_std    z_mean     z_std  \n",
       "0   8.594088e+08  0.130771  1.560820 -0.017194  2.013496 -0.391190  1.040595  \n",
       "1   9.483714e+08  0.071575  2.068814  0.010915  2.393875  0.114605  0.859421  \n",
       "2   0.000000e+00  0.025613  1.859737 -0.055671  2.357789  0.142522  0.851089  \n",
       "3   0.000000e+00 -0.092753  1.601559  0.044169  1.982819  0.132888  0.740964  \n",
       "4   8.063148e+08 -0.026278  1.689287  0.007075  1.831074  0.135310  0.654597  "
      ]
     },
     "execution_count": 22,
     "metadata": {},
     "output_type": "execute_result"
    }
   ],
   "source": [
    "phone_gyro_grouped_mean_df.head()"
   ]
  },
  {
   "cell_type": "code",
   "execution_count": 23,
   "id": "narrative-vampire",
   "metadata": {},
   "outputs": [
    {
     "data": {
      "text/html": [
       "<div>\n",
       "<style scoped>\n",
       "    .dataframe tbody tr th:only-of-type {\n",
       "        vertical-align: middle;\n",
       "    }\n",
       "\n",
       "    .dataframe tbody tr th {\n",
       "        vertical-align: top;\n",
       "    }\n",
       "\n",
       "    .dataframe thead th {\n",
       "        text-align: right;\n",
       "    }\n",
       "</style>\n",
       "<table border=\"1\" class=\"dataframe\">\n",
       "  <thead>\n",
       "    <tr style=\"text-align: right;\">\n",
       "      <th></th>\n",
       "      <th>subject_id</th>\n",
       "      <th>activity_code</th>\n",
       "      <th>timestamp_dt</th>\n",
       "      <th>timestamp_mean</th>\n",
       "      <th>timestamp_std</th>\n",
       "      <th>x_mean</th>\n",
       "      <th>x_std</th>\n",
       "      <th>y_mean</th>\n",
       "      <th>y_std</th>\n",
       "      <th>z_mean</th>\n",
       "      <th>z_std</th>\n",
       "    </tr>\n",
       "  </thead>\n",
       "  <tbody>\n",
       "    <tr>\n",
       "      <th>0</th>\n",
       "      <td>1603</td>\n",
       "      <td>A</td>\n",
       "      <td>1970-01-01 02:21:24</td>\n",
       "      <td>8.485868e+12</td>\n",
       "      <td>8.594088e+08</td>\n",
       "      <td>4.212986</td>\n",
       "      <td>4.628513</td>\n",
       "      <td>7.737745</td>\n",
       "      <td>4.933155</td>\n",
       "      <td>0.392429</td>\n",
       "      <td>4.481095</td>\n",
       "    </tr>\n",
       "    <tr>\n",
       "      <th>1</th>\n",
       "      <td>1603</td>\n",
       "      <td>A</td>\n",
       "      <td>1970-01-01 02:21:27</td>\n",
       "      <td>8.488502e+12</td>\n",
       "      <td>9.483714e+08</td>\n",
       "      <td>0.559605</td>\n",
       "      <td>3.657154</td>\n",
       "      <td>9.691457</td>\n",
       "      <td>4.949684</td>\n",
       "      <td>0.405618</td>\n",
       "      <td>5.473689</td>\n",
       "    </tr>\n",
       "    <tr>\n",
       "      <th>2</th>\n",
       "      <td>1603</td>\n",
       "      <td>A</td>\n",
       "      <td>1970-01-01 02:21:30</td>\n",
       "      <td>8.491495e+12</td>\n",
       "      <td>0.000000e+00</td>\n",
       "      <td>0.714135</td>\n",
       "      <td>3.981727</td>\n",
       "      <td>9.918300</td>\n",
       "      <td>4.833489</td>\n",
       "      <td>-0.132423</td>\n",
       "      <td>4.686573</td>\n",
       "    </tr>\n",
       "    <tr>\n",
       "      <th>3</th>\n",
       "      <td>1603</td>\n",
       "      <td>A</td>\n",
       "      <td>1970-01-01 02:21:33</td>\n",
       "      <td>8.494488e+12</td>\n",
       "      <td>0.000000e+00</td>\n",
       "      <td>0.726632</td>\n",
       "      <td>3.442589</td>\n",
       "      <td>9.816738</td>\n",
       "      <td>4.236077</td>\n",
       "      <td>0.360471</td>\n",
       "      <td>4.312902</td>\n",
       "    </tr>\n",
       "    <tr>\n",
       "      <th>4</th>\n",
       "      <td>1603</td>\n",
       "      <td>A</td>\n",
       "      <td>1970-01-01 02:21:36</td>\n",
       "      <td>8.497501e+12</td>\n",
       "      <td>8.063148e+08</td>\n",
       "      <td>1.110398</td>\n",
       "      <td>3.747706</td>\n",
       "      <td>9.851376</td>\n",
       "      <td>4.240831</td>\n",
       "      <td>0.614979</td>\n",
       "      <td>4.083812</td>\n",
       "    </tr>\n",
       "  </tbody>\n",
       "</table>\n",
       "</div>"
      ],
      "text/plain": [
       "   subject_id activity_code        timestamp_dt  timestamp_mean  \\\n",
       "0        1603             A 1970-01-01 02:21:24    8.485868e+12   \n",
       "1        1603             A 1970-01-01 02:21:27    8.488502e+12   \n",
       "2        1603             A 1970-01-01 02:21:30    8.491495e+12   \n",
       "3        1603             A 1970-01-01 02:21:33    8.494488e+12   \n",
       "4        1603             A 1970-01-01 02:21:36    8.497501e+12   \n",
       "\n",
       "   timestamp_std    x_mean     x_std    y_mean     y_std    z_mean     z_std  \n",
       "0   8.594088e+08  4.212986  4.628513  7.737745  4.933155  0.392429  4.481095  \n",
       "1   9.483714e+08  0.559605  3.657154  9.691457  4.949684  0.405618  5.473689  \n",
       "2   0.000000e+00  0.714135  3.981727  9.918300  4.833489 -0.132423  4.686573  \n",
       "3   0.000000e+00  0.726632  3.442589  9.816738  4.236077  0.360471  4.312902  \n",
       "4   8.063148e+08  1.110398  3.747706  9.851376  4.240831  0.614979  4.083812  "
      ]
     },
     "execution_count": 23,
     "metadata": {},
     "output_type": "execute_result"
    }
   ],
   "source": [
    "phone_accel_grouped_mean_df.head()"
   ]
  },
  {
   "cell_type": "code",
   "execution_count": 24,
   "id": "encouraging-ladder",
   "metadata": {},
   "outputs": [
    {
     "data": {
      "text/html": [
       "<div>\n",
       "<style scoped>\n",
       "    .dataframe tbody tr th:only-of-type {\n",
       "        vertical-align: middle;\n",
       "    }\n",
       "\n",
       "    .dataframe tbody tr th {\n",
       "        vertical-align: top;\n",
       "    }\n",
       "\n",
       "    .dataframe thead th {\n",
       "        text-align: right;\n",
       "    }\n",
       "</style>\n",
       "<table border=\"1\" class=\"dataframe\">\n",
       "  <thead>\n",
       "    <tr style=\"text-align: right;\">\n",
       "      <th></th>\n",
       "      <th>subject_id</th>\n",
       "      <th>activity_code</th>\n",
       "      <th>timestamp_dt</th>\n",
       "      <th>timestamp_mean_accel</th>\n",
       "      <th>timestamp_std_accel</th>\n",
       "      <th>x_mean_accel</th>\n",
       "      <th>x_std_accel</th>\n",
       "      <th>y_mean_accel</th>\n",
       "      <th>y_std_accel</th>\n",
       "      <th>z_mean_accel</th>\n",
       "      <th>z_std_accel</th>\n",
       "      <th>timestamp_mean_gyro</th>\n",
       "      <th>timestamp_std_gyro</th>\n",
       "      <th>x_mean_gyro</th>\n",
       "      <th>x_std_gyro</th>\n",
       "      <th>y_mean_gyro</th>\n",
       "      <th>y_std_gyro</th>\n",
       "      <th>z_mean_gyro</th>\n",
       "      <th>z_std_gyro</th>\n",
       "    </tr>\n",
       "  </thead>\n",
       "  <tbody>\n",
       "    <tr>\n",
       "      <th>0</th>\n",
       "      <td>1603</td>\n",
       "      <td>A</td>\n",
       "      <td>1970-01-01 02:21:24</td>\n",
       "      <td>8.485868e+12</td>\n",
       "      <td>8.594088e+08</td>\n",
       "      <td>4.212986</td>\n",
       "      <td>4.628513</td>\n",
       "      <td>7.737745</td>\n",
       "      <td>4.933155</td>\n",
       "      <td>0.392429</td>\n",
       "      <td>4.481095</td>\n",
       "      <td>8.485868e+12</td>\n",
       "      <td>8.594088e+08</td>\n",
       "      <td>0.130771</td>\n",
       "      <td>1.560820</td>\n",
       "      <td>-0.017194</td>\n",
       "      <td>2.013496</td>\n",
       "      <td>-0.391190</td>\n",
       "      <td>1.040595</td>\n",
       "    </tr>\n",
       "    <tr>\n",
       "      <th>1</th>\n",
       "      <td>1603</td>\n",
       "      <td>A</td>\n",
       "      <td>1970-01-01 02:21:27</td>\n",
       "      <td>8.488502e+12</td>\n",
       "      <td>9.483714e+08</td>\n",
       "      <td>0.559605</td>\n",
       "      <td>3.657154</td>\n",
       "      <td>9.691457</td>\n",
       "      <td>4.949684</td>\n",
       "      <td>0.405618</td>\n",
       "      <td>5.473689</td>\n",
       "      <td>8.488502e+12</td>\n",
       "      <td>9.483714e+08</td>\n",
       "      <td>0.071575</td>\n",
       "      <td>2.068814</td>\n",
       "      <td>0.010915</td>\n",
       "      <td>2.393875</td>\n",
       "      <td>0.114605</td>\n",
       "      <td>0.859421</td>\n",
       "    </tr>\n",
       "    <tr>\n",
       "      <th>2</th>\n",
       "      <td>1603</td>\n",
       "      <td>A</td>\n",
       "      <td>1970-01-01 02:21:30</td>\n",
       "      <td>8.491495e+12</td>\n",
       "      <td>0.000000e+00</td>\n",
       "      <td>0.714135</td>\n",
       "      <td>3.981727</td>\n",
       "      <td>9.918300</td>\n",
       "      <td>4.833489</td>\n",
       "      <td>-0.132423</td>\n",
       "      <td>4.686573</td>\n",
       "      <td>8.491495e+12</td>\n",
       "      <td>0.000000e+00</td>\n",
       "      <td>0.025613</td>\n",
       "      <td>1.859737</td>\n",
       "      <td>-0.055671</td>\n",
       "      <td>2.357789</td>\n",
       "      <td>0.142522</td>\n",
       "      <td>0.851089</td>\n",
       "    </tr>\n",
       "    <tr>\n",
       "      <th>3</th>\n",
       "      <td>1603</td>\n",
       "      <td>A</td>\n",
       "      <td>1970-01-01 02:21:33</td>\n",
       "      <td>8.494488e+12</td>\n",
       "      <td>0.000000e+00</td>\n",
       "      <td>0.726632</td>\n",
       "      <td>3.442589</td>\n",
       "      <td>9.816738</td>\n",
       "      <td>4.236077</td>\n",
       "      <td>0.360471</td>\n",
       "      <td>4.312902</td>\n",
       "      <td>8.494488e+12</td>\n",
       "      <td>0.000000e+00</td>\n",
       "      <td>-0.092753</td>\n",
       "      <td>1.601559</td>\n",
       "      <td>0.044169</td>\n",
       "      <td>1.982819</td>\n",
       "      <td>0.132888</td>\n",
       "      <td>0.740964</td>\n",
       "    </tr>\n",
       "    <tr>\n",
       "      <th>4</th>\n",
       "      <td>1603</td>\n",
       "      <td>A</td>\n",
       "      <td>1970-01-01 02:21:36</td>\n",
       "      <td>8.497501e+12</td>\n",
       "      <td>8.063148e+08</td>\n",
       "      <td>1.110398</td>\n",
       "      <td>3.747706</td>\n",
       "      <td>9.851376</td>\n",
       "      <td>4.240831</td>\n",
       "      <td>0.614979</td>\n",
       "      <td>4.083812</td>\n",
       "      <td>8.497501e+12</td>\n",
       "      <td>8.063148e+08</td>\n",
       "      <td>-0.026278</td>\n",
       "      <td>1.689287</td>\n",
       "      <td>0.007075</td>\n",
       "      <td>1.831074</td>\n",
       "      <td>0.135310</td>\n",
       "      <td>0.654597</td>\n",
       "    </tr>\n",
       "  </tbody>\n",
       "</table>\n",
       "</div>"
      ],
      "text/plain": [
       "   subject_id activity_code        timestamp_dt  timestamp_mean_accel  \\\n",
       "0        1603             A 1970-01-01 02:21:24          8.485868e+12   \n",
       "1        1603             A 1970-01-01 02:21:27          8.488502e+12   \n",
       "2        1603             A 1970-01-01 02:21:30          8.491495e+12   \n",
       "3        1603             A 1970-01-01 02:21:33          8.494488e+12   \n",
       "4        1603             A 1970-01-01 02:21:36          8.497501e+12   \n",
       "\n",
       "   timestamp_std_accel  x_mean_accel  x_std_accel  y_mean_accel  y_std_accel  \\\n",
       "0         8.594088e+08      4.212986     4.628513      7.737745     4.933155   \n",
       "1         9.483714e+08      0.559605     3.657154      9.691457     4.949684   \n",
       "2         0.000000e+00      0.714135     3.981727      9.918300     4.833489   \n",
       "3         0.000000e+00      0.726632     3.442589      9.816738     4.236077   \n",
       "4         8.063148e+08      1.110398     3.747706      9.851376     4.240831   \n",
       "\n",
       "   z_mean_accel  z_std_accel  timestamp_mean_gyro  timestamp_std_gyro  \\\n",
       "0      0.392429     4.481095         8.485868e+12        8.594088e+08   \n",
       "1      0.405618     5.473689         8.488502e+12        9.483714e+08   \n",
       "2     -0.132423     4.686573         8.491495e+12        0.000000e+00   \n",
       "3      0.360471     4.312902         8.494488e+12        0.000000e+00   \n",
       "4      0.614979     4.083812         8.497501e+12        8.063148e+08   \n",
       "\n",
       "   x_mean_gyro  x_std_gyro  y_mean_gyro  y_std_gyro  z_mean_gyro  z_std_gyro  \n",
       "0     0.130771    1.560820    -0.017194    2.013496    -0.391190    1.040595  \n",
       "1     0.071575    2.068814     0.010915    2.393875     0.114605    0.859421  \n",
       "2     0.025613    1.859737    -0.055671    2.357789     0.142522    0.851089  \n",
       "3    -0.092753    1.601559     0.044169    1.982819     0.132888    0.740964  \n",
       "4    -0.026278    1.689287     0.007075    1.831074     0.135310    0.654597  "
      ]
     },
     "execution_count": 24,
     "metadata": {},
     "output_type": "execute_result"
    }
   ],
   "source": [
    "phone_grouped_means_df = phone_accel_grouped_mean_df.merge(phone_gyro_grouped_mean_df, on=[\"subject_id\", \"activity_code\", \"timestamp_dt\"], how=\"inner\", suffixes=['_accel', '_gyro'])\n",
    "# phone_grouped_means_df = phone_grouped_means_df.drop(['timestamp_gyro'], axis=1)\n",
    "# phone_grouped_means_df = phone_grouped_means_df.rename(columns={'timestamp_accel': 'timestamp'})\n",
    "phone_grouped_means_df.head()"
   ]
  },
  {
   "cell_type": "code",
   "execution_count": 25,
   "id": "hairy-keeping",
   "metadata": {},
   "outputs": [
    {
     "data": {
      "text/plain": [
       "55249"
      ]
     },
     "execution_count": 25,
     "metadata": {},
     "output_type": "execute_result"
    }
   ],
   "source": [
    "len(phone_grouped_means_df)"
   ]
  },
  {
   "cell_type": "code",
   "execution_count": null,
   "id": "adjustable-ecuador",
   "metadata": {},
   "outputs": [],
   "source": [
    "#Run the group by strictly on the watch_gyro data"
   ]
  },
  {
   "cell_type": "code",
   "execution_count": 26,
   "id": "military-mention",
   "metadata": {},
   "outputs": [],
   "source": [
    "watch_gyro_grouped_df = watch_gyro_df.set_index('timestamp_dt').groupby(['subject_id', 'activity_code', pd.Grouper(freq='3S')])"
   ]
  },
  {
   "cell_type": "code",
   "execution_count": null,
   "id": "roman-thompson",
   "metadata": {},
   "outputs": [],
   "source": [
    "watch_gyro_grouped_interval_counts = watch_gyro_grouped_df.count()\n",
    "watch_gyro_grouped_interval_counts.head()"
   ]
  },
  {
   "cell_type": "code",
   "execution_count": null,
   "id": "hollywood-chest",
   "metadata": {},
   "outputs": [],
   "source": [
    "watch_gyro_grouped_interval_counts[watch_gyro_grouped_interval_counts['x'] < 59].compute()"
   ]
  },
  {
   "cell_type": "code",
   "execution_count": null,
   "id": "entitled-concrete",
   "metadata": {},
   "outputs": [],
   "source": [
    "watch_gyro_grouped_interval_counts[watch_gyro_grouped_interval_counts['x'] > 60].compute()"
   ]
  },
  {
   "cell_type": "code",
   "execution_count": null,
   "id": "wrapped-invention",
   "metadata": {},
   "outputs": [],
   "source": [
    "# watch_gyro_grouped_interval_counts['x'].max().compute()\n",
    "watch_gyro_grouped_interval_counts.nlargest(100, \"x\").compute()"
   ]
  },
  {
   "cell_type": "code",
   "execution_count": 27,
   "id": "silver-macintosh",
   "metadata": {},
   "outputs": [
    {
     "data": {
      "text/html": [
       "<div>\n",
       "<style scoped>\n",
       "    .dataframe tbody tr th:only-of-type {\n",
       "        vertical-align: middle;\n",
       "    }\n",
       "\n",
       "    .dataframe tbody tr th {\n",
       "        vertical-align: top;\n",
       "    }\n",
       "\n",
       "    .dataframe thead th {\n",
       "        text-align: right;\n",
       "    }\n",
       "</style>\n",
       "<table border=\"1\" class=\"dataframe\">\n",
       "  <thead>\n",
       "    <tr style=\"text-align: right;\">\n",
       "      <th></th>\n",
       "      <th></th>\n",
       "      <th></th>\n",
       "      <th>timestamp_mean</th>\n",
       "      <th>timestamp_std</th>\n",
       "      <th>x_mean</th>\n",
       "      <th>x_std</th>\n",
       "      <th>y_mean</th>\n",
       "      <th>y_std</th>\n",
       "      <th>z_mean</th>\n",
       "      <th>z_std</th>\n",
       "    </tr>\n",
       "    <tr>\n",
       "      <th>subject_id</th>\n",
       "      <th>activity_code</th>\n",
       "      <th>timestamp_dt</th>\n",
       "      <th></th>\n",
       "      <th></th>\n",
       "      <th></th>\n",
       "      <th></th>\n",
       "      <th></th>\n",
       "      <th></th>\n",
       "      <th></th>\n",
       "      <th></th>\n",
       "    </tr>\n",
       "  </thead>\n",
       "  <tbody>\n",
       "    <tr>\n",
       "      <th rowspan=\"5\" valign=\"top\">1603</th>\n",
       "      <th rowspan=\"5\" valign=\"top\">A</th>\n",
       "      <th>1970-01-01 02:16:48</th>\n",
       "      <td>8.209871e+12</td>\n",
       "      <td>1.057419e+09</td>\n",
       "      <td>0.258547</td>\n",
       "      <td>1.800947</td>\n",
       "      <td>0.293847</td>\n",
       "      <td>1.139514</td>\n",
       "      <td>0.172260</td>\n",
       "      <td>2.148195</td>\n",
       "    </tr>\n",
       "    <tr>\n",
       "      <th>1970-01-01 02:16:51</th>\n",
       "      <td>8.212519e+12</td>\n",
       "      <td>0.000000e+00</td>\n",
       "      <td>0.073079</td>\n",
       "      <td>1.785556</td>\n",
       "      <td>0.028109</td>\n",
       "      <td>1.960544</td>\n",
       "      <td>0.147318</td>\n",
       "      <td>2.951272</td>\n",
       "    </tr>\n",
       "    <tr>\n",
       "      <th>1970-01-01 02:16:54</th>\n",
       "      <td>8.215517e+12</td>\n",
       "      <td>1.184152e+09</td>\n",
       "      <td>0.111219</td>\n",
       "      <td>2.267612</td>\n",
       "      <td>0.203831</td>\n",
       "      <td>2.046423</td>\n",
       "      <td>-0.018047</td>\n",
       "      <td>3.034343</td>\n",
       "    </tr>\n",
       "    <tr>\n",
       "      <th>1970-01-01 02:16:57</th>\n",
       "      <td>8.218515e+12</td>\n",
       "      <td>0.000000e+00</td>\n",
       "      <td>0.225818</td>\n",
       "      <td>2.417827</td>\n",
       "      <td>0.268076</td>\n",
       "      <td>1.870087</td>\n",
       "      <td>-0.090841</td>\n",
       "      <td>2.640429</td>\n",
       "    </tr>\n",
       "    <tr>\n",
       "      <th>1970-01-01 02:17:00</th>\n",
       "      <td>8.221513e+12</td>\n",
       "      <td>6.660055e+08</td>\n",
       "      <td>0.039034</td>\n",
       "      <td>1.675469</td>\n",
       "      <td>0.181341</td>\n",
       "      <td>1.457610</td>\n",
       "      <td>-0.105169</td>\n",
       "      <td>2.516248</td>\n",
       "    </tr>\n",
       "  </tbody>\n",
       "</table>\n",
       "</div>"
      ],
      "text/plain": [
       "                                              timestamp_mean  timestamp_std  \\\n",
       "subject_id activity_code timestamp_dt                                         \n",
       "1603       A             1970-01-01 02:16:48    8.209871e+12   1.057419e+09   \n",
       "                         1970-01-01 02:16:51    8.212519e+12   0.000000e+00   \n",
       "                         1970-01-01 02:16:54    8.215517e+12   1.184152e+09   \n",
       "                         1970-01-01 02:16:57    8.218515e+12   0.000000e+00   \n",
       "                         1970-01-01 02:17:00    8.221513e+12   6.660055e+08   \n",
       "\n",
       "                                                x_mean     x_std    y_mean  \\\n",
       "subject_id activity_code timestamp_dt                                        \n",
       "1603       A             1970-01-01 02:16:48  0.258547  1.800947  0.293847   \n",
       "                         1970-01-01 02:16:51  0.073079  1.785556  0.028109   \n",
       "                         1970-01-01 02:16:54  0.111219  2.267612  0.203831   \n",
       "                         1970-01-01 02:16:57  0.225818  2.417827  0.268076   \n",
       "                         1970-01-01 02:17:00  0.039034  1.675469  0.181341   \n",
       "\n",
       "                                                 y_std    z_mean     z_std  \n",
       "subject_id activity_code timestamp_dt                                       \n",
       "1603       A             1970-01-01 02:16:48  1.139514  0.172260  2.148195  \n",
       "                         1970-01-01 02:16:51  1.960544  0.147318  2.951272  \n",
       "                         1970-01-01 02:16:54  2.046423 -0.018047  3.034343  \n",
       "                         1970-01-01 02:16:57  1.870087 -0.090841  2.640429  \n",
       "                         1970-01-01 02:17:00  1.457610 -0.105169  2.516248  "
      ]
     },
     "execution_count": 27,
     "metadata": {},
     "output_type": "execute_result"
    }
   ],
   "source": [
    "# watch_gyro_grouped_mean_df = watch_gyro_grouped_df.mean()\n",
    "# watch_gyro_grouped_mean_df.head()\n",
    "\n",
    "watch_gyro_grouped_mean_df = watch_gyro_grouped_df.agg(['mean', 'std']).fillna(0)\n",
    "watch_gyro_grouped_mean_df.columns = watch_gyro_grouped_mean_df.columns.map('_'.join)\n",
    "watch_gyro_grouped_mean_df.head()"
   ]
  },
  {
   "cell_type": "code",
   "execution_count": null,
   "id": "immediate-asthma",
   "metadata": {},
   "outputs": [],
   "source": [
    "#Run the group by strictly on the watch_accel data"
   ]
  },
  {
   "cell_type": "code",
   "execution_count": 28,
   "id": "rural-asset",
   "metadata": {},
   "outputs": [],
   "source": [
    "watch_accel_grouped_df = watch_accel_df.set_index('timestamp_dt').groupby(['subject_id', 'activity_code', pd.Grouper(freq='3S')])"
   ]
  },
  {
   "cell_type": "code",
   "execution_count": null,
   "id": "adaptive-hardware",
   "metadata": {},
   "outputs": [],
   "source": [
    "watch_accel_grouped_interval_counts = watch_accel_grouped_df.count()\n",
    "watch_accel_grouped_interval_counts.head()"
   ]
  },
  {
   "cell_type": "code",
   "execution_count": null,
   "id": "bibliographic-thumbnail",
   "metadata": {},
   "outputs": [],
   "source": [
    "watch_accel_grouped_interval_counts[watch_accel_grouped_interval_counts['x'] < 59].compute()"
   ]
  },
  {
   "cell_type": "code",
   "execution_count": null,
   "id": "technological-parks",
   "metadata": {},
   "outputs": [],
   "source": [
    "watch_accel_grouped_interval_counts[watch_accel_grouped_interval_counts['x'] > 60].compute()"
   ]
  },
  {
   "cell_type": "code",
   "execution_count": null,
   "id": "completed-hayes",
   "metadata": {},
   "outputs": [],
   "source": [
    "# watch_accel_grouped_interval_counts['x'].max().compute()\n",
    "watch_accel_grouped_interval_counts.nlargest(100, \"x\").compute()"
   ]
  },
  {
   "cell_type": "code",
   "execution_count": 29,
   "id": "subsequent-country",
   "metadata": {},
   "outputs": [
    {
     "data": {
      "text/html": [
       "<div>\n",
       "<style scoped>\n",
       "    .dataframe tbody tr th:only-of-type {\n",
       "        vertical-align: middle;\n",
       "    }\n",
       "\n",
       "    .dataframe tbody tr th {\n",
       "        vertical-align: top;\n",
       "    }\n",
       "\n",
       "    .dataframe thead th {\n",
       "        text-align: right;\n",
       "    }\n",
       "</style>\n",
       "<table border=\"1\" class=\"dataframe\">\n",
       "  <thead>\n",
       "    <tr style=\"text-align: right;\">\n",
       "      <th></th>\n",
       "      <th></th>\n",
       "      <th></th>\n",
       "      <th>timestamp_mean</th>\n",
       "      <th>timestamp_std</th>\n",
       "      <th>x_mean</th>\n",
       "      <th>x_std</th>\n",
       "      <th>y_mean</th>\n",
       "      <th>y_std</th>\n",
       "      <th>z_mean</th>\n",
       "      <th>z_std</th>\n",
       "    </tr>\n",
       "    <tr>\n",
       "      <th>subject_id</th>\n",
       "      <th>activity_code</th>\n",
       "      <th>timestamp_dt</th>\n",
       "      <th></th>\n",
       "      <th></th>\n",
       "      <th></th>\n",
       "      <th></th>\n",
       "      <th></th>\n",
       "      <th></th>\n",
       "      <th></th>\n",
       "      <th></th>\n",
       "    </tr>\n",
       "  </thead>\n",
       "  <tbody>\n",
       "    <tr>\n",
       "      <th rowspan=\"5\" valign=\"top\">1603</th>\n",
       "      <th rowspan=\"5\" valign=\"top\">A</th>\n",
       "      <th>1970-01-01 02:16:48</th>\n",
       "      <td>8.209871e+12</td>\n",
       "      <td>1.057419e+09</td>\n",
       "      <td>10.971969</td>\n",
       "      <td>2.463573</td>\n",
       "      <td>-1.710755</td>\n",
       "      <td>3.081793</td>\n",
       "      <td>-2.138438</td>\n",
       "      <td>2.455856</td>\n",
       "    </tr>\n",
       "    <tr>\n",
       "      <th>1970-01-01 02:16:51</th>\n",
       "      <td>8.212519e+12</td>\n",
       "      <td>0.000000e+00</td>\n",
       "      <td>13.317089</td>\n",
       "      <td>3.006993</td>\n",
       "      <td>-1.427652</td>\n",
       "      <td>3.426723</td>\n",
       "      <td>-1.287362</td>\n",
       "      <td>2.940808</td>\n",
       "    </tr>\n",
       "    <tr>\n",
       "      <th>1970-01-01 02:16:54</th>\n",
       "      <td>8.215517e+12</td>\n",
       "      <td>1.184152e+09</td>\n",
       "      <td>13.485122</td>\n",
       "      <td>2.963782</td>\n",
       "      <td>-1.719705</td>\n",
       "      <td>3.342998</td>\n",
       "      <td>-1.938705</td>\n",
       "      <td>2.519909</td>\n",
       "    </tr>\n",
       "    <tr>\n",
       "      <th>1970-01-01 02:16:57</th>\n",
       "      <td>8.218515e+12</td>\n",
       "      <td>0.000000e+00</td>\n",
       "      <td>12.623339</td>\n",
       "      <td>2.569088</td>\n",
       "      <td>-1.817349</td>\n",
       "      <td>2.517277</td>\n",
       "      <td>-2.037466</td>\n",
       "      <td>2.532273</td>\n",
       "    </tr>\n",
       "    <tr>\n",
       "      <th>1970-01-01 02:17:00</th>\n",
       "      <td>8.221513e+12</td>\n",
       "      <td>6.660055e+08</td>\n",
       "      <td>11.856955</td>\n",
       "      <td>1.774415</td>\n",
       "      <td>-1.782553</td>\n",
       "      <td>2.348758</td>\n",
       "      <td>-1.714807</td>\n",
       "      <td>1.618585</td>\n",
       "    </tr>\n",
       "  </tbody>\n",
       "</table>\n",
       "</div>"
      ],
      "text/plain": [
       "                                              timestamp_mean  timestamp_std  \\\n",
       "subject_id activity_code timestamp_dt                                         \n",
       "1603       A             1970-01-01 02:16:48    8.209871e+12   1.057419e+09   \n",
       "                         1970-01-01 02:16:51    8.212519e+12   0.000000e+00   \n",
       "                         1970-01-01 02:16:54    8.215517e+12   1.184152e+09   \n",
       "                         1970-01-01 02:16:57    8.218515e+12   0.000000e+00   \n",
       "                         1970-01-01 02:17:00    8.221513e+12   6.660055e+08   \n",
       "\n",
       "                                                 x_mean     x_std    y_mean  \\\n",
       "subject_id activity_code timestamp_dt                                         \n",
       "1603       A             1970-01-01 02:16:48  10.971969  2.463573 -1.710755   \n",
       "                         1970-01-01 02:16:51  13.317089  3.006993 -1.427652   \n",
       "                         1970-01-01 02:16:54  13.485122  2.963782 -1.719705   \n",
       "                         1970-01-01 02:16:57  12.623339  2.569088 -1.817349   \n",
       "                         1970-01-01 02:17:00  11.856955  1.774415 -1.782553   \n",
       "\n",
       "                                                 y_std    z_mean     z_std  \n",
       "subject_id activity_code timestamp_dt                                       \n",
       "1603       A             1970-01-01 02:16:48  3.081793 -2.138438  2.455856  \n",
       "                         1970-01-01 02:16:51  3.426723 -1.287362  2.940808  \n",
       "                         1970-01-01 02:16:54  3.342998 -1.938705  2.519909  \n",
       "                         1970-01-01 02:16:57  2.517277 -2.037466  2.532273  \n",
       "                         1970-01-01 02:17:00  2.348758 -1.714807  1.618585  "
      ]
     },
     "execution_count": 29,
     "metadata": {},
     "output_type": "execute_result"
    }
   ],
   "source": [
    "# watch_accel_grouped_mean_df = watch_accel_grouped_df.mean()\n",
    "# watch_accel_grouped_mean_df.head()\n",
    "\n",
    "watch_accel_grouped_mean_df = watch_accel_grouped_df.agg(['mean', 'std']).fillna(0)\n",
    "watch_accel_grouped_mean_df.columns = watch_accel_grouped_mean_df.columns.map('_'.join)\n",
    "watch_accel_grouped_mean_df.head()"
   ]
  },
  {
   "cell_type": "code",
   "execution_count": 30,
   "id": "toxic-sigma",
   "metadata": {},
   "outputs": [],
   "source": [
    "watch_gyro_grouped_mean_df = watch_gyro_grouped_mean_df.reset_index()\n",
    "watch_accel_grouped_mean_df = watch_accel_grouped_mean_df.reset_index()"
   ]
  },
  {
   "cell_type": "code",
   "execution_count": 31,
   "id": "pointed-performance",
   "metadata": {},
   "outputs": [
    {
     "data": {
      "text/html": [
       "<div>\n",
       "<style scoped>\n",
       "    .dataframe tbody tr th:only-of-type {\n",
       "        vertical-align: middle;\n",
       "    }\n",
       "\n",
       "    .dataframe tbody tr th {\n",
       "        vertical-align: top;\n",
       "    }\n",
       "\n",
       "    .dataframe thead th {\n",
       "        text-align: right;\n",
       "    }\n",
       "</style>\n",
       "<table border=\"1\" class=\"dataframe\">\n",
       "  <thead>\n",
       "    <tr style=\"text-align: right;\">\n",
       "      <th></th>\n",
       "      <th>subject_id</th>\n",
       "      <th>activity_code</th>\n",
       "      <th>timestamp_dt</th>\n",
       "      <th>timestamp_mean</th>\n",
       "      <th>timestamp_std</th>\n",
       "      <th>x_mean</th>\n",
       "      <th>x_std</th>\n",
       "      <th>y_mean</th>\n",
       "      <th>y_std</th>\n",
       "      <th>z_mean</th>\n",
       "      <th>z_std</th>\n",
       "    </tr>\n",
       "  </thead>\n",
       "  <tbody>\n",
       "    <tr>\n",
       "      <th>0</th>\n",
       "      <td>1603</td>\n",
       "      <td>A</td>\n",
       "      <td>1970-01-01 02:16:48</td>\n",
       "      <td>8.209871e+12</td>\n",
       "      <td>1.057419e+09</td>\n",
       "      <td>0.258547</td>\n",
       "      <td>1.800947</td>\n",
       "      <td>0.293847</td>\n",
       "      <td>1.139514</td>\n",
       "      <td>0.172260</td>\n",
       "      <td>2.148195</td>\n",
       "    </tr>\n",
       "    <tr>\n",
       "      <th>1</th>\n",
       "      <td>1603</td>\n",
       "      <td>A</td>\n",
       "      <td>1970-01-01 02:16:51</td>\n",
       "      <td>8.212519e+12</td>\n",
       "      <td>0.000000e+00</td>\n",
       "      <td>0.073079</td>\n",
       "      <td>1.785556</td>\n",
       "      <td>0.028109</td>\n",
       "      <td>1.960544</td>\n",
       "      <td>0.147318</td>\n",
       "      <td>2.951272</td>\n",
       "    </tr>\n",
       "    <tr>\n",
       "      <th>2</th>\n",
       "      <td>1603</td>\n",
       "      <td>A</td>\n",
       "      <td>1970-01-01 02:16:54</td>\n",
       "      <td>8.215517e+12</td>\n",
       "      <td>1.184152e+09</td>\n",
       "      <td>0.111219</td>\n",
       "      <td>2.267612</td>\n",
       "      <td>0.203831</td>\n",
       "      <td>2.046423</td>\n",
       "      <td>-0.018047</td>\n",
       "      <td>3.034343</td>\n",
       "    </tr>\n",
       "    <tr>\n",
       "      <th>3</th>\n",
       "      <td>1603</td>\n",
       "      <td>A</td>\n",
       "      <td>1970-01-01 02:16:57</td>\n",
       "      <td>8.218515e+12</td>\n",
       "      <td>0.000000e+00</td>\n",
       "      <td>0.225818</td>\n",
       "      <td>2.417827</td>\n",
       "      <td>0.268076</td>\n",
       "      <td>1.870087</td>\n",
       "      <td>-0.090841</td>\n",
       "      <td>2.640429</td>\n",
       "    </tr>\n",
       "    <tr>\n",
       "      <th>4</th>\n",
       "      <td>1603</td>\n",
       "      <td>A</td>\n",
       "      <td>1970-01-01 02:17:00</td>\n",
       "      <td>8.221513e+12</td>\n",
       "      <td>6.660055e+08</td>\n",
       "      <td>0.039034</td>\n",
       "      <td>1.675469</td>\n",
       "      <td>0.181341</td>\n",
       "      <td>1.457610</td>\n",
       "      <td>-0.105169</td>\n",
       "      <td>2.516248</td>\n",
       "    </tr>\n",
       "  </tbody>\n",
       "</table>\n",
       "</div>"
      ],
      "text/plain": [
       "   subject_id activity_code        timestamp_dt  timestamp_mean  \\\n",
       "0        1603             A 1970-01-01 02:16:48    8.209871e+12   \n",
       "1        1603             A 1970-01-01 02:16:51    8.212519e+12   \n",
       "2        1603             A 1970-01-01 02:16:54    8.215517e+12   \n",
       "3        1603             A 1970-01-01 02:16:57    8.218515e+12   \n",
       "4        1603             A 1970-01-01 02:17:00    8.221513e+12   \n",
       "\n",
       "   timestamp_std    x_mean     x_std    y_mean     y_std    z_mean     z_std  \n",
       "0   1.057419e+09  0.258547  1.800947  0.293847  1.139514  0.172260  2.148195  \n",
       "1   0.000000e+00  0.073079  1.785556  0.028109  1.960544  0.147318  2.951272  \n",
       "2   1.184152e+09  0.111219  2.267612  0.203831  2.046423 -0.018047  3.034343  \n",
       "3   0.000000e+00  0.225818  2.417827  0.268076  1.870087 -0.090841  2.640429  \n",
       "4   6.660055e+08  0.039034  1.675469  0.181341  1.457610 -0.105169  2.516248  "
      ]
     },
     "execution_count": 31,
     "metadata": {},
     "output_type": "execute_result"
    }
   ],
   "source": [
    "watch_gyro_grouped_mean_df.head()"
   ]
  },
  {
   "cell_type": "code",
   "execution_count": 32,
   "id": "macro-knitting",
   "metadata": {},
   "outputs": [
    {
     "data": {
      "text/html": [
       "<div>\n",
       "<style scoped>\n",
       "    .dataframe tbody tr th:only-of-type {\n",
       "        vertical-align: middle;\n",
       "    }\n",
       "\n",
       "    .dataframe tbody tr th {\n",
       "        vertical-align: top;\n",
       "    }\n",
       "\n",
       "    .dataframe thead th {\n",
       "        text-align: right;\n",
       "    }\n",
       "</style>\n",
       "<table border=\"1\" class=\"dataframe\">\n",
       "  <thead>\n",
       "    <tr style=\"text-align: right;\">\n",
       "      <th></th>\n",
       "      <th>subject_id</th>\n",
       "      <th>activity_code</th>\n",
       "      <th>timestamp_dt</th>\n",
       "      <th>timestamp_mean</th>\n",
       "      <th>timestamp_std</th>\n",
       "      <th>x_mean</th>\n",
       "      <th>x_std</th>\n",
       "      <th>y_mean</th>\n",
       "      <th>y_std</th>\n",
       "      <th>z_mean</th>\n",
       "      <th>z_std</th>\n",
       "    </tr>\n",
       "  </thead>\n",
       "  <tbody>\n",
       "    <tr>\n",
       "      <th>0</th>\n",
       "      <td>1603</td>\n",
       "      <td>A</td>\n",
       "      <td>1970-01-01 02:16:48</td>\n",
       "      <td>8.209871e+12</td>\n",
       "      <td>1.057419e+09</td>\n",
       "      <td>10.971969</td>\n",
       "      <td>2.463573</td>\n",
       "      <td>-1.710755</td>\n",
       "      <td>3.081793</td>\n",
       "      <td>-2.138438</td>\n",
       "      <td>2.455856</td>\n",
       "    </tr>\n",
       "    <tr>\n",
       "      <th>1</th>\n",
       "      <td>1603</td>\n",
       "      <td>A</td>\n",
       "      <td>1970-01-01 02:16:51</td>\n",
       "      <td>8.212519e+12</td>\n",
       "      <td>0.000000e+00</td>\n",
       "      <td>13.317089</td>\n",
       "      <td>3.006993</td>\n",
       "      <td>-1.427652</td>\n",
       "      <td>3.426723</td>\n",
       "      <td>-1.287362</td>\n",
       "      <td>2.940808</td>\n",
       "    </tr>\n",
       "    <tr>\n",
       "      <th>2</th>\n",
       "      <td>1603</td>\n",
       "      <td>A</td>\n",
       "      <td>1970-01-01 02:16:54</td>\n",
       "      <td>8.215517e+12</td>\n",
       "      <td>1.184152e+09</td>\n",
       "      <td>13.485122</td>\n",
       "      <td>2.963782</td>\n",
       "      <td>-1.719705</td>\n",
       "      <td>3.342998</td>\n",
       "      <td>-1.938705</td>\n",
       "      <td>2.519909</td>\n",
       "    </tr>\n",
       "    <tr>\n",
       "      <th>3</th>\n",
       "      <td>1603</td>\n",
       "      <td>A</td>\n",
       "      <td>1970-01-01 02:16:57</td>\n",
       "      <td>8.218515e+12</td>\n",
       "      <td>0.000000e+00</td>\n",
       "      <td>12.623339</td>\n",
       "      <td>2.569088</td>\n",
       "      <td>-1.817349</td>\n",
       "      <td>2.517277</td>\n",
       "      <td>-2.037466</td>\n",
       "      <td>2.532273</td>\n",
       "    </tr>\n",
       "    <tr>\n",
       "      <th>4</th>\n",
       "      <td>1603</td>\n",
       "      <td>A</td>\n",
       "      <td>1970-01-01 02:17:00</td>\n",
       "      <td>8.221513e+12</td>\n",
       "      <td>6.660055e+08</td>\n",
       "      <td>11.856955</td>\n",
       "      <td>1.774415</td>\n",
       "      <td>-1.782553</td>\n",
       "      <td>2.348758</td>\n",
       "      <td>-1.714807</td>\n",
       "      <td>1.618585</td>\n",
       "    </tr>\n",
       "  </tbody>\n",
       "</table>\n",
       "</div>"
      ],
      "text/plain": [
       "   subject_id activity_code        timestamp_dt  timestamp_mean  \\\n",
       "0        1603             A 1970-01-01 02:16:48    8.209871e+12   \n",
       "1        1603             A 1970-01-01 02:16:51    8.212519e+12   \n",
       "2        1603             A 1970-01-01 02:16:54    8.215517e+12   \n",
       "3        1603             A 1970-01-01 02:16:57    8.218515e+12   \n",
       "4        1603             A 1970-01-01 02:17:00    8.221513e+12   \n",
       "\n",
       "   timestamp_std     x_mean     x_std    y_mean     y_std    z_mean     z_std  \n",
       "0   1.057419e+09  10.971969  2.463573 -1.710755  3.081793 -2.138438  2.455856  \n",
       "1   0.000000e+00  13.317089  3.006993 -1.427652  3.426723 -1.287362  2.940808  \n",
       "2   1.184152e+09  13.485122  2.963782 -1.719705  3.342998 -1.938705  2.519909  \n",
       "3   0.000000e+00  12.623339  2.569088 -1.817349  2.517277 -2.037466  2.532273  \n",
       "4   6.660055e+08  11.856955  1.774415 -1.782553  2.348758 -1.714807  1.618585  "
      ]
     },
     "execution_count": 32,
     "metadata": {},
     "output_type": "execute_result"
    }
   ],
   "source": [
    "watch_accel_grouped_mean_df.head()"
   ]
  },
  {
   "cell_type": "code",
   "execution_count": 33,
   "id": "portuguese-angel",
   "metadata": {},
   "outputs": [
    {
     "data": {
      "text/html": [
       "<div>\n",
       "<style scoped>\n",
       "    .dataframe tbody tr th:only-of-type {\n",
       "        vertical-align: middle;\n",
       "    }\n",
       "\n",
       "    .dataframe tbody tr th {\n",
       "        vertical-align: top;\n",
       "    }\n",
       "\n",
       "    .dataframe thead th {\n",
       "        text-align: right;\n",
       "    }\n",
       "</style>\n",
       "<table border=\"1\" class=\"dataframe\">\n",
       "  <thead>\n",
       "    <tr style=\"text-align: right;\">\n",
       "      <th></th>\n",
       "      <th>subject_id</th>\n",
       "      <th>activity_code</th>\n",
       "      <th>timestamp_dt</th>\n",
       "      <th>timestamp_mean_accel</th>\n",
       "      <th>timestamp_std_accel</th>\n",
       "      <th>x_mean_accel</th>\n",
       "      <th>x_std_accel</th>\n",
       "      <th>y_mean_accel</th>\n",
       "      <th>y_std_accel</th>\n",
       "      <th>z_mean_accel</th>\n",
       "      <th>z_std_accel</th>\n",
       "      <th>timestamp_mean_gyro</th>\n",
       "      <th>timestamp_std_gyro</th>\n",
       "      <th>x_mean_gyro</th>\n",
       "      <th>x_std_gyro</th>\n",
       "      <th>y_mean_gyro</th>\n",
       "      <th>y_std_gyro</th>\n",
       "      <th>z_mean_gyro</th>\n",
       "      <th>z_std_gyro</th>\n",
       "    </tr>\n",
       "  </thead>\n",
       "  <tbody>\n",
       "    <tr>\n",
       "      <th>0</th>\n",
       "      <td>1603</td>\n",
       "      <td>A</td>\n",
       "      <td>1970-01-01 02:16:48</td>\n",
       "      <td>8.209871e+12</td>\n",
       "      <td>1.057419e+09</td>\n",
       "      <td>10.971969</td>\n",
       "      <td>2.463573</td>\n",
       "      <td>-1.710755</td>\n",
       "      <td>3.081793</td>\n",
       "      <td>-2.138438</td>\n",
       "      <td>2.455856</td>\n",
       "      <td>8.209871e+12</td>\n",
       "      <td>1.057419e+09</td>\n",
       "      <td>0.258547</td>\n",
       "      <td>1.800947</td>\n",
       "      <td>0.293847</td>\n",
       "      <td>1.139514</td>\n",
       "      <td>0.172260</td>\n",
       "      <td>2.148195</td>\n",
       "    </tr>\n",
       "    <tr>\n",
       "      <th>1</th>\n",
       "      <td>1603</td>\n",
       "      <td>A</td>\n",
       "      <td>1970-01-01 02:16:51</td>\n",
       "      <td>8.212519e+12</td>\n",
       "      <td>0.000000e+00</td>\n",
       "      <td>13.317089</td>\n",
       "      <td>3.006993</td>\n",
       "      <td>-1.427652</td>\n",
       "      <td>3.426723</td>\n",
       "      <td>-1.287362</td>\n",
       "      <td>2.940808</td>\n",
       "      <td>8.212519e+12</td>\n",
       "      <td>0.000000e+00</td>\n",
       "      <td>0.073079</td>\n",
       "      <td>1.785556</td>\n",
       "      <td>0.028109</td>\n",
       "      <td>1.960544</td>\n",
       "      <td>0.147318</td>\n",
       "      <td>2.951272</td>\n",
       "    </tr>\n",
       "    <tr>\n",
       "      <th>2</th>\n",
       "      <td>1603</td>\n",
       "      <td>A</td>\n",
       "      <td>1970-01-01 02:16:54</td>\n",
       "      <td>8.215517e+12</td>\n",
       "      <td>1.184152e+09</td>\n",
       "      <td>13.485122</td>\n",
       "      <td>2.963782</td>\n",
       "      <td>-1.719705</td>\n",
       "      <td>3.342998</td>\n",
       "      <td>-1.938705</td>\n",
       "      <td>2.519909</td>\n",
       "      <td>8.215517e+12</td>\n",
       "      <td>1.184152e+09</td>\n",
       "      <td>0.111219</td>\n",
       "      <td>2.267612</td>\n",
       "      <td>0.203831</td>\n",
       "      <td>2.046423</td>\n",
       "      <td>-0.018047</td>\n",
       "      <td>3.034343</td>\n",
       "    </tr>\n",
       "    <tr>\n",
       "      <th>3</th>\n",
       "      <td>1603</td>\n",
       "      <td>A</td>\n",
       "      <td>1970-01-01 02:16:57</td>\n",
       "      <td>8.218515e+12</td>\n",
       "      <td>0.000000e+00</td>\n",
       "      <td>12.623339</td>\n",
       "      <td>2.569088</td>\n",
       "      <td>-1.817349</td>\n",
       "      <td>2.517277</td>\n",
       "      <td>-2.037466</td>\n",
       "      <td>2.532273</td>\n",
       "      <td>8.218515e+12</td>\n",
       "      <td>0.000000e+00</td>\n",
       "      <td>0.225818</td>\n",
       "      <td>2.417827</td>\n",
       "      <td>0.268076</td>\n",
       "      <td>1.870087</td>\n",
       "      <td>-0.090841</td>\n",
       "      <td>2.640429</td>\n",
       "    </tr>\n",
       "    <tr>\n",
       "      <th>4</th>\n",
       "      <td>1603</td>\n",
       "      <td>A</td>\n",
       "      <td>1970-01-01 02:17:00</td>\n",
       "      <td>8.221513e+12</td>\n",
       "      <td>6.660055e+08</td>\n",
       "      <td>11.856955</td>\n",
       "      <td>1.774415</td>\n",
       "      <td>-1.782553</td>\n",
       "      <td>2.348758</td>\n",
       "      <td>-1.714807</td>\n",
       "      <td>1.618585</td>\n",
       "      <td>8.221513e+12</td>\n",
       "      <td>6.660055e+08</td>\n",
       "      <td>0.039034</td>\n",
       "      <td>1.675469</td>\n",
       "      <td>0.181341</td>\n",
       "      <td>1.457610</td>\n",
       "      <td>-0.105169</td>\n",
       "      <td>2.516248</td>\n",
       "    </tr>\n",
       "  </tbody>\n",
       "</table>\n",
       "</div>"
      ],
      "text/plain": [
       "   subject_id activity_code        timestamp_dt  timestamp_mean_accel  \\\n",
       "0        1603             A 1970-01-01 02:16:48          8.209871e+12   \n",
       "1        1603             A 1970-01-01 02:16:51          8.212519e+12   \n",
       "2        1603             A 1970-01-01 02:16:54          8.215517e+12   \n",
       "3        1603             A 1970-01-01 02:16:57          8.218515e+12   \n",
       "4        1603             A 1970-01-01 02:17:00          8.221513e+12   \n",
       "\n",
       "   timestamp_std_accel  x_mean_accel  x_std_accel  y_mean_accel  y_std_accel  \\\n",
       "0         1.057419e+09     10.971969     2.463573     -1.710755     3.081793   \n",
       "1         0.000000e+00     13.317089     3.006993     -1.427652     3.426723   \n",
       "2         1.184152e+09     13.485122     2.963782     -1.719705     3.342998   \n",
       "3         0.000000e+00     12.623339     2.569088     -1.817349     2.517277   \n",
       "4         6.660055e+08     11.856955     1.774415     -1.782553     2.348758   \n",
       "\n",
       "   z_mean_accel  z_std_accel  timestamp_mean_gyro  timestamp_std_gyro  \\\n",
       "0     -2.138438     2.455856         8.209871e+12        1.057419e+09   \n",
       "1     -1.287362     2.940808         8.212519e+12        0.000000e+00   \n",
       "2     -1.938705     2.519909         8.215517e+12        1.184152e+09   \n",
       "3     -2.037466     2.532273         8.218515e+12        0.000000e+00   \n",
       "4     -1.714807     1.618585         8.221513e+12        6.660055e+08   \n",
       "\n",
       "   x_mean_gyro  x_std_gyro  y_mean_gyro  y_std_gyro  z_mean_gyro  z_std_gyro  \n",
       "0     0.258547    1.800947     0.293847    1.139514     0.172260    2.148195  \n",
       "1     0.073079    1.785556     0.028109    1.960544     0.147318    2.951272  \n",
       "2     0.111219    2.267612     0.203831    2.046423    -0.018047    3.034343  \n",
       "3     0.225818    2.417827     0.268076    1.870087    -0.090841    2.640429  \n",
       "4     0.039034    1.675469     0.181341    1.457610    -0.105169    2.516248  "
      ]
     },
     "execution_count": 33,
     "metadata": {},
     "output_type": "execute_result"
    }
   ],
   "source": [
    "watch_grouped_means_df = watch_accel_grouped_mean_df.merge(watch_gyro_grouped_mean_df, on=[\"subject_id\", \"activity_code\", \"timestamp_dt\"], how=\"inner\", suffixes=['_accel', '_gyro'])\n",
    "# watch_grouped_means_df = watch_grouped_means_df.drop(['timestamp_gyro'], axis=1)\n",
    "# watch_grouped_means_df = watch_grouped_means_df.rename(columns={'timestamp_accel': 'timestamp'})\n",
    "watch_grouped_means_df.head()"
   ]
  },
  {
   "cell_type": "code",
   "execution_count": 34,
   "id": "welsh-tragedy",
   "metadata": {},
   "outputs": [
    {
     "data": {
      "text/plain": [
       "55273"
      ]
     },
     "execution_count": 34,
     "metadata": {},
     "output_type": "execute_result"
    }
   ],
   "source": [
    "len(watch_grouped_means_df)"
   ]
  },
  {
   "cell_type": "code",
   "execution_count": null,
   "id": "unauthorized-rover",
   "metadata": {},
   "outputs": [],
   "source": [
    "# combined_device_means_df = watch_grouped_means_df.merge(phone_grouped_means_df, on=['subject_id', 'activity_code', 'timestamp_dt'], how=\"inner\", suffixes=['_watch', '_phone'])\n",
    "# combined_device_means_df.head()"
   ]
  },
  {
   "cell_type": "code",
   "execution_count": 35,
   "id": "bottom-athletics",
   "metadata": {},
   "outputs": [],
   "source": [
    "phone_grouped_clean_df = phone_grouped_means_df\n",
    "watch_grouped_clean_df = watch_grouped_means_df"
   ]
  },
  {
   "cell_type": "code",
   "execution_count": null,
   "id": "piano-coordinator",
   "metadata": {},
   "outputs": [],
   "source": []
  },
  {
   "cell_type": "code",
   "execution_count": null,
   "id": "declared-owner",
   "metadata": {},
   "outputs": [],
   "source": []
  },
  {
   "cell_type": "code",
   "execution_count": null,
   "id": "convenient-theory",
   "metadata": {},
   "outputs": [],
   "source": []
  },
  {
   "cell_type": "code",
   "execution_count": null,
   "id": "initial-secondary",
   "metadata": {},
   "outputs": [],
   "source": []
  },
  {
   "cell_type": "code",
   "execution_count": null,
   "id": "governing-shopping",
   "metadata": {},
   "outputs": [],
   "source": []
  },
  {
   "cell_type": "markdown",
   "id": "elder-looking",
   "metadata": {},
   "source": [
    "<h2>NOTE: NO RUN ZONE. DO NOT RUN ANYTHING BELOW UNTIL SECTION 2</h2>"
   ]
  },
  {
   "cell_type": "code",
   "execution_count": null,
   "id": "proper-submission",
   "metadata": {},
   "outputs": [],
   "source": [
    "# Phone\n",
    "phone_combined_df = phone_accel_df.merge(phone_gyro_df, on=['subject_id', 'activity_code', 'timestamp_dt'], how='inner', suffixes=['_accel', '_gyro'])\n",
    "phone_combined_df = phone_combined_df.drop(['timestamp_gyro'], axis=1)\n",
    "phone_combined_df = phone_combined_df.rename(columns={'timestamp_accel': 'timestamp'})\n",
    "phone_combined_df.head()"
   ]
  },
  {
   "cell_type": "code",
   "execution_count": null,
   "id": "sublime-waste",
   "metadata": {},
   "outputs": [],
   "source": [
    "# Watch\n",
    "watch_combined_df = watch_accel_df.merge(watch_gyro_df, on=['subject_id', 'activity_code', 'timestamp_dt'], how='inner', suffixes=['_accel', '_gyro'])\n",
    "watch_combined_df = watch_combined_df.drop(['timestamp_gyro'], axis=1)\n",
    "watch_combined_df = watch_combined_df.rename(columns={'timestamp_accel': 'timestamp'})\n",
    "watch_combined_df.head()"
   ]
  },
  {
   "cell_type": "code",
   "execution_count": null,
   "id": "lesser-capital",
   "metadata": {},
   "outputs": [],
   "source": [
    "# Phone & Watch\n",
    "# phone_watch_combined_df = phone_combined_df.merge(watch_combined_df, on=['subject_id', 'activity_code', 'timestamp_dt'], how='inner', suffixes=['_phone', '_watch'])\n",
    "# phone_watch_combined_df.head()\n",
    "# phone and watch data do not have times synced -- currently unable to use together"
   ]
  },
  {
   "cell_type": "code",
   "execution_count": null,
   "id": "floating-hamburg",
   "metadata": {},
   "outputs": [],
   "source": [
    "print(f'Phone: {len(phone_combined_df)}')\n",
    "print(f'Watch: {len(watch_combined_df)}')"
   ]
  },
  {
   "cell_type": "code",
   "execution_count": null,
   "id": "unexpected-ticket",
   "metadata": {},
   "outputs": [],
   "source": [
    "corr_matrix_phone = phone_combined_df.corr()\n",
    "corr_matrix_phone.compute().style.background_gradient(cmap='coolwarm')"
   ]
  },
  {
   "cell_type": "code",
   "execution_count": null,
   "id": "intensive-apparatus",
   "metadata": {},
   "outputs": [],
   "source": [
    "corr_matrix_watch = watch_combined_df.corr()\n",
    "corr_matrix_watch.compute().style.background_gradient(cmap='coolwarm')"
   ]
  },
  {
   "cell_type": "code",
   "execution_count": null,
   "id": "international-particular",
   "metadata": {},
   "outputs": [],
   "source": [
    "phone_grouped_df = phone_combined_df.set_index('timestamp_dt').groupby(['subject_id', 'activity_code', pd.Grouper(freq='3S')])\n",
    "watch_grouped_df = watch_combined_df.set_index('timestamp_dt').groupby(['subject_id', 'activity_code', pd.Grouper(freq='3S')])"
   ]
  },
  {
   "cell_type": "code",
   "execution_count": null,
   "id": "iraqi-quarterly",
   "metadata": {},
   "outputs": [],
   "source": [
    "# Timestamp grouping/interval count check\n",
    "# size = phone_grouped_df.size().rename('count').to_frame()\n",
    "# size.compute().value_counts().head(50)"
   ]
  },
  {
   "cell_type": "code",
   "execution_count": null,
   "id": "acknowledged-argument",
   "metadata": {},
   "outputs": [],
   "source": [
    "# pd.Grouper check (to understand if it keeps the first or last of the interval)\n",
    "# https://stackoverflow.com/questions/35898667/group-by-time-and-other-column-in-pandas\n",
    "# sample_df = phone_accel_df.head(60)\n",
    "# sample_group_df = sample_df.set_index('timestamp_dt').groupby(['subject_id', 'activity_code', pd.Grouper(freq='3S')])\n",
    "\n",
    "# print(sample_df.head())\n",
    "# sample_group_df.agg(['mean', 'count'])\n",
    "\n",
    "# Findings:\n",
    "# groups by looking at whole second intervals\n",
    "# shows timestamp for first time in interval"
   ]
  },
  {
   "cell_type": "code",
   "execution_count": null,
   "id": "cloudy-money",
   "metadata": {},
   "outputs": [],
   "source": [
    "phone_grouped_means_df = phone_grouped_df.mean().reset_index()\n",
    "phone_grouped_counts_df = phone_grouped_df.size().rename('count').reset_index()\n",
    "phone_grouped_means_df = phone_grouped_means_df.merge(phone_grouped_counts_df, on=['subject_id', 'activity_code', 'timestamp_dt'])\n",
    "print(f'Phone full: {len(phone_grouped_means_df)}')\n",
    "\n",
    "phone_grouped_clean_df = phone_grouped_means_df[phone_grouped_means_df['count'] > 20]\n",
    "print(f'Phone > 20: {len(phone_grouped_clean_df)}')\n",
    "\n",
    "watch_grouped_means_df = watch_grouped_df.mean().reset_index()\n",
    "watch_grouped_counts_df = watch_grouped_df.size().rename('count').reset_index()\n",
    "watch_grouped_means_df = watch_grouped_means_df.merge(watch_grouped_counts_df, on=['subject_id', 'activity_code', 'timestamp_dt'])\n",
    "print(f'Watch full: {len(watch_grouped_means_df)}')\n",
    "\n",
    "watch_grouped_clean_df = watch_grouped_means_df[watch_grouped_means_df['count'] > 20]\n",
    "print(f'Watch > 20: {len(watch_grouped_clean_df)}')"
   ]
  },
  {
   "cell_type": "code",
   "execution_count": null,
   "id": "southeast-induction",
   "metadata": {},
   "outputs": [],
   "source": [
    "phone = phone_grouped_clean_df['activity_code'].value_counts().rename('total').reset_index().compute().sort_values(by=['index'], ascending=True)\n",
    "watch = watch_grouped_clean_df['activity_code'].value_counts().rename('total').reset_index().compute().sort_values(by=['index'], ascending=True)"
   ]
  },
  {
   "cell_type": "code",
   "execution_count": null,
   "id": "occupied-wallace",
   "metadata": {},
   "outputs": [],
   "source": [
    "total = phone['total'].sum()\n",
    "\n",
    "plt.figure(figsize=(10,5))\n",
    "\n",
    "plt.plot(phone['index'], (phone['total']/total*100), label='phone')\n",
    "plt.plot(watch['index'], (watch['total']/total*100), label='watch')\n",
    "\n",
    "plt.title('Data Distribution by Activity Code')\n",
    "plt.xlabel('Activity Code')\n",
    "plt.ylabel('% of Respective Dataset')\n",
    "plt.legend()\n",
    "plt.show()"
   ]
  },
  {
   "cell_type": "markdown",
   "id": "private-oasis",
   "metadata": {},
   "source": [
    "<h2>END OF NO RUN ZONE</h2>"
   ]
  },
  {
   "cell_type": "code",
   "execution_count": null,
   "id": "welcome-egyptian",
   "metadata": {},
   "outputs": [],
   "source": []
  },
  {
   "cell_type": "code",
   "execution_count": null,
   "id": "monetary-testing",
   "metadata": {},
   "outputs": [],
   "source": []
  },
  {
   "cell_type": "code",
   "execution_count": null,
   "id": "bronze-terrain",
   "metadata": {},
   "outputs": [],
   "source": []
  },
  {
   "cell_type": "code",
   "execution_count": null,
   "id": "funky-express",
   "metadata": {},
   "outputs": [],
   "source": []
  },
  {
   "cell_type": "markdown",
   "id": "humanitarian-hospital",
   "metadata": {},
   "source": [
    "# 2. Model Selection & Training"
   ]
  },
  {
   "cell_type": "code",
   "execution_count": 36,
   "id": "adjustable-charger",
   "metadata": {},
   "outputs": [],
   "source": [
    "# train test split with 80-20 split\n",
    "import dask_ml.model_selection\n",
    "\n",
    "data_columns = ['x_mean_accel', 'y_mean_accel', 'z_mean_accel', 'x_mean_gyro', 'y_mean_gyro', 'z_mean_gyro', 'x_std_accel', 'y_std_accel', 'z_std_accel', 'x_std_gyro', 'y_std_gyro', 'z_std_gyro']\n",
    "label_columns = ['activity_code']\n",
    "\n",
    "# drop subject and timestamps from train data\n",
    "phone_data_all = phone_grouped_clean_df[data_columns]\n",
    "phone_labels_all = phone_grouped_clean_df[label_columns]\n",
    "\n",
    "# drop subject and timestamps from train data\n",
    "watch_data_all = watch_grouped_clean_df[data_columns]\n",
    "watch_labels_all = watch_grouped_clean_df[label_columns]\n",
    "\n",
    "X_train_phone, X_test_phone, y_train_phone, y_test_phone = dask_ml.model_selection.train_test_split(phone_data_all, phone_labels_all, shuffle = True, random_state=0, test_size = 0.2)\n",
    "X_train_watch, X_test_watch, y_train_watch, y_test_watch = dask_ml.model_selection.train_test_split(watch_data_all, watch_labels_all, shuffle = True, random_state=0, test_size = 0.2)"
   ]
  },
  {
   "cell_type": "code",
   "execution_count": 37,
   "id": "going-miami",
   "metadata": {},
   "outputs": [
    {
     "name": "stdout",
     "output_type": "stream",
     "text": [
      "X_train_phone: 44119\n",
      "X_test_phone: 11130\n",
      "y_train_phone: 44119\n",
      "y_test_phone: 11130\n"
     ]
    }
   ],
   "source": [
    "print(f'X_train_phone: {len(X_train_phone)}')\n",
    "print(f'X_test_phone: {len(X_test_phone)}')\n",
    "print(f'y_train_phone: {len(y_train_phone)}')\n",
    "print(f'y_test_phone: {len(y_test_phone)}')"
   ]
  },
  {
   "cell_type": "code",
   "execution_count": null,
   "id": "quarterly-mouse",
   "metadata": {},
   "outputs": [],
   "source": [
    "print(f'X_train_watch: {len(X_train_watch)}')\n",
    "print(f'X_test_watch: {len(X_test_watch)}')\n",
    "print(f'y_train_watch: {len(y_train_watch)}')\n",
    "print(f'y_test_watch: {len(y_test_watch)}')"
   ]
  },
  {
   "cell_type": "code",
   "execution_count": null,
   "id": "several-integral",
   "metadata": {},
   "outputs": [],
   "source": [
    "X_train_phone.head()"
   ]
  },
  {
   "cell_type": "code",
   "execution_count": null,
   "id": "fitting-toronto",
   "metadata": {},
   "outputs": [],
   "source": [
    "X_test_phone.head()"
   ]
  },
  {
   "cell_type": "code",
   "execution_count": null,
   "id": "protecting-document",
   "metadata": {},
   "outputs": [],
   "source": [
    "y_train_phone.head()"
   ]
  },
  {
   "cell_type": "code",
   "execution_count": null,
   "id": "sixth-kelly",
   "metadata": {},
   "outputs": [],
   "source": [
    "y_test_phone.head()"
   ]
  },
  {
   "cell_type": "code",
   "execution_count": 38,
   "id": "brazilian-cream",
   "metadata": {
    "tags": []
   },
   "outputs": [
    {
     "name": "stderr",
     "output_type": "stream",
     "text": [
      "<timed exec>:6: DataConversionWarning: A column-vector y was passed when a 1d array was expected. Please change the shape of y to (n_samples,), for example using ravel().\n"
     ]
    },
    {
     "name": "stdout",
     "output_type": "stream",
     "text": [
      "CPU times: user 12.6 s, sys: 2.52 s, total: 15.1 s\n",
      "Wall time: 1min 5s\n"
     ]
    }
   ],
   "source": [
    "%%time\n",
    "from sklearn.ensemble import RandomForestClassifier\n",
    "\n",
    "clf_phone = RandomForestClassifier(random_state=0)\n",
    "\n",
    "with joblib.parallel_backend('dask'):\n",
    "    clf_phone.fit(X_train_phone, y_train_phone)"
   ]
  },
  {
   "cell_type": "code",
   "execution_count": 66,
   "id": "hired-association",
   "metadata": {},
   "outputs": [
    {
     "name": "stderr",
     "output_type": "stream",
     "text": [
      "<timed exec>:6: DataConversionWarning: A column-vector y was passed when a 1d array was expected. Please change the shape of y to (n_samples,), for example using ravel().\n"
     ]
    },
    {
     "name": "stdout",
     "output_type": "stream",
     "text": [
      "CPU times: user 20.7 s, sys: 4.61 s, total: 25.3 s\n",
      "Wall time: 1min 31s\n"
     ]
    }
   ],
   "source": [
    "%%time\n",
    "from sklearn.ensemble import RandomForestClassifier\n",
    "\n",
    "clf_watch = RandomForestClassifier(random_state=0)\n",
    "\n",
    "with joblib.parallel_backend('dask'):\n",
    "    clf_watch.fit(X_train_watch, y_train_watch)"
   ]
  },
  {
   "cell_type": "markdown",
   "id": "average-brand",
   "metadata": {},
   "source": [
    "# 3. Model Test"
   ]
  },
  {
   "cell_type": "code",
   "execution_count": null,
   "id": "secure-slope",
   "metadata": {},
   "outputs": [],
   "source": [
    "# test /validate and provide final accurracy\n",
    "# with joblib.parallel_backend('dask'):\n",
    "#     score = randomForestClassifier.score(X_test_reset, X_test_labels)\n",
    "# score"
   ]
  },
  {
   "cell_type": "code",
   "execution_count": null,
   "id": "grave-textbook",
   "metadata": {},
   "outputs": [],
   "source": [
    "# from sklearn.metrics import confusion_matrix\n",
    "# with joblib.parallel_backend('dask'):\n",
    "#     confusion_matrix(X_test_labels, randomForestClassifier.predict(X_test_reset) )"
   ]
  },
  {
   "cell_type": "code",
   "execution_count": 39,
   "id": "specialized-european",
   "metadata": {},
   "outputs": [
    {
     "name": "stdout",
     "output_type": "stream",
     "text": [
      "CPU times: user 6 s, sys: 1.02 s, total: 7.01 s\n",
      "Wall time: 26.4 s\n"
     ]
    }
   ],
   "source": [
    "%%time\n",
    "from sklearn.metrics import confusion_matrix\n",
    "from sklearn.metrics import accuracy_score\n",
    "\n",
    "with joblib.parallel_backend('dask'):\n",
    "    predicted_labels_phone = clf_phone.predict(X_test_phone)"
   ]
  },
  {
   "cell_type": "code",
   "execution_count": 67,
   "id": "suburban-manner",
   "metadata": {},
   "outputs": [
    {
     "name": "stdout",
     "output_type": "stream",
     "text": [
      "CPU times: user 9.18 s, sys: 1.67 s, total: 10.8 s\n",
      "Wall time: 36.1 s\n"
     ]
    }
   ],
   "source": [
    "%%time\n",
    "from sklearn.metrics import confusion_matrix\n",
    "from sklearn.metrics import accuracy_score\n",
    "\n",
    "with joblib.parallel_backend('dask'):\n",
    "    predicted_labels_watch = clf_watch.predict(X_test_watch)"
   ]
  },
  {
   "cell_type": "code",
   "execution_count": 40,
   "id": "outdoor-pipeline",
   "metadata": {},
   "outputs": [
    {
     "name": "stdout",
     "output_type": "stream",
     "text": [
      "0.8375561545372866\n",
      "CPU times: user 38.8 s, sys: 7.37 s, total: 46.1 s\n",
      "Wall time: 2min 43s\n"
     ]
    }
   ],
   "source": [
    "%%time\n",
    "\n",
    "with joblib.parallel_backend('dask'):\n",
    "    print(accuracy_score(y_test_phone, predicted_labels_phone))"
   ]
  },
  {
   "cell_type": "code",
   "execution_count": 68,
   "id": "hourly-python",
   "metadata": {},
   "outputs": [
    {
     "name": "stdout",
     "output_type": "stream",
     "text": [
      "0.7886653493802767\n",
      "CPU times: user 12.4 s, sys: 1.81 s, total: 14.2 s\n",
      "Wall time: 58.9 s\n"
     ]
    }
   ],
   "source": [
    "%%time\n",
    "\n",
    "with joblib.parallel_backend('dask'):\n",
    "    print(accuracy_score(y_test_watch, predicted_labels_watch))"
   ]
  },
  {
   "cell_type": "code",
   "execution_count": 41,
   "id": "separate-disney",
   "metadata": {},
   "outputs": [
    {
     "data": {
      "text/plain": [
       "array(['A', 'B', 'C', 'D', 'E', 'F', 'G', 'H', 'I', 'J', 'K', 'L', 'M',\n",
       "       'O', 'P', 'Q', 'R', 'S'], dtype=object)"
      ]
     },
     "execution_count": 41,
     "metadata": {},
     "output_type": "execute_result"
    }
   ],
   "source": [
    "unique_phone_labels = np.unique(y_test_phone)\n",
    "unique_phone_labels"
   ]
  },
  {
   "cell_type": "code",
   "execution_count": 69,
   "id": "oriented-tomorrow",
   "metadata": {},
   "outputs": [
    {
     "data": {
      "text/plain": [
       "array(['A', 'B', 'C', 'D', 'E', 'F', 'G', 'H', 'I', 'J', 'K', 'L', 'M',\n",
       "       'O', 'P', 'Q', 'R', 'S'], dtype=object)"
      ]
     },
     "execution_count": 69,
     "metadata": {},
     "output_type": "execute_result"
    }
   ],
   "source": [
    "unique_watch_labels = np.unique(y_test_watch)\n",
    "unique_watch_labels"
   ]
  },
  {
   "cell_type": "code",
   "execution_count": 42,
   "id": "according-medium",
   "metadata": {},
   "outputs": [
    {
     "name": "stdout",
     "output_type": "stream",
     "text": [
      "CPU times: user 19.9 s, sys: 3.4 s, total: 23.3 s\n",
      "Wall time: 1min 34s\n"
     ]
    },
    {
     "data": {
      "text/plain": [
       "array([[606,   1,  25,   0,   0,   0,   0,   0,   0,   0,   1,   0,  15,\n",
       "          1,   3,   0,   1,   0],\n",
       "       [  2, 593,   6,   0,   0,   0,   0,   0,   0,   0,   0,   0,   1,\n",
       "          2,   1,   0,   0,   0],\n",
       "       [ 10,   4, 573,   0,   0,   0,   0,   0,   0,   0,   0,   0,  23,\n",
       "          4,   2,   0,   0,   0],\n",
       "       [  1,   0,   7, 481,   4,   9,   7,   7,  17,   9,  10,   5,   3,\n",
       "          2,   7,   6,  10,  10],\n",
       "       [  0,   0,   1,   0, 540,   3,   2,   3,   2,   1,   1,   4,   7,\n",
       "         13,  11,   0,   1,  45],\n",
       "       [  1,   0,   1,   9,   6, 488,   6,   6,   4,   3,   7,   6,   0,\n",
       "          2,   3,   4,   4,   6],\n",
       "       [  0,   0,   1,   2,  10,   1, 550,   2,  16,   5,   5,   6,   3,\n",
       "          6,   4,   2,   8,  14],\n",
       "       [  0,   0,   2,  15,   9,   7,   7, 500,  10,  25,  12,  14,   3,\n",
       "          3,  11,   2,   8,  14],\n",
       "       [  0,   0,   3,   7,  10,   9,  16,  17, 469,  11,  17,  16,   2,\n",
       "          0,   2,   2,  11,   9],\n",
       "       [  0,   0,   1,   7,  15,   5,   6,  13,  22, 490,  15,  14,   0,\n",
       "          4,   0,  12,   9,   8],\n",
       "       [  0,   0,   4,  13,   3,   4,   9,  14,  16,  16, 475,  10,   1,\n",
       "          2,   4,  12,  12,  13],\n",
       "       [  0,   0,   0,   6,  10,   8,   8,  17,  20,  19,   8, 496,   1,\n",
       "          1,   2,   7,  12,  10],\n",
       "       [ 28,   8,  44,   0,   1,   0,   0,   0,   0,   0,   0,   0, 494,\n",
       "         26,  25,   0,   0,   4],\n",
       "       [  7,   9,  15,   0,   4,   0,   1,   0,   0,   0,   0,   0,  62,\n",
       "        450,  53,   0,   0,  23],\n",
       "       [  0,   3,  12,   0,   2,   4,   2,   1,   0,   0,   0,   1,  35,\n",
       "         36, 474,   0,   0,  23],\n",
       "       [  0,   0,   4,   5,   7,   2,   3,   9,   5,   6,   5,   6,   1,\n",
       "          1,   0, 532,   1,   5],\n",
       "       [  0,   1,   3,   1,   8,   2,   5,   3,   7,   6,  11,   0,   3,\n",
       "          9,   5,   2, 570,  14],\n",
       "       [  1,   0,   5,   2,  21,   0,   1,   5,   4,   2,   2,   2,  13,\n",
       "         31,  17,   0,   3, 541]])"
      ]
     },
     "execution_count": 42,
     "metadata": {},
     "output_type": "execute_result"
    }
   ],
   "source": [
    "%%time\n",
    "cm_phone = confusion_matrix(y_test_phone, predicted_labels_phone, labels = unique_phone_labels)\n",
    "cm_phone"
   ]
  },
  {
   "cell_type": "code",
   "execution_count": 63,
   "id": "based-jacksonville",
   "metadata": {},
   "outputs": [
    {
     "data": {
      "text/plain": [
       "<AxesSubplot:>"
      ]
     },
     "execution_count": 63,
     "metadata": {},
     "output_type": "execute_result"
    },
    {
     "data": {
      "image/png": "[encoded data removed]",
      "text/plain": [
       "<Figure size 720x720 with 2 Axes>"
      ]
     },
     "metadata": {
      "needs_background": "light"
     },
     "output_type": "display_data"
    }
   ],
   "source": [
    "import matplotlib.pyplot as plt\n",
    "display_labels = [\"Walking\", \"Jogging\", \"Stairs\", \"Sitting\", \"Standing\", \"Typing\", \"Brushing Teeth\", \"Eating Soup\", \"Eating Chips\", \"Eating Pasta\", \"Drinking from Cup\", \"Eating Sandwich\", \"Kicking (Soccer Ball)\", \"Playing Catch w/Tennis Ball\", \"Dribblinlg (Basketball)\", \"Writing\", \"Clapping\", \"Folding Clothes\"]\n",
    "\n",
    "import seaborn as sns\n",
    "fig, ax = plt.subplots(figsize=(10,10))\n",
    "ax.xaxis.set_ticks_position('top')\n",
    "ax.xaxis.set_label_position('top')\n",
    "sns.heatmap(cm_phone, annot=True, fmt='g', xticklabels = display_labels, yticklabels = display_labels)"
   ]
  },
  {
   "cell_type": "code",
   "execution_count": 70,
   "id": "about-blair",
   "metadata": {},
   "outputs": [
    {
     "name": "stdout",
     "output_type": "stream",
     "text": [
      "CPU times: user 15.5 s, sys: 1.85 s, total: 17.3 s\n",
      "Wall time: 1min 11s\n"
     ]
    },
    {
     "data": {
      "text/plain": [
       "array([[500,   0,  36,   1,   1,   0,   1,   2,   3,   0,   0,   0,  36,\n",
       "         13,   0,   0,   2,  29],\n",
       "       [  0, 578,   1,   0,   0,   0,   0,   1,   1,   1,   0,   0,   1,\n",
       "         12,   2,   0,   0,   8],\n",
       "       [ 49,   4, 415,   1,   0,   0,   4,   2,   8,   4,   0,   1,  50,\n",
       "         11,   3,   0,   2,  45],\n",
       "       [  0,   0,   0, 458,   5,  23,   3,  10,  15,  27,  10,  12,   1,\n",
       "          4,   1,  14,   4,  21],\n",
       "       [  0,   0,   8,  11, 480,   4,   6,   3,   8,   5,   6,  11,  13,\n",
       "          0,   6,   3,   2,  20],\n",
       "       [  0,   0,   3,  18,   0, 587,   0,   2,   7,   7,   2,   4,   0,\n",
       "          0,   0,  19,   2,   2],\n",
       "       [  0,   0,   0,   0,   7,   1, 561,   3,  10,   5,   3,  12,   2,\n",
       "          0,   0,   0,  15,   5],\n",
       "       [  0,   0,   0,   4,   7,   0,   4, 452,  12,  62,  16,  17,   0,\n",
       "          0,   0,  13,   1,  16],\n",
       "       [  0,   0,   1,  19,   8,  22,  20,  29, 348,  47,  37,  64,   4,\n",
       "          1,   0,   7,   0,  23],\n",
       "       [  0,   0,   1,   5,   5,  10,   4,  60,  28, 418,   8,  16,   1,\n",
       "          0,   0,   8,   2,  15],\n",
       "       [  0,   0,   0,  17,  12,   6,  19,  27,  26,  16, 414,  37,   3,\n",
       "          0,   0,  16,   1,   9],\n",
       "       [  3,   0,   2,  13,  11,   6,  18,  43,  73,  53,  87, 296,   1,\n",
       "          0,   1,   9,   3,  24],\n",
       "       [ 18,   4,  52,   0,   6,   1,   5,   3,   0,   2,   2,   1, 497,\n",
       "         26,   5,   2,   5,  23],\n",
       "       [  0,  11,   7,   0,   2,   0,   6,   2,   1,   1,   0,   1,  17,\n",
       "        468,  38,   0,   1,  33],\n",
       "       [  1,   9,   3,   0,   3,   1,   2,   3,   0,   0,   2,   3,   7,\n",
       "         33, 563,   2,   1,  10],\n",
       "       [  0,   0,   0,   2,   0,   8,   0,   4,   2,   9,   5,   3,   0,\n",
       "          0,   0, 591,   1,   5],\n",
       "       [  1,   4,   0,   2,   6,   1,   7,   4,   1,   2,   1,   0,   1,\n",
       "          1,   1,   0, 597,   3],\n",
       "       [  0,   1,   7,   0,   3,   2,   3,   4,  10,  11,   3,   2,   7,\n",
       "         12,   3,   1,   2, 558]])"
      ]
     },
     "execution_count": 70,
     "metadata": {},
     "output_type": "execute_result"
    }
   ],
   "source": [
    "%%time\n",
    "cm_watch = confusion_matrix(y_test_watch, predicted_labels_watch, labels = unique_watch_labels)\n",
    "cm_watch"
   ]
  },
  {
   "cell_type": "code",
   "execution_count": 71,
   "id": "adult-twenty",
   "metadata": {},
   "outputs": [
    {
     "data": {
      "text/plain": [
       "<AxesSubplot:>"
      ]
     },
     "execution_count": 71,
     "metadata": {},
     "output_type": "execute_result"
    },
    {
     "data": {
      "image/png": "[encoded data removed]",
      "text/plain": [
       "<Figure size 720x720 with 2 Axes>"
      ]
     },
     "metadata": {
      "needs_background": "light"
     },
     "output_type": "display_data"
    }
   ],
   "source": [
    "import matplotlib.pyplot as plt\n",
    "display_labels = [\"Walking\", \"Jogging\", \"Stairs\", \"Sitting\", \"Standing\", \"Typing\", \"Brushing Teeth\", \"Eating Soup\", \"Eating Chips\", \"Eating Pasta\", \"Drinking from Cup\", \"Eating Sandwich\", \"Kicking (Soccer Ball)\", \"Playing Catch w/Tennis Ball\", \"Dribblinlg (Basketball)\", \"Writing\", \"Clapping\", \"Folding Clothes\"]\n",
    "\n",
    "import seaborn as sns\n",
    "fig, ax = plt.subplots(figsize=(10,10))\n",
    "ax.xaxis.set_ticks_position('top')\n",
    "ax.xaxis.set_label_position('top')\n",
    "sns.heatmap(cm_watch, annot=True, fmt='g', xticklabels = display_labels, yticklabels = display_labels)"
   ]
  },
  {
   "cell_type": "markdown",
   "id": "organized-outline",
   "metadata": {},
   "source": [
    "# 4. Results & Conclusion"
   ]
  },
  {
   "cell_type": "code",
   "execution_count": null,
   "id": "continuing-preservation",
   "metadata": {},
   "outputs": [],
   "source": [
    "client.shutdown()"
   ]
  },
  {
   "cell_type": "code",
   "execution_count": null,
   "id": "dangerous-representative",
   "metadata": {},
   "outputs": [],
   "source": []
  }
 ],
 "metadata": {
  "kernelspec": {
   "display_name": "Python 3",
   "language": "python",
   "name": "python3"
  },
  "language_info": {
   "codemirror_mode": {
    "name": "ipython",
    "version": 3
   },
   "file_extension": ".py",
   "mimetype": "text/x-python",
   "name": "python",
   "nbconvert_exporter": "python",
   "pygments_lexer": "ipython3",
   "version": "3.8.5"
  }
 },
 "nbformat": 4,
 "nbformat_minor": 5
}
