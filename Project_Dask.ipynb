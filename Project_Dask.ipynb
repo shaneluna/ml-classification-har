{
 "cells": [
  {
   "cell_type": "code",
   "execution_count": 1,
   "id": "rational-survivor",
   "metadata": {},
   "outputs": [],
   "source": [
    "%matplotlib inline\n",
    "\n",
    "from dask.distributed import Client\n",
    "import dask.dataframe as dd\n",
    "import matplotlib.pyplot as plt\n",
    "import joblib\n",
    "import numpy as np\n",
    "import pandas as pd"
   ]
  },
  {
   "cell_type": "code",
   "execution_count": 2,
   "id": "aging-metro",
   "metadata": {},
   "outputs": [],
   "source": [
    "# Start and connect to local client\n",
    "\n",
    "client = Client(n_workers=4)\n",
    "# client = Client(\"scheduler-address:8786\")  # connecting to remote cluster"
   ]
  },
  {
   "cell_type": "code",
   "execution_count": 3,
   "id": "boring-gnome",
   "metadata": {},
   "outputs": [
    {
     "data": {
      "text/html": [
       "<table style=\"border: 2px solid white;\">\n",
       "<tr>\n",
       "<td style=\"vertical-align: top; border: 0px solid white\">\n",
       "<h3 style=\"text-align: left;\">Client</h3>\n",
       "<ul style=\"text-align: left; list-style: none; margin: 0; padding: 0;\">\n",
       "  <li><b>Scheduler: </b>tcp://127.0.0.1:34985</li>\n",
       "  <li><b>Dashboard: </b><a href='http://127.0.0.1:8787/status' target='_blank'>http://127.0.0.1:8787/status</a></li>\n",
       "</ul>\n",
       "</td>\n",
       "<td style=\"vertical-align: top; border: 0px solid white\">\n",
       "<h3 style=\"text-align: left;\">Cluster</h3>\n",
       "<ul style=\"text-align: left; list-style:none; margin: 0; padding: 0;\">\n",
       "  <li><b>Workers: </b>4</li>\n",
       "  <li><b>Cores: </b>4</li>\n",
       "  <li><b>Memory: </b>5.18 GB</li>\n",
       "</ul>\n",
       "</td>\n",
       "</tr>\n",
       "</table>"
      ],
      "text/plain": [
       "<Client: 'tcp://127.0.0.1:34985' processes=4 threads=4, memory=5.18 GB>"
      ]
     },
     "execution_count": 3,
     "metadata": {},
     "output_type": "execute_result"
    }
   ],
   "source": [
    "client"
   ]
  },
  {
   "cell_type": "markdown",
   "id": "duplicate-privacy",
   "metadata": {},
   "source": [
    "# 1. Data Preparation"
   ]
  },
  {
   "cell_type": "markdown",
   "id": "brutal-toner",
   "metadata": {},
   "source": [
    "## a) Load Data"
   ]
  },
  {
   "cell_type": "code",
   "execution_count": 4,
   "id": "joint-conversation",
   "metadata": {},
   "outputs": [],
   "source": [
    "# Read in files"
   ]
  },
  {
   "cell_type": "code",
   "execution_count": 5,
   "id": "crucial-rugby",
   "metadata": {},
   "outputs": [],
   "source": [
    "def read_file(filepath):\n",
    "    df = dd.read_csv(filepath, sep = ',', header = None)\n",
    "    df.columns = ['subject_id', 'activity_code', 'timestamp', 'x_coord', 'y_coord', 'z_coord']\n",
    "    df['timestamp_dt'] = dd.to_datetime(df['timestamp'])\n",
    "    df['z_coord'] = df['z_coord'].str.replace(\";\",\"\").astype('float64') # remove ; and ensure float (having issues with lineterminator)\n",
    "    return df"
   ]
  },
  {
   "cell_type": "code",
   "execution_count": 6,
   "id": "sized-report",
   "metadata": {},
   "outputs": [],
   "source": [
    "# phone data\n",
    "phone_accel_df = read_file('wisdm-dataset/raw/phone/accel/*.txt')\n",
    "phone_gyro_df = read_file('wisdm-dataset/raw/phone/gyro/*.txt')\n",
    "\n",
    "# watch data\n",
    "watch_accel_df = read_file('wisdm-dataset/raw/watch/accel/*.txt')\n",
    "watch_gyro_df = read_file('wisdm-dataset/raw/watch/gyro/*.txt')"
   ]
  },
  {
   "cell_type": "code",
   "execution_count": 7,
   "id": "straight-anger",
   "metadata": {},
   "outputs": [
    {
     "data": {
      "text/plain": [
       "subject_id                int64\n",
       "activity_code            object\n",
       "timestamp                 int64\n",
       "x_coord                 float64\n",
       "y_coord                 float64\n",
       "z_coord                 float64\n",
       "timestamp_dt     datetime64[ns]\n",
       "dtype: object"
      ]
     },
     "execution_count": 7,
     "metadata": {},
     "output_type": "execute_result"
    }
   ],
   "source": [
    "watch_gyro_df.dtypes"
   ]
  },
  {
   "cell_type": "markdown",
   "id": "apparent-microphone",
   "metadata": {},
   "source": [
    "## b) Exploratory Data Analysis"
   ]
  },
  {
   "cell_type": "code",
   "execution_count": null,
   "id": "blessed-equity",
   "metadata": {},
   "outputs": [],
   "source": [
    "def plot_subject_activity(df, title_append=None):\n",
    "    subject_id = df.head(1)['subject_id'][0]\n",
    "    activity_code = df.head(1)['activity_code'][0]\n",
    "    title = f'Subject {subject_id} Performing Activity {activity_code}' \n",
    "    if title_append != None:\n",
    "        title+=str(f' ({title_append})')\n",
    "        \n",
    "    fig, ax = plt.subplots(3, figsize=(20,10))\n",
    "    fig.suptitle(title)\n",
    "    ax[0].plot(range(len(df)), df['x_coord'].compute().to_numpy())\n",
    "    ax[0].set_title('x_coord')\n",
    "    ax[1].plot(range(len(df)), df['y_coord'].compute().to_numpy())\n",
    "    ax[1].set_title('y_coord')\n",
    "    ax[2].plot(range(len(df)), df['z_coord'].compute().to_numpy())\n",
    "    ax[2].set_title('z_coord')\n",
    "    ax[2].set_xlabel('Interval')"
   ]
  },
  {
   "cell_type": "code",
   "execution_count": null,
   "id": "speaking-pixel",
   "metadata": {},
   "outputs": [],
   "source": [
    "temp = phone_gyro_df[(phone_gyro_df['subject_id'] == 1600) & (phone_gyro_df['activity_code'] == 'A')]\n",
    "plot_subject_activity(temp, 'Phone Gyro')"
   ]
  },
  {
   "cell_type": "code",
   "execution_count": null,
   "id": "expected-utility",
   "metadata": {},
   "outputs": [],
   "source": [
    "print(f'len(phone_accel_df):\\t{len(phone_accel_df)}')\n",
    "print(f'len(phone_gyro_df):\\t{len(phone_gyro_df)}')\n",
    "print(f'len(watch_accel_df):\\t{len(watch_accel_df)}')\n",
    "print(f'len(watch_gyro_df):\\t{len(watch_gyro_df)}')"
   ]
  },
  {
   "cell_type": "markdown",
   "id": "promising-repository",
   "metadata": {},
   "source": [
    "Row counts match description within the provided documentation. That being said, intuitively, one might think there would be equal size accelerometer and gyroscope data for each respective device, but that is not the case. If we want to use the different device sensor data in conjunction, we will have to ensure an equal amount of rows (len(phone_accel_df) == len(phone_gyro_df)). We will attempt to join on the timestamps to accomplish this."
   ]
  },
  {
   "cell_type": "code",
   "execution_count": null,
   "id": "artificial-letter",
   "metadata": {},
   "outputs": [],
   "source": [
    "phone_accel_sub_act_interval_counts = phone_accel_df.groupby(['subject_id', 'activity_code']).size().rename('count').reset_index()\n",
    "len(phone_accel_sub_act_interval_counts)\n",
    "# Expected result if all subjects performed all activities: 51 x 18 = 918"
   ]
  },
  {
   "cell_type": "code",
   "execution_count": null,
   "id": "continental-supervision",
   "metadata": {},
   "outputs": [],
   "source": [
    "phone_gyro_sub_act_interval_counts = phone_gyro_df.groupby(['subject_id', 'activity_code']).size().rename('count').reset_index()\n",
    "len(phone_gyro_sub_act_interval_counts)\n",
    "# Expected result if all subjects performed all activities: 51 x 18 = 918"
   ]
  },
  {
   "cell_type": "code",
   "execution_count": null,
   "id": "stable-saturn",
   "metadata": {},
   "outputs": [],
   "source": [
    "phone_accel_sub_act_counts = phone_accel_sub_act_interval_counts.groupby('subject_id').size().rename('activity_count').reset_index()\n",
    "phone_accel_sub_act_counts[phone_accel_sub_act_counts['activity_count'] < 18].compute()\n",
    "# Our slackers that didn't perform all 18 activities with phone accel"
   ]
  },
  {
   "cell_type": "code",
   "execution_count": null,
   "id": "wound-secretary",
   "metadata": {},
   "outputs": [],
   "source": [
    "phone_gyro_sub_act_counts = phone_gyro_sub_act_interval_counts.groupby('subject_id').size().rename('activity_count').reset_index()\n",
    "phone_gyro_sub_act_counts[phone_gyro_sub_act_counts['activity_count'] < 18].compute()\n",
    "# Our slackers that didn't perform all 18 activities with phone gyro"
   ]
  },
  {
   "cell_type": "markdown",
   "id": "chief-hydrogen",
   "metadata": {},
   "source": [
    "Additional Takeaways:\n",
    "- Not all subjects performed all activities with phone sensors\n",
    "- Some subjects may have performed certain activities with only 1 of the phone sensors"
   ]
  },
  {
   "cell_type": "code",
   "execution_count": null,
   "id": "requested-trout",
   "metadata": {},
   "outputs": [],
   "source": [
    "# Join gyroscope and accelerometer data by device"
   ]
  },
  {
   "cell_type": "code",
   "execution_count": 8,
   "id": "magnetic-subsection",
   "metadata": {},
   "outputs": [
    {
     "data": {
      "text/html": [
       "<div>\n",
       "<style scoped>\n",
       "    .dataframe tbody tr th:only-of-type {\n",
       "        vertical-align: middle;\n",
       "    }\n",
       "\n",
       "    .dataframe tbody tr th {\n",
       "        vertical-align: top;\n",
       "    }\n",
       "\n",
       "    .dataframe thead th {\n",
       "        text-align: right;\n",
       "    }\n",
       "</style>\n",
       "<table border=\"1\" class=\"dataframe\">\n",
       "  <thead>\n",
       "    <tr style=\"text-align: right;\">\n",
       "      <th></th>\n",
       "      <th>subject_id</th>\n",
       "      <th>activity_code</th>\n",
       "      <th>timestamp_accel</th>\n",
       "      <th>x_coord_accel</th>\n",
       "      <th>y_coord_accel</th>\n",
       "      <th>z_coord_accel</th>\n",
       "      <th>timestamp_dt</th>\n",
       "      <th>timestamp_gyro</th>\n",
       "      <th>x_coord_gyro</th>\n",
       "      <th>y_coord_gyro</th>\n",
       "      <th>z_coord_gyro</th>\n",
       "    </tr>\n",
       "  </thead>\n",
       "  <tbody>\n",
       "    <tr>\n",
       "      <th>0</th>\n",
       "      <td>1600</td>\n",
       "      <td>A</td>\n",
       "      <td>252208623536856</td>\n",
       "      <td>0.889343</td>\n",
       "      <td>4.531982</td>\n",
       "      <td>-0.228958</td>\n",
       "      <td>1970-01-03 22:03:28.623536856</td>\n",
       "      <td>252208623536856</td>\n",
       "      <td>0.910889</td>\n",
       "      <td>-0.612137</td>\n",
       "      <td>0.197403</td>\n",
       "    </tr>\n",
       "    <tr>\n",
       "      <th>1</th>\n",
       "      <td>1600</td>\n",
       "      <td>A</td>\n",
       "      <td>252208875306876</td>\n",
       "      <td>1.651108</td>\n",
       "      <td>13.003159</td>\n",
       "      <td>-2.630463</td>\n",
       "      <td>1970-01-03 22:03:28.875306876</td>\n",
       "      <td>252208875306876</td>\n",
       "      <td>1.082046</td>\n",
       "      <td>0.425598</td>\n",
       "      <td>0.237305</td>\n",
       "    </tr>\n",
       "    <tr>\n",
       "      <th>2</th>\n",
       "      <td>1600</td>\n",
       "      <td>A</td>\n",
       "      <td>252212249025138</td>\n",
       "      <td>-0.697052</td>\n",
       "      <td>11.577240</td>\n",
       "      <td>3.471695</td>\n",
       "      <td>1970-01-03 22:03:32.249025138</td>\n",
       "      <td>252212249025138</td>\n",
       "      <td>-0.653595</td>\n",
       "      <td>0.831863</td>\n",
       "      <td>0.515823</td>\n",
       "    </tr>\n",
       "    <tr>\n",
       "      <th>3</th>\n",
       "      <td>1600</td>\n",
       "      <td>A</td>\n",
       "      <td>252217435498358</td>\n",
       "      <td>-0.366928</td>\n",
       "      <td>8.423248</td>\n",
       "      <td>3.045731</td>\n",
       "      <td>1970-01-03 22:03:37.435498358</td>\n",
       "      <td>252217435498358</td>\n",
       "      <td>-0.254837</td>\n",
       "      <td>-0.243484</td>\n",
       "      <td>-0.491852</td>\n",
       "    </tr>\n",
       "    <tr>\n",
       "      <th>4</th>\n",
       "      <td>1600</td>\n",
       "      <td>A</td>\n",
       "      <td>252217939038397</td>\n",
       "      <td>-7.973221</td>\n",
       "      <td>15.072464</td>\n",
       "      <td>-0.969360</td>\n",
       "      <td>1970-01-03 22:03:37.939038397</td>\n",
       "      <td>252217939038397</td>\n",
       "      <td>-1.388626</td>\n",
       "      <td>-0.085068</td>\n",
       "      <td>0.710587</td>\n",
       "    </tr>\n",
       "  </tbody>\n",
       "</table>\n",
       "</div>"
      ],
      "text/plain": [
       "   subject_id activity_code  timestamp_accel  x_coord_accel  y_coord_accel  \\\n",
       "0        1600             A  252208623536856       0.889343       4.531982   \n",
       "1        1600             A  252208875306876       1.651108      13.003159   \n",
       "2        1600             A  252212249025138      -0.697052      11.577240   \n",
       "3        1600             A  252217435498358      -0.366928       8.423248   \n",
       "4        1600             A  252217939038397      -7.973221      15.072464   \n",
       "\n",
       "   z_coord_accel                  timestamp_dt   timestamp_gyro  x_coord_gyro  \\\n",
       "0      -0.228958 1970-01-03 22:03:28.623536856  252208623536856      0.910889   \n",
       "1      -2.630463 1970-01-03 22:03:28.875306876  252208875306876      1.082046   \n",
       "2       3.471695 1970-01-03 22:03:32.249025138  252212249025138     -0.653595   \n",
       "3       3.045731 1970-01-03 22:03:37.435498358  252217435498358     -0.254837   \n",
       "4      -0.969360 1970-01-03 22:03:37.939038397  252217939038397     -1.388626   \n",
       "\n",
       "   y_coord_gyro  z_coord_gyro  \n",
       "0     -0.612137      0.197403  \n",
       "1      0.425598      0.237305  \n",
       "2      0.831863      0.515823  \n",
       "3     -0.243484     -0.491852  \n",
       "4     -0.085068      0.710587  "
      ]
     },
     "execution_count": 8,
     "metadata": {},
     "output_type": "execute_result"
    }
   ],
   "source": [
    "# Timestamps between sensors not guaranteed to be \"perfectly\" aligned\n",
    "# Including activity_code in inner_join will only grab data when available for both sensors\n",
    "combined_phone_df = phone_accel_df.merge(phone_gyro_df, on=[\"subject_id\", \"activity_code\", \"timestamp_dt\"], how=\"inner\", suffixes=['_accel', '_gyro'])\n",
    "combined_phone_df.head()"
   ]
  },
  {
   "cell_type": "code",
   "execution_count": 9,
   "id": "burning-michael",
   "metadata": {},
   "outputs": [
    {
     "data": {
      "text/html": [
       "<div>\n",
       "<style scoped>\n",
       "    .dataframe tbody tr th:only-of-type {\n",
       "        vertical-align: middle;\n",
       "    }\n",
       "\n",
       "    .dataframe tbody tr th {\n",
       "        vertical-align: top;\n",
       "    }\n",
       "\n",
       "    .dataframe thead th {\n",
       "        text-align: right;\n",
       "    }\n",
       "</style>\n",
       "<table border=\"1\" class=\"dataframe\">\n",
       "  <thead>\n",
       "    <tr style=\"text-align: right;\">\n",
       "      <th></th>\n",
       "      <th>subject_id</th>\n",
       "      <th>activity_code</th>\n",
       "      <th>timestamp</th>\n",
       "      <th>x_coord_accel</th>\n",
       "      <th>y_coord_accel</th>\n",
       "      <th>z_coord_accel</th>\n",
       "      <th>timestamp_dt</th>\n",
       "      <th>x_coord_gyro</th>\n",
       "      <th>y_coord_gyro</th>\n",
       "      <th>z_coord_gyro</th>\n",
       "    </tr>\n",
       "  </thead>\n",
       "  <tbody>\n",
       "    <tr>\n",
       "      <th>0</th>\n",
       "      <td>1600</td>\n",
       "      <td>A</td>\n",
       "      <td>252208623536856</td>\n",
       "      <td>0.889343</td>\n",
       "      <td>4.531982</td>\n",
       "      <td>-0.228958</td>\n",
       "      <td>1970-01-03 22:03:28.623536856</td>\n",
       "      <td>0.910889</td>\n",
       "      <td>-0.612137</td>\n",
       "      <td>0.197403</td>\n",
       "    </tr>\n",
       "    <tr>\n",
       "      <th>1</th>\n",
       "      <td>1600</td>\n",
       "      <td>A</td>\n",
       "      <td>252208875306876</td>\n",
       "      <td>1.651108</td>\n",
       "      <td>13.003159</td>\n",
       "      <td>-2.630463</td>\n",
       "      <td>1970-01-03 22:03:28.875306876</td>\n",
       "      <td>1.082046</td>\n",
       "      <td>0.425598</td>\n",
       "      <td>0.237305</td>\n",
       "    </tr>\n",
       "    <tr>\n",
       "      <th>2</th>\n",
       "      <td>1600</td>\n",
       "      <td>A</td>\n",
       "      <td>252212249025138</td>\n",
       "      <td>-0.697052</td>\n",
       "      <td>11.577240</td>\n",
       "      <td>3.471695</td>\n",
       "      <td>1970-01-03 22:03:32.249025138</td>\n",
       "      <td>-0.653595</td>\n",
       "      <td>0.831863</td>\n",
       "      <td>0.515823</td>\n",
       "    </tr>\n",
       "    <tr>\n",
       "      <th>3</th>\n",
       "      <td>1600</td>\n",
       "      <td>A</td>\n",
       "      <td>252217435498358</td>\n",
       "      <td>-0.366928</td>\n",
       "      <td>8.423248</td>\n",
       "      <td>3.045731</td>\n",
       "      <td>1970-01-03 22:03:37.435498358</td>\n",
       "      <td>-0.254837</td>\n",
       "      <td>-0.243484</td>\n",
       "      <td>-0.491852</td>\n",
       "    </tr>\n",
       "    <tr>\n",
       "      <th>4</th>\n",
       "      <td>1600</td>\n",
       "      <td>A</td>\n",
       "      <td>252217939038397</td>\n",
       "      <td>-7.973221</td>\n",
       "      <td>15.072464</td>\n",
       "      <td>-0.969360</td>\n",
       "      <td>1970-01-03 22:03:37.939038397</td>\n",
       "      <td>-1.388626</td>\n",
       "      <td>-0.085068</td>\n",
       "      <td>0.710587</td>\n",
       "    </tr>\n",
       "  </tbody>\n",
       "</table>\n",
       "</div>"
      ],
      "text/plain": [
       "   subject_id activity_code        timestamp  x_coord_accel  y_coord_accel  \\\n",
       "0        1600             A  252208623536856       0.889343       4.531982   \n",
       "1        1600             A  252208875306876       1.651108      13.003159   \n",
       "2        1600             A  252212249025138      -0.697052      11.577240   \n",
       "3        1600             A  252217435498358      -0.366928       8.423248   \n",
       "4        1600             A  252217939038397      -7.973221      15.072464   \n",
       "\n",
       "   z_coord_accel                  timestamp_dt  x_coord_gyro  y_coord_gyro  \\\n",
       "0      -0.228958 1970-01-03 22:03:28.623536856      0.910889     -0.612137   \n",
       "1      -2.630463 1970-01-03 22:03:28.875306876      1.082046      0.425598   \n",
       "2       3.471695 1970-01-03 22:03:32.249025138     -0.653595      0.831863   \n",
       "3       3.045731 1970-01-03 22:03:37.435498358     -0.254837     -0.243484   \n",
       "4      -0.969360 1970-01-03 22:03:37.939038397     -1.388626     -0.085068   \n",
       "\n",
       "   z_coord_gyro  \n",
       "0      0.197403  \n",
       "1      0.237305  \n",
       "2      0.515823  \n",
       "3     -0.491852  \n",
       "4      0.710587  "
      ]
     },
     "execution_count": 9,
     "metadata": {},
     "output_type": "execute_result"
    }
   ],
   "source": [
    "# Cleanup columns\n",
    "combined_phone_df = combined_phone_df.drop(['timestamp_gyro'], axis=1)\n",
    "combined_phone_df = combined_phone_df.rename(columns={'timestamp_accel': 'timestamp'})\n",
    "combined_phone_df.head()"
   ]
  },
  {
   "cell_type": "code",
   "execution_count": null,
   "id": "answering-laugh",
   "metadata": {},
   "outputs": [],
   "source": [
    "len(combined_phone_df)"
   ]
  },
  {
   "cell_type": "code",
   "execution_count": null,
   "id": "front-hundred",
   "metadata": {},
   "outputs": [],
   "source": [
    "combined_phone_df.isna().sum().compute()"
   ]
  },
  {
   "cell_type": "code",
   "execution_count": null,
   "id": "passive-chain",
   "metadata": {},
   "outputs": [],
   "source": [
    "corr_matrix = combined_phone_df.corr()\n",
    "corr_matrix.compute().style.background_gradient(cmap='coolwarm')"
   ]
  },
  {
   "cell_type": "code",
   "execution_count": null,
   "id": "proof-basketball",
   "metadata": {},
   "outputs": [],
   "source": [
    "combined_phone_df.set_index('timestamp_dt').groupby(['subject_id', 'activity_code', pd.Grouper(freq='3S')]).size().head(50) # 3S = 3 seconds"
   ]
  },
  {
   "cell_type": "code",
   "execution_count": 10,
   "id": "inside-prize",
   "metadata": {},
   "outputs": [],
   "source": [
    "phone_grouped_df = combined_phone_df.set_index('timestamp_dt').groupby(['subject_id', 'activity_code', pd.Grouper(freq='3S')])"
   ]
  },
  {
   "cell_type": "code",
   "execution_count": 11,
   "id": "developed-arthur",
   "metadata": {},
   "outputs": [
    {
     "data": {
      "text/html": [
       "<div>\n",
       "<style scoped>\n",
       "    .dataframe tbody tr th:only-of-type {\n",
       "        vertical-align: middle;\n",
       "    }\n",
       "\n",
       "    .dataframe tbody tr th {\n",
       "        vertical-align: top;\n",
       "    }\n",
       "\n",
       "    .dataframe thead th {\n",
       "        text-align: right;\n",
       "    }\n",
       "</style>\n",
       "<table border=\"1\" class=\"dataframe\">\n",
       "  <thead>\n",
       "    <tr style=\"text-align: right;\">\n",
       "      <th></th>\n",
       "      <th></th>\n",
       "      <th></th>\n",
       "      <th>timestamp</th>\n",
       "      <th>x_coord_accel</th>\n",
       "      <th>y_coord_accel</th>\n",
       "      <th>z_coord_accel</th>\n",
       "      <th>x_coord_gyro</th>\n",
       "      <th>y_coord_gyro</th>\n",
       "      <th>z_coord_gyro</th>\n",
       "    </tr>\n",
       "    <tr>\n",
       "      <th>subject_id</th>\n",
       "      <th>activity_code</th>\n",
       "      <th>timestamp_dt</th>\n",
       "      <th></th>\n",
       "      <th></th>\n",
       "      <th></th>\n",
       "      <th></th>\n",
       "      <th></th>\n",
       "      <th></th>\n",
       "      <th></th>\n",
       "    </tr>\n",
       "  </thead>\n",
       "  <tbody>\n",
       "    <tr>\n",
       "      <th rowspan=\"5\" valign=\"top\">1611</th>\n",
       "      <th rowspan=\"5\" valign=\"top\">F</th>\n",
       "      <th>1970-01-01 00:19:21</th>\n",
       "      <td>1.163260e+12</td>\n",
       "      <td>8.729862</td>\n",
       "      <td>3.539461</td>\n",
       "      <td>-2.111560</td>\n",
       "      <td>-0.038073</td>\n",
       "      <td>0.060864</td>\n",
       "      <td>0.023982</td>\n",
       "    </tr>\n",
       "    <tr>\n",
       "      <th>1970-01-01 00:19:24</th>\n",
       "      <td>1.165501e+12</td>\n",
       "      <td>8.820844</td>\n",
       "      <td>3.439254</td>\n",
       "      <td>-1.733797</td>\n",
       "      <td>-0.003111</td>\n",
       "      <td>0.006763</td>\n",
       "      <td>0.003343</td>\n",
       "    </tr>\n",
       "    <tr>\n",
       "      <th>1970-01-01 00:19:27</th>\n",
       "      <td>1.168497e+12</td>\n",
       "      <td>8.867655</td>\n",
       "      <td>3.398671</td>\n",
       "      <td>-1.600897</td>\n",
       "      <td>-0.000189</td>\n",
       "      <td>0.002110</td>\n",
       "      <td>0.001944</td>\n",
       "    </tr>\n",
       "    <tr>\n",
       "      <th>1970-01-01 00:19:30</th>\n",
       "      <td>1.171493e+12</td>\n",
       "      <td>8.887162</td>\n",
       "      <td>3.378646</td>\n",
       "      <td>-1.541527</td>\n",
       "      <td>-0.000440</td>\n",
       "      <td>0.000399</td>\n",
       "      <td>0.003515</td>\n",
       "    </tr>\n",
       "    <tr>\n",
       "      <th>1970-01-01 00:19:33</th>\n",
       "      <td>1.174489e+12</td>\n",
       "      <td>8.889435</td>\n",
       "      <td>3.361615</td>\n",
       "      <td>-1.537518</td>\n",
       "      <td>0.001218</td>\n",
       "      <td>0.000198</td>\n",
       "      <td>0.000884</td>\n",
       "    </tr>\n",
       "  </tbody>\n",
       "</table>\n",
       "</div>"
      ],
      "text/plain": [
       "                                                 timestamp  x_coord_accel  \\\n",
       "subject_id activity_code timestamp_dt                                       \n",
       "1611       F             1970-01-01 00:19:21  1.163260e+12       8.729862   \n",
       "                         1970-01-01 00:19:24  1.165501e+12       8.820844   \n",
       "                         1970-01-01 00:19:27  1.168497e+12       8.867655   \n",
       "                         1970-01-01 00:19:30  1.171493e+12       8.887162   \n",
       "                         1970-01-01 00:19:33  1.174489e+12       8.889435   \n",
       "\n",
       "                                              y_coord_accel  z_coord_accel  \\\n",
       "subject_id activity_code timestamp_dt                                        \n",
       "1611       F             1970-01-01 00:19:21       3.539461      -2.111560   \n",
       "                         1970-01-01 00:19:24       3.439254      -1.733797   \n",
       "                         1970-01-01 00:19:27       3.398671      -1.600897   \n",
       "                         1970-01-01 00:19:30       3.378646      -1.541527   \n",
       "                         1970-01-01 00:19:33       3.361615      -1.537518   \n",
       "\n",
       "                                              x_coord_gyro  y_coord_gyro  \\\n",
       "subject_id activity_code timestamp_dt                                      \n",
       "1611       F             1970-01-01 00:19:21     -0.038073      0.060864   \n",
       "                         1970-01-01 00:19:24     -0.003111      0.006763   \n",
       "                         1970-01-01 00:19:27     -0.000189      0.002110   \n",
       "                         1970-01-01 00:19:30     -0.000440      0.000399   \n",
       "                         1970-01-01 00:19:33      0.001218      0.000198   \n",
       "\n",
       "                                              z_coord_gyro  \n",
       "subject_id activity_code timestamp_dt                       \n",
       "1611       F             1970-01-01 00:19:21      0.023982  \n",
       "                         1970-01-01 00:19:24      0.003343  \n",
       "                         1970-01-01 00:19:27      0.001944  \n",
       "                         1970-01-01 00:19:30      0.003515  \n",
       "                         1970-01-01 00:19:33      0.000884  "
      ]
     },
     "execution_count": 11,
     "metadata": {},
     "output_type": "execute_result"
    }
   ],
   "source": [
    "phone_grouped_means_df = phone_grouped_df.mean()\n",
    "phone_grouped_means_df.head()"
   ]
  },
  {
   "cell_type": "code",
   "execution_count": null,
   "id": "former-smell",
   "metadata": {},
   "outputs": [],
   "source": [
    "len(phone_grouped_means_df)"
   ]
  },
  {
   "cell_type": "code",
   "execution_count": null,
   "id": "unable-sphere",
   "metadata": {},
   "outputs": [],
   "source": []
  },
  {
   "cell_type": "code",
   "execution_count": null,
   "id": "sudden-guest",
   "metadata": {},
   "outputs": [],
   "source": [
    "combined_watch_df = watch_accel_df.merge(watch_gyro_df, on=[\"subject_id\",\"timestamp\"], how=\"inner\")\n",
    "combined_watch_df.compute()"
   ]
  },
  {
   "cell_type": "code",
   "execution_count": null,
   "id": "objective-combine",
   "metadata": {},
   "outputs": [],
   "source": [
    "# Group by subject id, activity, time interval window (3s) - mean, std x, y, z with group by\n",
    "\n",
    "# https://stackoverflow.com/questions/35898667/group-by-time-and-other-column-in-pandas"
   ]
  },
  {
   "cell_type": "code",
   "execution_count": null,
   "id": "adult-depth",
   "metadata": {},
   "outputs": [],
   "source": [
    "# Join back together for single dataframe "
   ]
  },
  {
   "cell_type": "markdown",
   "id": "alpha-third",
   "metadata": {},
   "source": [
    "# 2. Model Selection & Training"
   ]
  },
  {
   "cell_type": "code",
   "execution_count": 12,
   "id": "liable-champagne",
   "metadata": {},
   "outputs": [],
   "source": [
    "# train test split\n",
    "import dask_ml.model_selection\n",
    "#train_test_split with 80-20 split\n",
    "X_train, X_test = dask_ml.model_selection.train_test_split(phone_grouped_means_df, shuffle = True, random_state=0, test_size = 0.2, train_size=0.8)"
   ]
  },
  {
   "cell_type": "code",
   "execution_count": 13,
   "id": "seasonal-trust",
   "metadata": {},
   "outputs": [
    {
     "data": {
      "text/html": [
       "<div>\n",
       "<style scoped>\n",
       "    .dataframe tbody tr th:only-of-type {\n",
       "        vertical-align: middle;\n",
       "    }\n",
       "\n",
       "    .dataframe tbody tr th {\n",
       "        vertical-align: top;\n",
       "    }\n",
       "\n",
       "    .dataframe thead th {\n",
       "        text-align: right;\n",
       "    }\n",
       "</style>\n",
       "<table border=\"1\" class=\"dataframe\">\n",
       "  <thead>\n",
       "    <tr style=\"text-align: right;\">\n",
       "      <th></th>\n",
       "      <th></th>\n",
       "      <th></th>\n",
       "      <th>timestamp</th>\n",
       "      <th>x_coord_accel</th>\n",
       "      <th>y_coord_accel</th>\n",
       "      <th>z_coord_accel</th>\n",
       "      <th>x_coord_gyro</th>\n",
       "      <th>y_coord_gyro</th>\n",
       "      <th>z_coord_gyro</th>\n",
       "    </tr>\n",
       "    <tr>\n",
       "      <th>subject_id</th>\n",
       "      <th>activity_code</th>\n",
       "      <th>timestamp_dt</th>\n",
       "      <th></th>\n",
       "      <th></th>\n",
       "      <th></th>\n",
       "      <th></th>\n",
       "      <th></th>\n",
       "      <th></th>\n",
       "      <th></th>\n",
       "    </tr>\n",
       "  </thead>\n",
       "  <tbody>\n",
       "    <tr>\n",
       "      <th>1633</th>\n",
       "      <th>L</th>\n",
       "      <th>1970-01-09 00:25:36</th>\n",
       "      <td>6.927375e+14</td>\n",
       "      <td>-0.037645</td>\n",
       "      <td>-8.722009</td>\n",
       "      <td>-4.797704</td>\n",
       "      <td>-0.000569</td>\n",
       "      <td>-0.008274</td>\n",
       "      <td>0.000912</td>\n",
       "    </tr>\n",
       "    <tr>\n",
       "      <th>1624</th>\n",
       "      <th>R</th>\n",
       "      <th>1970-01-06 23:18:57</th>\n",
       "      <td>5.159385e+14</td>\n",
       "      <td>7.010596</td>\n",
       "      <td>-4.339497</td>\n",
       "      <td>-5.392845</td>\n",
       "      <td>-0.001075</td>\n",
       "      <td>-0.000460</td>\n",
       "      <td>0.001310</td>\n",
       "    </tr>\n",
       "    <tr>\n",
       "      <th>1634</th>\n",
       "      <th>B</th>\n",
       "      <th>1970-01-01 21:42:30</th>\n",
       "      <td>7.815151e+13</td>\n",
       "      <td>-3.533785</td>\n",
       "      <td>7.675023</td>\n",
       "      <td>-1.576748</td>\n",
       "      <td>0.074562</td>\n",
       "      <td>0.062890</td>\n",
       "      <td>-0.047029</td>\n",
       "    </tr>\n",
       "    <tr>\n",
       "      <th>1650</th>\n",
       "      <th>Q</th>\n",
       "      <th>1970-01-05 03:11:54</th>\n",
       "      <td>3.571162e+14</td>\n",
       "      <td>-4.233556</td>\n",
       "      <td>-4.638135</td>\n",
       "      <td>-7.096383</td>\n",
       "      <td>0.001411</td>\n",
       "      <td>0.004661</td>\n",
       "      <td>0.000613</td>\n",
       "    </tr>\n",
       "    <tr>\n",
       "      <th>1613</th>\n",
       "      <th>I</th>\n",
       "      <th>1970-01-03 01:02:06</th>\n",
       "      <td>1.765275e+14</td>\n",
       "      <td>2.339335</td>\n",
       "      <td>5.202153</td>\n",
       "      <td>7.674111</td>\n",
       "      <td>-0.001065</td>\n",
       "      <td>0.000082</td>\n",
       "      <td>0.023716</td>\n",
       "    </tr>\n",
       "  </tbody>\n",
       "</table>\n",
       "</div>"
      ],
      "text/plain": [
       "                                                 timestamp  x_coord_accel  \\\n",
       "subject_id activity_code timestamp_dt                                       \n",
       "1633       L             1970-01-09 00:25:36  6.927375e+14      -0.037645   \n",
       "1624       R             1970-01-06 23:18:57  5.159385e+14       7.010596   \n",
       "1634       B             1970-01-01 21:42:30  7.815151e+13      -3.533785   \n",
       "1650       Q             1970-01-05 03:11:54  3.571162e+14      -4.233556   \n",
       "1613       I             1970-01-03 01:02:06  1.765275e+14       2.339335   \n",
       "\n",
       "                                              y_coord_accel  z_coord_accel  \\\n",
       "subject_id activity_code timestamp_dt                                        \n",
       "1633       L             1970-01-09 00:25:36      -8.722009      -4.797704   \n",
       "1624       R             1970-01-06 23:18:57      -4.339497      -5.392845   \n",
       "1634       B             1970-01-01 21:42:30       7.675023      -1.576748   \n",
       "1650       Q             1970-01-05 03:11:54      -4.638135      -7.096383   \n",
       "1613       I             1970-01-03 01:02:06       5.202153       7.674111   \n",
       "\n",
       "                                              x_coord_gyro  y_coord_gyro  \\\n",
       "subject_id activity_code timestamp_dt                                      \n",
       "1633       L             1970-01-09 00:25:36     -0.000569     -0.008274   \n",
       "1624       R             1970-01-06 23:18:57     -0.001075     -0.000460   \n",
       "1634       B             1970-01-01 21:42:30      0.074562      0.062890   \n",
       "1650       Q             1970-01-05 03:11:54      0.001411      0.004661   \n",
       "1613       I             1970-01-03 01:02:06     -0.001065      0.000082   \n",
       "\n",
       "                                              z_coord_gyro  \n",
       "subject_id activity_code timestamp_dt                       \n",
       "1633       L             1970-01-09 00:25:36      0.000912  \n",
       "1624       R             1970-01-06 23:18:57      0.001310  \n",
       "1634       B             1970-01-01 21:42:30     -0.047029  \n",
       "1650       Q             1970-01-05 03:11:54      0.000613  \n",
       "1613       I             1970-01-03 01:02:06      0.023716  "
      ]
     },
     "execution_count": 13,
     "metadata": {},
     "output_type": "execute_result"
    }
   ],
   "source": [
    "X_train.head()"
   ]
  },
  {
   "cell_type": "code",
   "execution_count": 14,
   "id": "finnish-determination",
   "metadata": {},
   "outputs": [
    {
     "data": {
      "text/plain": [
       "37447"
      ]
     },
     "execution_count": 14,
     "metadata": {},
     "output_type": "execute_result"
    }
   ],
   "source": [
    "len(X_train)"
   ]
  },
  {
   "cell_type": "code",
   "execution_count": 15,
   "id": "industrial-little",
   "metadata": {},
   "outputs": [
    {
     "data": {
      "text/plain": [
       "9217"
      ]
     },
     "execution_count": 15,
     "metadata": {},
     "output_type": "execute_result"
    }
   ],
   "source": [
    "len(X_test)"
   ]
  },
  {
   "cell_type": "code",
   "execution_count": 16,
   "id": "embedded-bhutan",
   "metadata": {},
   "outputs": [
    {
     "data": {
      "text/html": [
       "<div>\n",
       "<style scoped>\n",
       "    .dataframe tbody tr th:only-of-type {\n",
       "        vertical-align: middle;\n",
       "    }\n",
       "\n",
       "    .dataframe tbody tr th {\n",
       "        vertical-align: top;\n",
       "    }\n",
       "\n",
       "    .dataframe thead th {\n",
       "        text-align: right;\n",
       "    }\n",
       "</style>\n",
       "<table border=\"1\" class=\"dataframe\">\n",
       "  <thead>\n",
       "    <tr style=\"text-align: right;\">\n",
       "      <th></th>\n",
       "      <th>subject_id</th>\n",
       "      <th>x_coord_accel</th>\n",
       "      <th>y_coord_accel</th>\n",
       "      <th>z_coord_accel</th>\n",
       "      <th>x_coord_gyro</th>\n",
       "      <th>y_coord_gyro</th>\n",
       "      <th>z_coord_gyro</th>\n",
       "    </tr>\n",
       "  </thead>\n",
       "  <tbody>\n",
       "    <tr>\n",
       "      <th>0</th>\n",
       "      <td>1633</td>\n",
       "      <td>-0.037645</td>\n",
       "      <td>-8.722009</td>\n",
       "      <td>-4.797704</td>\n",
       "      <td>-0.000569</td>\n",
       "      <td>-0.008274</td>\n",
       "      <td>0.000912</td>\n",
       "    </tr>\n",
       "    <tr>\n",
       "      <th>1</th>\n",
       "      <td>1624</td>\n",
       "      <td>7.010596</td>\n",
       "      <td>-4.339497</td>\n",
       "      <td>-5.392845</td>\n",
       "      <td>-0.001075</td>\n",
       "      <td>-0.000460</td>\n",
       "      <td>0.001310</td>\n",
       "    </tr>\n",
       "    <tr>\n",
       "      <th>2</th>\n",
       "      <td>1634</td>\n",
       "      <td>-3.533785</td>\n",
       "      <td>7.675023</td>\n",
       "      <td>-1.576748</td>\n",
       "      <td>0.074562</td>\n",
       "      <td>0.062890</td>\n",
       "      <td>-0.047029</td>\n",
       "    </tr>\n",
       "    <tr>\n",
       "      <th>3</th>\n",
       "      <td>1650</td>\n",
       "      <td>-4.233556</td>\n",
       "      <td>-4.638135</td>\n",
       "      <td>-7.096383</td>\n",
       "      <td>0.001411</td>\n",
       "      <td>0.004661</td>\n",
       "      <td>0.000613</td>\n",
       "    </tr>\n",
       "    <tr>\n",
       "      <th>4</th>\n",
       "      <td>1613</td>\n",
       "      <td>2.339335</td>\n",
       "      <td>5.202153</td>\n",
       "      <td>7.674111</td>\n",
       "      <td>-0.001065</td>\n",
       "      <td>0.000082</td>\n",
       "      <td>0.023716</td>\n",
       "    </tr>\n",
       "  </tbody>\n",
       "</table>\n",
       "</div>"
      ],
      "text/plain": [
       "   subject_id  x_coord_accel  y_coord_accel  z_coord_accel  x_coord_gyro  \\\n",
       "0        1633      -0.037645      -8.722009      -4.797704     -0.000569   \n",
       "1        1624       7.010596      -4.339497      -5.392845     -0.001075   \n",
       "2        1634      -3.533785       7.675023      -1.576748      0.074562   \n",
       "3        1650      -4.233556      -4.638135      -7.096383      0.001411   \n",
       "4        1613       2.339335       5.202153       7.674111     -0.001065   \n",
       "\n",
       "   y_coord_gyro  z_coord_gyro  \n",
       "0     -0.008274      0.000912  \n",
       "1     -0.000460      0.001310  \n",
       "2      0.062890     -0.047029  \n",
       "3      0.004661      0.000613  \n",
       "4      0.000082      0.023716  "
      ]
     },
     "execution_count": 16,
     "metadata": {},
     "output_type": "execute_result"
    }
   ],
   "source": [
    "#reset the indices of the training data so that we can separate out the activity_code as labels\n",
    "X_train_reset = X_train.reset_index()\n",
    "#create a separate df just for the training labels\n",
    "X_train_labels = X_train_reset['activity_code']\n",
    "#drop the timestamp columns and the activity_code column from the index reset training data\n",
    "X_train_reset = X_train_reset.drop(['timestamp_dt', 'timestamp', 'activity_code'], axis=1)\n",
    "X_train_reset.head()"
   ]
  },
  {
   "cell_type": "code",
   "execution_count": 17,
   "id": "inner-establishment",
   "metadata": {},
   "outputs": [
    {
     "data": {
      "text/plain": [
       "0    L\n",
       "1    R\n",
       "2    B\n",
       "3    Q\n",
       "4    I\n",
       "Name: activity_code, dtype: object"
      ]
     },
     "execution_count": 17,
     "metadata": {},
     "output_type": "execute_result"
    }
   ],
   "source": [
    "X_train_labels.head()"
   ]
  },
  {
   "cell_type": "code",
   "execution_count": 18,
   "id": "criminal-neighborhood",
   "metadata": {},
   "outputs": [],
   "source": [
    "# fit model\n",
    "from sklearn.ensemble import RandomForestClassifier\n",
    "randomForestClassifier = RandomForestClassifier(random_state=0)\n",
    "with joblib.parallel_backend('dask'):\n",
    "    randomForestClassifier.fit(X_train_reset, X_train_labels)\n",
    "# hyperparamter tuning depending on model selected (if time permits)"
   ]
  },
  {
   "cell_type": "markdown",
   "id": "amino-caribbean",
   "metadata": {},
   "source": [
    "# 3. Model Test"
   ]
  },
  {
   "cell_type": "code",
   "execution_count": 19,
   "id": "patient-configuration",
   "metadata": {},
   "outputs": [
    {
     "data": {
      "text/html": [
       "<div>\n",
       "<style scoped>\n",
       "    .dataframe tbody tr th:only-of-type {\n",
       "        vertical-align: middle;\n",
       "    }\n",
       "\n",
       "    .dataframe tbody tr th {\n",
       "        vertical-align: top;\n",
       "    }\n",
       "\n",
       "    .dataframe thead th {\n",
       "        text-align: right;\n",
       "    }\n",
       "</style>\n",
       "<table border=\"1\" class=\"dataframe\">\n",
       "  <thead>\n",
       "    <tr style=\"text-align: right;\">\n",
       "      <th></th>\n",
       "      <th></th>\n",
       "      <th></th>\n",
       "      <th>timestamp</th>\n",
       "      <th>x_coord_accel</th>\n",
       "      <th>y_coord_accel</th>\n",
       "      <th>z_coord_accel</th>\n",
       "      <th>x_coord_gyro</th>\n",
       "      <th>y_coord_gyro</th>\n",
       "      <th>z_coord_gyro</th>\n",
       "    </tr>\n",
       "    <tr>\n",
       "      <th>subject_id</th>\n",
       "      <th>activity_code</th>\n",
       "      <th>timestamp_dt</th>\n",
       "      <th></th>\n",
       "      <th></th>\n",
       "      <th></th>\n",
       "      <th></th>\n",
       "      <th></th>\n",
       "      <th></th>\n",
       "      <th></th>\n",
       "    </tr>\n",
       "  </thead>\n",
       "  <tbody>\n",
       "    <tr>\n",
       "      <th>1609</th>\n",
       "      <th>D</th>\n",
       "      <th>1970-01-02 12:56:27</th>\n",
       "      <td>1.329885e+14</td>\n",
       "      <td>2.684975</td>\n",
       "      <td>-3.660209</td>\n",
       "      <td>-9.150366</td>\n",
       "      <td>0.003215</td>\n",
       "      <td>-0.001748</td>\n",
       "      <td>0.001136</td>\n",
       "    </tr>\n",
       "    <tr>\n",
       "      <th>1610</th>\n",
       "      <th>D</th>\n",
       "      <th>1970-01-01 04:21:27</th>\n",
       "      <td>1.568851e+13</td>\n",
       "      <td>8.921557</td>\n",
       "      <td>3.392493</td>\n",
       "      <td>-0.587196</td>\n",
       "      <td>0.000492</td>\n",
       "      <td>-0.000050</td>\n",
       "      <td>-0.000329</td>\n",
       "    </tr>\n",
       "    <tr>\n",
       "      <th>1648</th>\n",
       "      <th>D</th>\n",
       "      <th>1970-01-06 08:30:36</th>\n",
       "      <td>4.626372e+14</td>\n",
       "      <td>-9.315328</td>\n",
       "      <td>-0.515010</td>\n",
       "      <td>-1.785061</td>\n",
       "      <td>0.001336</td>\n",
       "      <td>0.001535</td>\n",
       "      <td>-0.000740</td>\n",
       "    </tr>\n",
       "    <tr>\n",
       "      <th>1644</th>\n",
       "      <th>H</th>\n",
       "      <th>1970-01-22 00:43:15</th>\n",
       "      <td>1.816996e+15</td>\n",
       "      <td>-0.158696</td>\n",
       "      <td>-9.247032</td>\n",
       "      <td>-0.988553</td>\n",
       "      <td>0.021166</td>\n",
       "      <td>-0.006608</td>\n",
       "      <td>-0.001528</td>\n",
       "    </tr>\n",
       "    <tr>\n",
       "      <th>1606</th>\n",
       "      <th>L</th>\n",
       "      <th>1970-01-02 11:11:12</th>\n",
       "      <td>1.266735e+14</td>\n",
       "      <td>-9.905204</td>\n",
       "      <td>-0.660528</td>\n",
       "      <td>-0.536415</td>\n",
       "      <td>0.006033</td>\n",
       "      <td>-0.014790</td>\n",
       "      <td>-0.003439</td>\n",
       "    </tr>\n",
       "  </tbody>\n",
       "</table>\n",
       "</div>"
      ],
      "text/plain": [
       "                                                 timestamp  x_coord_accel  \\\n",
       "subject_id activity_code timestamp_dt                                       \n",
       "1609       D             1970-01-02 12:56:27  1.329885e+14       2.684975   \n",
       "1610       D             1970-01-01 04:21:27  1.568851e+13       8.921557   \n",
       "1648       D             1970-01-06 08:30:36  4.626372e+14      -9.315328   \n",
       "1644       H             1970-01-22 00:43:15  1.816996e+15      -0.158696   \n",
       "1606       L             1970-01-02 11:11:12  1.266735e+14      -9.905204   \n",
       "\n",
       "                                              y_coord_accel  z_coord_accel  \\\n",
       "subject_id activity_code timestamp_dt                                        \n",
       "1609       D             1970-01-02 12:56:27      -3.660209      -9.150366   \n",
       "1610       D             1970-01-01 04:21:27       3.392493      -0.587196   \n",
       "1648       D             1970-01-06 08:30:36      -0.515010      -1.785061   \n",
       "1644       H             1970-01-22 00:43:15      -9.247032      -0.988553   \n",
       "1606       L             1970-01-02 11:11:12      -0.660528      -0.536415   \n",
       "\n",
       "                                              x_coord_gyro  y_coord_gyro  \\\n",
       "subject_id activity_code timestamp_dt                                      \n",
       "1609       D             1970-01-02 12:56:27      0.003215     -0.001748   \n",
       "1610       D             1970-01-01 04:21:27      0.000492     -0.000050   \n",
       "1648       D             1970-01-06 08:30:36      0.001336      0.001535   \n",
       "1644       H             1970-01-22 00:43:15      0.021166     -0.006608   \n",
       "1606       L             1970-01-02 11:11:12      0.006033     -0.014790   \n",
       "\n",
       "                                              z_coord_gyro  \n",
       "subject_id activity_code timestamp_dt                       \n",
       "1609       D             1970-01-02 12:56:27      0.001136  \n",
       "1610       D             1970-01-01 04:21:27     -0.000329  \n",
       "1648       D             1970-01-06 08:30:36     -0.000740  \n",
       "1644       H             1970-01-22 00:43:15     -0.001528  \n",
       "1606       L             1970-01-02 11:11:12     -0.003439  "
      ]
     },
     "execution_count": 19,
     "metadata": {},
     "output_type": "execute_result"
    }
   ],
   "source": [
    "X_test.head()"
   ]
  },
  {
   "cell_type": "code",
   "execution_count": 20,
   "id": "republican-benchmark",
   "metadata": {},
   "outputs": [
    {
     "data": {
      "text/html": [
       "<div>\n",
       "<style scoped>\n",
       "    .dataframe tbody tr th:only-of-type {\n",
       "        vertical-align: middle;\n",
       "    }\n",
       "\n",
       "    .dataframe tbody tr th {\n",
       "        vertical-align: top;\n",
       "    }\n",
       "\n",
       "    .dataframe thead th {\n",
       "        text-align: right;\n",
       "    }\n",
       "</style>\n",
       "<table border=\"1\" class=\"dataframe\">\n",
       "  <thead>\n",
       "    <tr style=\"text-align: right;\">\n",
       "      <th></th>\n",
       "      <th>subject_id</th>\n",
       "      <th>x_coord_accel</th>\n",
       "      <th>y_coord_accel</th>\n",
       "      <th>z_coord_accel</th>\n",
       "      <th>x_coord_gyro</th>\n",
       "      <th>y_coord_gyro</th>\n",
       "      <th>z_coord_gyro</th>\n",
       "    </tr>\n",
       "  </thead>\n",
       "  <tbody>\n",
       "    <tr>\n",
       "      <th>0</th>\n",
       "      <td>1609</td>\n",
       "      <td>2.684975</td>\n",
       "      <td>-3.660209</td>\n",
       "      <td>-9.150366</td>\n",
       "      <td>0.003215</td>\n",
       "      <td>-0.001748</td>\n",
       "      <td>0.001136</td>\n",
       "    </tr>\n",
       "    <tr>\n",
       "      <th>1</th>\n",
       "      <td>1610</td>\n",
       "      <td>8.921557</td>\n",
       "      <td>3.392493</td>\n",
       "      <td>-0.587196</td>\n",
       "      <td>0.000492</td>\n",
       "      <td>-0.000050</td>\n",
       "      <td>-0.000329</td>\n",
       "    </tr>\n",
       "    <tr>\n",
       "      <th>2</th>\n",
       "      <td>1648</td>\n",
       "      <td>-9.315328</td>\n",
       "      <td>-0.515010</td>\n",
       "      <td>-1.785061</td>\n",
       "      <td>0.001336</td>\n",
       "      <td>0.001535</td>\n",
       "      <td>-0.000740</td>\n",
       "    </tr>\n",
       "    <tr>\n",
       "      <th>3</th>\n",
       "      <td>1644</td>\n",
       "      <td>-0.158696</td>\n",
       "      <td>-9.247032</td>\n",
       "      <td>-0.988553</td>\n",
       "      <td>0.021166</td>\n",
       "      <td>-0.006608</td>\n",
       "      <td>-0.001528</td>\n",
       "    </tr>\n",
       "    <tr>\n",
       "      <th>4</th>\n",
       "      <td>1606</td>\n",
       "      <td>-9.905204</td>\n",
       "      <td>-0.660528</td>\n",
       "      <td>-0.536415</td>\n",
       "      <td>0.006033</td>\n",
       "      <td>-0.014790</td>\n",
       "      <td>-0.003439</td>\n",
       "    </tr>\n",
       "  </tbody>\n",
       "</table>\n",
       "</div>"
      ],
      "text/plain": [
       "   subject_id  x_coord_accel  y_coord_accel  z_coord_accel  x_coord_gyro  \\\n",
       "0        1609       2.684975      -3.660209      -9.150366      0.003215   \n",
       "1        1610       8.921557       3.392493      -0.587196      0.000492   \n",
       "2        1648      -9.315328      -0.515010      -1.785061      0.001336   \n",
       "3        1644      -0.158696      -9.247032      -0.988553      0.021166   \n",
       "4        1606      -9.905204      -0.660528      -0.536415      0.006033   \n",
       "\n",
       "   y_coord_gyro  z_coord_gyro  \n",
       "0     -0.001748      0.001136  \n",
       "1     -0.000050     -0.000329  \n",
       "2      0.001535     -0.000740  \n",
       "3     -0.006608     -0.001528  \n",
       "4     -0.014790     -0.003439  "
      ]
     },
     "execution_count": 20,
     "metadata": {},
     "output_type": "execute_result"
    }
   ],
   "source": [
    "#reset the indices of the testing data so that we can separate out the activity_code as labels\n",
    "X_test_reset = X_test.reset_index()\n",
    "#create a separate df just for the testing labels\n",
    "X_test_labels = X_test_reset['activity_code']\n",
    "#drop the timestamp columns and the activity_code column from the index reset testing data\n",
    "X_test_reset = X_test_reset.drop(['timestamp_dt', 'timestamp', 'activity_code'], axis=1)\n",
    "X_test_reset.head()"
   ]
  },
  {
   "cell_type": "code",
   "execution_count": 21,
   "id": "synthetic-helena",
   "metadata": {},
   "outputs": [
    {
     "data": {
      "text/plain": [
       "0    D\n",
       "1    D\n",
       "2    D\n",
       "3    H\n",
       "4    L\n",
       "Name: activity_code, dtype: object"
      ]
     },
     "execution_count": 21,
     "metadata": {},
     "output_type": "execute_result"
    }
   ],
   "source": [
    "X_test_labels.head()"
   ]
  },
  {
   "cell_type": "code",
   "execution_count": null,
   "id": "least-pioneer",
   "metadata": {},
   "outputs": [],
   "source": [
    "# test /validate and provide final accurracy\n",
    "# with joblib.parallel_backend('dask'):\n",
    "#     score = randomForestClassifier.score(X_test_reset, X_test_labels)\n",
    "# score"
   ]
  },
  {
   "cell_type": "code",
   "execution_count": null,
   "id": "classical-underground",
   "metadata": {},
   "outputs": [],
   "source": [
    "# from sklearn.metrics import confusion_matrix\n",
    "# with joblib.parallel_backend('dask'):\n",
    "#     confusion_matrix(X_test_labels, randomForestClassifier.predict(X_test_reset) )"
   ]
  },
  {
   "cell_type": "code",
   "execution_count": 22,
   "id": "patient-teddy",
   "metadata": {},
   "outputs": [],
   "source": [
    "from sklearn.metrics import confusion_matrix\n",
    "from sklearn.metrics import accuracy_score\n",
    "with joblib.parallel_backend('dask'):\n",
    "    predicted_labels = randomForestClassifier.predict(X_test_reset)"
   ]
  },
  {
   "cell_type": "code",
   "execution_count": 23,
   "id": "pharmaceutical-drink",
   "metadata": {},
   "outputs": [
    {
     "data": {
      "text/plain": [
       "array([[407,   9,  24,   1,   1,   0,   0,   0,   0,   0,   2,   4,  14,\n",
       "          7,   5,   0,   1,  14],\n",
       "       [ 20, 439,  20,   1,   1,   1,   0,   3,   4,   1,   0,   1,  13,\n",
       "         12,   4,   0,   0,   3],\n",
       "       [ 43,  18, 331,   2,   8,   1,   0,   1,   1,   1,   1,   0,  47,\n",
       "         16,  15,   0,   0,   9],\n",
       "       [  1,   0,   2, 537,   0,   1,   6,   2,   0,   2,   1,   5,   0,\n",
       "          1,   1,   1,   1,   1],\n",
       "       [  7,   1,   6,   1, 480,   0,   1,   0,   1,   0,   0,   1,   5,\n",
       "          7,   6,   0,   2,  15],\n",
       "       [  2,   3,   0,   3,   8, 499,   3,   2,   2,   1,   2,   2,   0,\n",
       "          1,   2,   4,   2,   4],\n",
       "       [  3,   0,   1,   5,   3,   2, 499,   6,   4,   4,   5,   2,   3,\n",
       "          1,   1,   0,   5,   2],\n",
       "       [  0,   2,   2,   5,   1,   5,  12, 414,   7,   9,   7,   5,   0,\n",
       "          1,   1,   1,   4,   2],\n",
       "       [  2,   0,   0,   3,   0,   4,  10,  15, 400,   5,  11,  10,   1,\n",
       "          1,   1,   4,   5,   3],\n",
       "       [  1,   1,   0,   2,   2,   3,   4,  16,  13, 406,   2,   5,   3,\n",
       "          5,   2,   3,   4,   6],\n",
       "       [  0,   1,   1,   6,   0,   2,   5,  10,   5,   6, 455,   8,   1,\n",
       "          0,   2,   4,   3,   1],\n",
       "       [  2,   0,   1,   5,   0,   0,  13,   7,  14,  19,   3, 417,   4,\n",
       "          1,   1,   1,   3,   4],\n",
       "       [ 47,  18,  68,   0,   4,   0,   0,   0,   2,   1,   0,   1, 309,\n",
       "         41,  36,   0,   2,  10],\n",
       "       [ 19,   7,  26,   2,   3,   1,   2,   1,   2,   0,   0,   0,  41,\n",
       "        320,  41,   0,   0,  22],\n",
       "       [ 10,   7,  23,   0,   6,   0,   0,   1,   1,   0,   2,   0,  22,\n",
       "         32, 357,   0,   1,  15],\n",
       "       [  1,   2,   0,   0,   1,   0,   0,   0,   3,   0,   3,   0,   2,\n",
       "          0,   1, 496,   0,   1],\n",
       "       [  0,   1,   2,   0,   2,   1,   7,   5,   3,   2,   1,   2,   3,\n",
       "          1,   3,   5, 468,   1],\n",
       "       [  3,   4,  10,   2,   7,   3,   5,   3,   8,   1,   5,   3,  18,\n",
       "         26,  18,   0,   3, 455]])"
      ]
     },
     "execution_count": 23,
     "metadata": {},
     "output_type": "execute_result"
    }
   ],
   "source": [
    "confusion_matrix(X_test_labels, predicted_labels)"
   ]
  },
  {
   "cell_type": "code",
   "execution_count": 24,
   "id": "faced-speaker",
   "metadata": {},
   "outputs": [
    {
     "data": {
      "text/plain": [
       "0.8342193772377129"
      ]
     },
     "execution_count": 24,
     "metadata": {},
     "output_type": "execute_result"
    }
   ],
   "source": [
    "accuracy_score(X_test_labels, predicted_labels)"
   ]
  },
  {
   "cell_type": "markdown",
   "id": "native-prize",
   "metadata": {},
   "source": [
    "# 4. Results & Conclusion"
   ]
  },
  {
   "cell_type": "code",
   "execution_count": null,
   "id": "novel-virgin",
   "metadata": {},
   "outputs": [],
   "source": [
    "# Summarize final results and conclusion - reinclude any helpful charts/graphs"
   ]
  },
  {
   "cell_type": "code",
   "execution_count": null,
   "id": "streaming-student",
   "metadata": {},
   "outputs": [],
   "source": [
    "client.shutdown()"
   ]
  },
  {
   "cell_type": "code",
   "execution_count": null,
   "id": "removable-penetration",
   "metadata": {},
   "outputs": [],
   "source": []
  }
 ],
 "metadata": {
  "kernelspec": {
   "display_name": "Python 3",
   "language": "python",
   "name": "python3"
  },
  "language_info": {
   "codemirror_mode": {
    "name": "ipython",
    "version": 3
   },
   "file_extension": ".py",
   "mimetype": "text/x-python",
   "name": "python",
   "nbconvert_exporter": "python",
   "pygments_lexer": "ipython3",
   "version": "3.8.5"
  }
 },
 "nbformat": 4,
 "nbformat_minor": 5
}
