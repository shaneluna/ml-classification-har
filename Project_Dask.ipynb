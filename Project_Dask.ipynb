{
 "cells": [
  {
   "cell_type": "markdown",
   "id": "811f5f4a",
   "metadata": {},
   "source": [
    "# Smart Device Human Activity Recognition (HAR) Model (Using Feature Engineering?)\n",
    "\n",
    "[Eugene Zen](mailto:ezen@ucsd.edu), [Shane Luna](mailto:shluna@ucsd.edu)\n",
    "\n",
    "## I. Summary\n",
    "This notebook presents the development of a Human Activity Recognition (HAR) model that utilizes sensors from both smartphones and smartwatches. The data was originally collected and analyzed by the members of the WISDM (Wireless Sensor Data Mining) Lab in the Department of Computer and Information Science of Fordham University. More information on the original experiment can be found in the publication from 2019 [here](https://ieeexplore.ieee.org/document/8835065). The data was made publicly available on the UCI Machine Learning Repository as the \"WISDM Smartphone and Smartwach Activity and Biometrics Dataset\" and can be found [here](https://archive.ics.uci.edu/ml/datasets/WISDM+Smartphone+and+Smartwatch+Activity+and+Biometrics+Dataset+)."
   ]
  },
  {
   "cell_type": "markdown",
   "id": "ab9d4708",
   "metadata": {},
   "source": [
    "## II. Development\n",
    "\n",
    "### Dependencies"
   ]
  },
  {
   "cell_type": "code",
   "execution_count": 132,
   "id": "27888f92",
   "metadata": {},
   "outputs": [],
   "source": [
    "%matplotlib inline\n",
    "\n",
    "from dask.distributed import Client\n",
    "import dask.dataframe as dd\n",
    "import matplotlib.pyplot as plt\n",
    "import joblib\n",
    "import numpy as np\n",
    "import pandas as pd\n",
    "import string"
   ]
  },
  {
   "cell_type": "code",
   "execution_count": 2,
   "id": "7198d8de",
   "metadata": {},
   "outputs": [],
   "source": [
    "# Start local dask client\n",
    "client = Client(n_workers=4)"
   ]
  },
  {
   "cell_type": "code",
   "execution_count": 5,
   "id": "d8d95ed1",
   "metadata": {},
   "outputs": [
    {
     "data": {
      "text/html": [
       "<table style=\"border: 2px solid white;\">\n",
       "<tr>\n",
       "<td style=\"vertical-align: top; border: 0px solid white\">\n",
       "<h3 style=\"text-align: left;\">Client</h3>\n",
       "<ul style=\"text-align: left; list-style: none; margin: 0; padding: 0;\">\n",
       "  <li><b>Scheduler: </b>tcp://127.0.0.1:38475</li>\n",
       "  <li><b>Dashboard: </b><a href='http://127.0.0.1:8787/status' target='_blank'>http://127.0.0.1:8787/status</a></li>\n",
       "</ul>\n",
       "</td>\n",
       "<td style=\"vertical-align: top; border: 0px solid white\">\n",
       "<h3 style=\"text-align: left;\">Cluster</h3>\n",
       "<ul style=\"text-align: left; list-style:none; margin: 0; padding: 0;\">\n",
       "  <li><b>Workers: </b>4</li>\n",
       "  <li><b>Cores: </b>8</li>\n",
       "  <li><b>Memory: </b>15.64 GiB</li>\n",
       "</ul>\n",
       "</td>\n",
       "</tr>\n",
       "</table>"
      ],
      "text/plain": [
       "<Client: 'tcp://127.0.0.1:38475' processes=4 threads=8, memory=15.64 GiB>"
      ]
     },
     "execution_count": 5,
     "metadata": {},
     "output_type": "execute_result"
    }
   ],
   "source": [
    "client"
   ]
  },
  {
   "cell_type": "markdown",
   "id": "9b6ddeed",
   "metadata": {},
   "source": [
    "### Load Data"
   ]
  },
  {
   "cell_type": "code",
   "execution_count": 337,
   "id": "29547ebc",
   "metadata": {},
   "outputs": [],
   "source": [
    "def read_file(filepath):\n",
    "    df = dd.read_csv(filepath, sep = ',', header = None)\n",
    "    df.columns = ['subject_id', 'activity_code', 'timestamp', 'x', 'y', 'z']\n",
    "    df['timestamp_dt'] = dd.to_datetime(df['timestamp'])\n",
    "    df['z'] = df['z'].str.replace(\";\",\"\").astype('float64') # remove ; and ensure float (having issues with lineterminator)\n",
    "    return df"
   ]
  },
  {
   "cell_type": "code",
   "execution_count": 338,
   "id": "4afe7f17",
   "metadata": {},
   "outputs": [],
   "source": [
    "# Phone Data\n",
    "phone_accel_df = read_file('wisdm-dataset/raw/phone/accel/*.txt')\n",
    "phone_gyro_df = read_file('wisdm-dataset/raw/phone/gyro/*.txt')\n",
    "\n",
    "# Watch Data\n",
    "watch_accel_df = read_file('wisdm-dataset/raw/watch/accel/*.txt')\n",
    "watch_gyro_df = read_file('wisdm-dataset/raw/watch/gyro/*.txt')"
   ]
  },
  {
   "cell_type": "code",
   "execution_count": 339,
   "id": "60bedea2",
   "metadata": {},
   "outputs": [
    {
     "data": {
      "text/html": [
       "<div>\n",
       "<style scoped>\n",
       "    .dataframe tbody tr th:only-of-type {\n",
       "        vertical-align: middle;\n",
       "    }\n",
       "\n",
       "    .dataframe tbody tr th {\n",
       "        vertical-align: top;\n",
       "    }\n",
       "\n",
       "    .dataframe thead th {\n",
       "        text-align: right;\n",
       "    }\n",
       "</style>\n",
       "<table border=\"1\" class=\"dataframe\">\n",
       "  <thead>\n",
       "    <tr style=\"text-align: right;\">\n",
       "      <th></th>\n",
       "      <th>subject_id</th>\n",
       "      <th>activity_code</th>\n",
       "      <th>timestamp</th>\n",
       "      <th>x</th>\n",
       "      <th>y</th>\n",
       "      <th>z</th>\n",
       "      <th>timestamp_dt</th>\n",
       "    </tr>\n",
       "  </thead>\n",
       "  <tbody>\n",
       "    <tr>\n",
       "      <th>0</th>\n",
       "      <td>1600</td>\n",
       "      <td>A</td>\n",
       "      <td>252207666810782</td>\n",
       "      <td>-0.364761</td>\n",
       "      <td>8.793503</td>\n",
       "      <td>1.055084</td>\n",
       "      <td>1970-01-03 22:03:27.666810782</td>\n",
       "    </tr>\n",
       "    <tr>\n",
       "      <th>1</th>\n",
       "      <td>1600</td>\n",
       "      <td>A</td>\n",
       "      <td>252207717164786</td>\n",
       "      <td>-0.879730</td>\n",
       "      <td>9.768784</td>\n",
       "      <td>1.016998</td>\n",
       "      <td>1970-01-03 22:03:27.717164786</td>\n",
       "    </tr>\n",
       "    <tr>\n",
       "      <th>2</th>\n",
       "      <td>1600</td>\n",
       "      <td>A</td>\n",
       "      <td>252207767518790</td>\n",
       "      <td>2.001495</td>\n",
       "      <td>11.109070</td>\n",
       "      <td>2.619156</td>\n",
       "      <td>1970-01-03 22:03:27.767518790</td>\n",
       "    </tr>\n",
       "    <tr>\n",
       "      <th>3</th>\n",
       "      <td>1600</td>\n",
       "      <td>A</td>\n",
       "      <td>252207817872794</td>\n",
       "      <td>0.450623</td>\n",
       "      <td>12.651642</td>\n",
       "      <td>0.184555</td>\n",
       "      <td>1970-01-03 22:03:27.817872794</td>\n",
       "    </tr>\n",
       "    <tr>\n",
       "      <th>4</th>\n",
       "      <td>1600</td>\n",
       "      <td>A</td>\n",
       "      <td>252207868226798</td>\n",
       "      <td>-2.164352</td>\n",
       "      <td>13.928436</td>\n",
       "      <td>-4.422485</td>\n",
       "      <td>1970-01-03 22:03:27.868226798</td>\n",
       "    </tr>\n",
       "  </tbody>\n",
       "</table>\n",
       "</div>"
      ],
      "text/plain": [
       "   subject_id activity_code        timestamp         x          y         z  \\\n",
       "0        1600             A  252207666810782 -0.364761   8.793503  1.055084   \n",
       "1        1600             A  252207717164786 -0.879730   9.768784  1.016998   \n",
       "2        1600             A  252207767518790  2.001495  11.109070  2.619156   \n",
       "3        1600             A  252207817872794  0.450623  12.651642  0.184555   \n",
       "4        1600             A  252207868226798 -2.164352  13.928436 -4.422485   \n",
       "\n",
       "                   timestamp_dt  \n",
       "0 1970-01-03 22:03:27.666810782  \n",
       "1 1970-01-03 22:03:27.717164786  \n",
       "2 1970-01-03 22:03:27.767518790  \n",
       "3 1970-01-03 22:03:27.817872794  \n",
       "4 1970-01-03 22:03:27.868226798  "
      ]
     },
     "execution_count": 339,
     "metadata": {},
     "output_type": "execute_result"
    }
   ],
   "source": [
    "phone_accel_df.head()"
   ]
  },
  {
   "cell_type": "code",
   "execution_count": 330,
   "id": "f3aa92c3",
   "metadata": {},
   "outputs": [
    {
     "name": "stdout",
     "output_type": "stream",
     "text": [
      "1977-12-29 01:41:06\n"
     ]
    }
   ],
   "source": [
    "from datetime import datetime\n",
    "ts = int(\"252207666810782\")\n",
    "ts /= 1000000\n",
    "\n",
    "# if you encounter a \"year is out of range\" error the timestamp\n",
    "# may be in milliseconds, try `ts /= 1000` in that case\n",
    "print(datetime.utcfromtimestamp(ts).strftime('%Y-%m-%d %H:%M:%S'))"
   ]
  },
  {
   "cell_type": "markdown",
   "id": "24e85d63",
   "metadata": {},
   "source": [
    "Referring to the dataset description provided from the WISDM Lab, we expect to see the following row counts:\n",
    "\n",
    "- raw/phone/accel: 4,804,403\n",
    "- raw/phone/gyro: 3,608,635\n",
    "- raw/watch/accel: 3,777,046\n",
    "- raw/watch/gyro: 3,440,342"
   ]
  },
  {
   "cell_type": "code",
   "execution_count": 10,
   "id": "221ee494",
   "metadata": {},
   "outputs": [
    {
     "name": "stdout",
     "output_type": "stream",
     "text": [
      "Phone Accel:\t4804403\n",
      "Phone Gyro:\t3608635\n",
      "Watch Accel:\t3777046\n",
      "Watch Gyro:\t3440342\n"
     ]
    }
   ],
   "source": [
    "print(f'Phone Accel:\\t{len(phone_accel_df)}')\n",
    "print(f'Phone Gyro:\\t{len(phone_gyro_df)}')\n",
    "print(f'Watch Accel:\\t{len(watch_accel_df)}')\n",
    "print(f'Watch Gyro:\\t{len(watch_gyro_df)}')"
   ]
  },
  {
   "cell_type": "markdown",
   "id": "951efefc",
   "metadata": {},
   "source": [
    "All of the above dataframes are stuctured the same. A sample output of the column datatypes has been provided below for reference. An additional column, timestamp_dt, was added to the original data by converting the timestamp attribute to a datetime object type. The original timestamp column has been preserved if needed for future enhancements."
   ]
  },
  {
   "cell_type": "code",
   "execution_count": 12,
   "id": "243c201d",
   "metadata": {},
   "outputs": [
    {
     "name": "stdout",
     "output_type": "stream",
     "text": [
      "subject_id                int64\n",
      "activity_code            object\n",
      "timestamp                 int64\n",
      "x                       float64\n",
      "y                       float64\n",
      "z                       float64\n",
      "timestamp_dt     datetime64[ns]\n",
      "dtype: object\n"
     ]
    }
   ],
   "source": [
    "print(phone_accel_df.dtypes)"
   ]
  },
  {
   "cell_type": "markdown",
   "id": "e34f7c64",
   "metadata": {},
   "source": [
    "### Exploratory Data Analysis"
   ]
  },
  {
   "cell_type": "code",
   "execution_count": 26,
   "id": "dc7c90da",
   "metadata": {},
   "outputs": [
    {
     "name": "stdout",
     "output_type": "stream",
     "text": [
      "--Phone Accel--\n",
      "subject_id       0\n",
      "activity_code    0\n",
      "timestamp        0\n",
      "x                0\n",
      "y                0\n",
      "z                0\n",
      "timestamp_dt     0\n",
      "dtype: int64\n",
      "--Phone Gyro--\n",
      "subject_id       0\n",
      "activity_code    0\n",
      "timestamp        0\n",
      "x                0\n",
      "y                0\n",
      "z                0\n",
      "timestamp_dt     0\n",
      "dtype: int64\n",
      "--Watch Accel--\n",
      "subject_id       0\n",
      "activity_code    0\n",
      "timestamp        0\n",
      "x                0\n",
      "y                0\n",
      "z                0\n",
      "timestamp_dt     0\n",
      "dtype: int64\n",
      "--Watch Gyro--\n",
      "subject_id       0\n",
      "activity_code    0\n",
      "timestamp        0\n",
      "x                0\n",
      "y                0\n",
      "z                0\n",
      "timestamp_dt     0\n",
      "dtype: int64\n"
     ]
    }
   ],
   "source": [
    "# Check for nulls\n",
    "\n",
    "print('--Phone Accel--')\n",
    "print(phone_accel_df.isna().sum().compute())\n",
    "\n",
    "print('--Phone Gyro--')\n",
    "print(phone_gyro_df.isna().sum().compute())\n",
    "\n",
    "print('--Watch Accel--')\n",
    "print(watch_accel_df.isna().sum().compute())\n",
    "\n",
    "print('--Watch Gyro--')\n",
    "print(watch_gyro_df.isna().sum().compute())"
   ]
  },
  {
   "cell_type": "code",
   "execution_count": 97,
   "id": "cea0efad",
   "metadata": {},
   "outputs": [],
   "source": [
    "def plot_subject_activity(df, title_append=None):\n",
    "    subject_id = df.head(1)['subject_id'].item()\n",
    "    activity_code = df.head(1)['activity_code'].item()\n",
    "    title = f'Subject {subject_id} Performing Activity {activity_code}' \n",
    "    if title_append != None:\n",
    "        title+=str(f' ({title_append})')\n",
    "        \n",
    "    fig, ax = plt.subplots(3, figsize=(20,5), sharex=True)\n",
    "    fig.suptitle(title)\n",
    "    ax[0].plot(range(len(df)), df['x'].to_numpy(), c='C0')\n",
    "    ax[0].set_title('x')\n",
    "    ax[1].plot(range(len(df)), df['y'].to_numpy(), c='C1')\n",
    "    ax[1].set_title('y')\n",
    "    ax[2].plot(range(len(df)), df['z'].to_numpy(), c='C2')\n",
    "    ax[2].set_title('z')\n",
    "    ax[2].set_xlabel('Interval')"
   ]
  },
  {
   "cell_type": "markdown",
   "id": "6de59bbd",
   "metadata": {},
   "source": [
    "Visualizations have been provided below of tri-axial sensor readings from both a smartphone accelerometer (first) and smarphone gyroscope (second). Our efforts aim to assess the distinctness of these patterns for different physical activities. "
   ]
  },
  {
   "cell_type": "code",
   "execution_count": 101,
   "id": "451017de",
   "metadata": {},
   "outputs": [
    {
     "data": {
      "image/png": "[encoded data removed]",
      "text/plain": [
       "<Figure size 1440x360 with 3 Axes>"
      ]
     },
     "metadata": {
      "needs_background": "light"
     },
     "output_type": "display_data"
    }
   ],
   "source": [
    "# Sample chart of a user performing an activity for 30 seconds or ~600 intervals @ 20Hz\n",
    "# Activity A = Walking\n",
    "activity = phone_accel_df[(phone_accel_df['subject_id'] == 1600) & (phone_accel_df['activity_code'] == \"A\")].compute()[0:600]\n",
    "plot_subject_activity(activity, 'Phone Accel')"
   ]
  },
  {
   "cell_type": "code",
   "execution_count": 102,
   "id": "a031adfa",
   "metadata": {},
   "outputs": [
    {
     "data": {
      "image/png": "[encoded data removed]",
      "text/plain": [
       "<Figure size 1440x360 with 3 Axes>"
      ]
     },
     "metadata": {
      "needs_background": "light"
     },
     "output_type": "display_data"
    }
   ],
   "source": [
    "# Sample chart of a user performing an activity for 30 seconds or ~600 intervals @ 20Hz\n",
    "# Activity A = Walking\n",
    "activity = phone_gyro_df[(phone_gyro_df['subject_id'] == 1600) & (phone_gyro_df['activity_code'] == 'A')].compute()[0:600]\n",
    "plot_subject_activity(activity, 'Phone Gyro')"
   ]
  },
  {
   "cell_type": "code",
   "execution_count": 152,
   "id": "89ea5264",
   "metadata": {},
   "outputs": [],
   "source": [
    "subjects = phone_accel_df['subject_id'].unique().compute()\n",
    "activities = phone_accel_df['activity_code'].unique().compute()"
   ]
  },
  {
   "cell_type": "code",
   "execution_count": 221,
   "id": "560c97ad",
   "metadata": {},
   "outputs": [
    {
     "data": {
      "text/plain": [
       "activity_code     0\n",
       "phone_accel       8\n",
       "phone_gyro       10\n",
       "watch_accel       6\n",
       "watch_gyro       11\n",
       "dtype: int64"
      ]
     },
     "execution_count": 221,
     "metadata": {},
     "output_type": "execute_result"
    }
   ],
   "source": [
    "subject_activities_df = pd.DataFrame(subjects).merge(pd.DataFrame(activities), how='cross')\n",
    "\n",
    "phone_accel_interval_counts = phone_accel_df.groupby(['subject_id', 'activity_code']).size().rename('phone_accel').reset_index().compute()\n",
    "subject_activities_df = subject_activities_df.merge(phone_accel_interval_counts, on=['subject_id', 'activity_code'], how='left')\n",
    "\n",
    "phone_gyro_interval_counts = phone_gyro_df.groupby(['subject_id', 'activity_code']).size().rename('phone_gyro').reset_index().compute()\n",
    "subject_activities_df = subject_activities_df.merge(phone_gyro_interval_counts, on=['subject_id', 'activity_code'], how='left')\n",
    "\n",
    "watch_accel_interval_counts = watch_accel_df.groupby(['subject_id', 'activity_code']).size().rename('watch_accel').reset_index().compute()\n",
    "subject_activities_df = subject_activities_df.merge(watch_accel_interval_counts, on=['subject_id', 'activity_code'], how='left')\n",
    "\n",
    "watch_gyro_interval_counts = watch_gyro_df.groupby(['subject_id', 'activity_code']).size().rename('watch_gyro').reset_index().compute()\n",
    "subject_activities_df = subject_activities_df.merge(watch_gyro_interval_counts, on=['subject_id', 'activity_code'], how='left')\n",
    "\n",
    "subject_activities_df = subject_activities_df.set_index(['subject_id'])\n",
    "\n",
    "subject_activities_df.isna().sum()"
   ]
  },
  {
   "cell_type": "code",
   "execution_count": 231,
   "id": "2482e886",
   "metadata": {},
   "outputs": [
    {
     "data": {
      "text/html": [
       "<div>\n",
       "<style scoped>\n",
       "    .dataframe tbody tr th:only-of-type {\n",
       "        vertical-align: middle;\n",
       "    }\n",
       "\n",
       "    .dataframe tbody tr th {\n",
       "        vertical-align: top;\n",
       "    }\n",
       "\n",
       "    .dataframe thead th {\n",
       "        text-align: right;\n",
       "    }\n",
       "</style>\n",
       "<table border=\"1\" class=\"dataframe\">\n",
       "  <thead>\n",
       "    <tr style=\"text-align: right;\">\n",
       "      <th></th>\n",
       "      <th>activity_code</th>\n",
       "      <th>phone_accel</th>\n",
       "      <th>phone_gyro</th>\n",
       "      <th>watch_accel</th>\n",
       "      <th>watch_gyro</th>\n",
       "    </tr>\n",
       "    <tr>\n",
       "      <th>subject_id</th>\n",
       "      <th></th>\n",
       "      <th></th>\n",
       "      <th></th>\n",
       "      <th></th>\n",
       "      <th></th>\n",
       "    </tr>\n",
       "  </thead>\n",
       "  <tbody>\n",
       "    <tr>\n",
       "      <th>1607</th>\n",
       "      <td>J</td>\n",
       "      <td>NaN</td>\n",
       "      <td>NaN</td>\n",
       "      <td>3603.0</td>\n",
       "      <td>3602.0</td>\n",
       "    </tr>\n",
       "    <tr>\n",
       "      <th>1609</th>\n",
       "      <td>B</td>\n",
       "      <td>NaN</td>\n",
       "      <td>NaN</td>\n",
       "      <td>3605.0</td>\n",
       "      <td>3603.0</td>\n",
       "    </tr>\n",
       "    <tr>\n",
       "      <th>1616</th>\n",
       "      <td>B</td>\n",
       "      <td>NaN</td>\n",
       "      <td>NaN</td>\n",
       "      <td>NaN</td>\n",
       "      <td>NaN</td>\n",
       "    </tr>\n",
       "    <tr>\n",
       "      <th>1616</th>\n",
       "      <td>F</td>\n",
       "      <td>NaN</td>\n",
       "      <td>NaN</td>\n",
       "      <td>3605.0</td>\n",
       "      <td>3603.0</td>\n",
       "    </tr>\n",
       "    <tr>\n",
       "      <th>1618</th>\n",
       "      <td>O</td>\n",
       "      <td>NaN</td>\n",
       "      <td>NaN</td>\n",
       "      <td>NaN</td>\n",
       "      <td>NaN</td>\n",
       "    </tr>\n",
       "    <tr>\n",
       "      <th>1637</th>\n",
       "      <td>C</td>\n",
       "      <td>3600.0</td>\n",
       "      <td>3598.0</td>\n",
       "      <td>8931.0</td>\n",
       "      <td>NaN</td>\n",
       "    </tr>\n",
       "    <tr>\n",
       "      <th>1637</th>\n",
       "      <td>J</td>\n",
       "      <td>3600.0</td>\n",
       "      <td>3598.0</td>\n",
       "      <td>NaN</td>\n",
       "      <td>NaN</td>\n",
       "    </tr>\n",
       "    <tr>\n",
       "      <th>1638</th>\n",
       "      <td>H</td>\n",
       "      <td>3615.0</td>\n",
       "      <td>3613.0</td>\n",
       "      <td>8931.0</td>\n",
       "      <td>NaN</td>\n",
       "    </tr>\n",
       "    <tr>\n",
       "      <th>1638</th>\n",
       "      <td>O</td>\n",
       "      <td>3601.0</td>\n",
       "      <td>3599.0</td>\n",
       "      <td>8936.0</td>\n",
       "      <td>NaN</td>\n",
       "    </tr>\n",
       "    <tr>\n",
       "      <th>1639</th>\n",
       "      <td>L</td>\n",
       "      <td>3615.0</td>\n",
       "      <td>3613.0</td>\n",
       "      <td>NaN</td>\n",
       "      <td>NaN</td>\n",
       "    </tr>\n",
       "    <tr>\n",
       "      <th>1640</th>\n",
       "      <td>C</td>\n",
       "      <td>3601.0</td>\n",
       "      <td>3599.0</td>\n",
       "      <td>8932.0</td>\n",
       "      <td>NaN</td>\n",
       "    </tr>\n",
       "    <tr>\n",
       "      <th>1640</th>\n",
       "      <td>E</td>\n",
       "      <td>3601.0</td>\n",
       "      <td>3599.0</td>\n",
       "      <td>8934.0</td>\n",
       "      <td>NaN</td>\n",
       "    </tr>\n",
       "    <tr>\n",
       "      <th>1641</th>\n",
       "      <td>Q</td>\n",
       "      <td>8933.0</td>\n",
       "      <td>NaN</td>\n",
       "      <td>3601.0</td>\n",
       "      <td>3599.0</td>\n",
       "    </tr>\n",
       "    <tr>\n",
       "      <th>1642</th>\n",
       "      <td>C</td>\n",
       "      <td>NaN</td>\n",
       "      <td>NaN</td>\n",
       "      <td>NaN</td>\n",
       "      <td>NaN</td>\n",
       "    </tr>\n",
       "    <tr>\n",
       "      <th>1642</th>\n",
       "      <td>F</td>\n",
       "      <td>NaN</td>\n",
       "      <td>NaN</td>\n",
       "      <td>NaN</td>\n",
       "      <td>NaN</td>\n",
       "    </tr>\n",
       "    <tr>\n",
       "      <th>1643</th>\n",
       "      <td>I</td>\n",
       "      <td>NaN</td>\n",
       "      <td>NaN</td>\n",
       "      <td>3600.0</td>\n",
       "      <td>3598.0</td>\n",
       "    </tr>\n",
       "    <tr>\n",
       "      <th>1644</th>\n",
       "      <td>L</td>\n",
       "      <td>8931.0</td>\n",
       "      <td>NaN</td>\n",
       "      <td>3600.0</td>\n",
       "      <td>3599.0</td>\n",
       "    </tr>\n",
       "  </tbody>\n",
       "</table>\n",
       "</div>"
      ],
      "text/plain": [
       "           activity_code  phone_accel  phone_gyro  watch_accel  watch_gyro\n",
       "subject_id                                                                \n",
       "1607                   J          NaN         NaN       3603.0      3602.0\n",
       "1609                   B          NaN         NaN       3605.0      3603.0\n",
       "1616                   B          NaN         NaN          NaN         NaN\n",
       "1616                   F          NaN         NaN       3605.0      3603.0\n",
       "1618                   O          NaN         NaN          NaN         NaN\n",
       "1637                   C       3600.0      3598.0       8931.0         NaN\n",
       "1637                   J       3600.0      3598.0          NaN         NaN\n",
       "1638                   H       3615.0      3613.0       8931.0         NaN\n",
       "1638                   O       3601.0      3599.0       8936.0         NaN\n",
       "1639                   L       3615.0      3613.0          NaN         NaN\n",
       "1640                   C       3601.0      3599.0       8932.0         NaN\n",
       "1640                   E       3601.0      3599.0       8934.0         NaN\n",
       "1641                   Q       8933.0         NaN       3601.0      3599.0\n",
       "1642                   C          NaN         NaN          NaN         NaN\n",
       "1642                   F          NaN         NaN          NaN         NaN\n",
       "1643                   I          NaN         NaN       3600.0      3598.0\n",
       "1644                   L       8931.0         NaN       3600.0      3599.0"
      ]
     },
     "execution_count": 231,
     "metadata": {},
     "output_type": "execute_result"
    }
   ],
   "source": [
    "subject_activities_df[subject_activities_df.isna().any(axis=1)]"
   ]
  },
  {
   "cell_type": "markdown",
   "id": "df723a23",
   "metadata": {},
   "source": [
    "Additional Takeaways:\n",
    "- Not all subjects performed all activities\n",
    "- Some subjects may have performed certain activites with limited sensors recording"
   ]
  },
  {
   "cell_type": "markdown",
   "id": "32a8254b",
   "metadata": {},
   "source": [
    "### Data Preparation\n",
    "\n",
    "Regarding data preparation, there will be two main tasks:\n",
    "1. Join the sensor data for each device by timestamp.\n",
    "2. Break each activity done by a subject into a desired window size (in seconds) to train/test on\n",
    "    - Aggregate/engineer desired features for each window \n",
    "\n",
    "In the WISDM dataset description, it was noted that the data collection process was not perfect and that their actual number of recordings didn't match their expected number of recordings. For example, they are unsure why there are so many more sensor readings for the phone accelerometer. We are placing high trust in the data collection process done by the WISDM Lab team, but are aware that there could be anomalies with an imperfect process. For example, we have already seen above that there is missing activity data for certain subjects and device sensors. That being said, we are trusting that the timestamps among sensors were accurately synced.\n",
    "\n",
    "Our go-forward approach is going to be to only use device data where it exists for both sensors.\n",
    "\n",
    "- **to_use_phone_data** = inner join phone_accel and phone_gryo data on timestamp (keep only activites where both sensor data available)\n",
    "- **to_use_watch_data** = inner join watch_accel and watch_gryo data on timestamp (keep only activites where both sensor data available)\n",
    "\n",
    "When training a model based on both phone AND watch data, we will use only activity data available with all 4 sensors."
   ]
  },
  {
   "cell_type": "code",
   "execution_count": 237,
   "id": "20f49579",
   "metadata": {},
   "outputs": [
    {
     "data": {
      "text/html": [
       "<div>\n",
       "<style scoped>\n",
       "    .dataframe tbody tr th:only-of-type {\n",
       "        vertical-align: middle;\n",
       "    }\n",
       "\n",
       "    .dataframe tbody tr th {\n",
       "        vertical-align: top;\n",
       "    }\n",
       "\n",
       "    .dataframe thead th {\n",
       "        text-align: right;\n",
       "    }\n",
       "</style>\n",
       "<table border=\"1\" class=\"dataframe\">\n",
       "  <thead>\n",
       "    <tr style=\"text-align: right;\">\n",
       "      <th></th>\n",
       "      <th>subject_id</th>\n",
       "      <th>activity_code</th>\n",
       "      <th>timestamp</th>\n",
       "      <th>x_accel</th>\n",
       "      <th>y_accel</th>\n",
       "      <th>z_accel</th>\n",
       "      <th>timestamp_dt</th>\n",
       "      <th>x_gyro</th>\n",
       "      <th>y_gyro</th>\n",
       "      <th>z_gyro</th>\n",
       "    </tr>\n",
       "  </thead>\n",
       "  <tbody>\n",
       "    <tr>\n",
       "      <th>0</th>\n",
       "      <td>1600</td>\n",
       "      <td>A</td>\n",
       "      <td>252208623536856</td>\n",
       "      <td>0.889343</td>\n",
       "      <td>4.531982</td>\n",
       "      <td>-0.228958</td>\n",
       "      <td>1970-01-03 22:03:28.623536856</td>\n",
       "      <td>0.910889</td>\n",
       "      <td>-0.612137</td>\n",
       "      <td>0.197403</td>\n",
       "    </tr>\n",
       "    <tr>\n",
       "      <th>1</th>\n",
       "      <td>1600</td>\n",
       "      <td>A</td>\n",
       "      <td>252208875306876</td>\n",
       "      <td>1.651108</td>\n",
       "      <td>13.003159</td>\n",
       "      <td>-2.630463</td>\n",
       "      <td>1970-01-03 22:03:28.875306876</td>\n",
       "      <td>1.082046</td>\n",
       "      <td>0.425598</td>\n",
       "      <td>0.237305</td>\n",
       "    </tr>\n",
       "    <tr>\n",
       "      <th>2</th>\n",
       "      <td>1600</td>\n",
       "      <td>A</td>\n",
       "      <td>252212249025138</td>\n",
       "      <td>-0.697052</td>\n",
       "      <td>11.577240</td>\n",
       "      <td>3.471695</td>\n",
       "      <td>1970-01-03 22:03:32.249025138</td>\n",
       "      <td>-0.653595</td>\n",
       "      <td>0.831863</td>\n",
       "      <td>0.515823</td>\n",
       "    </tr>\n",
       "    <tr>\n",
       "      <th>3</th>\n",
       "      <td>1600</td>\n",
       "      <td>A</td>\n",
       "      <td>252217435498358</td>\n",
       "      <td>-0.366928</td>\n",
       "      <td>8.423248</td>\n",
       "      <td>3.045731</td>\n",
       "      <td>1970-01-03 22:03:37.435498358</td>\n",
       "      <td>-0.254837</td>\n",
       "      <td>-0.243484</td>\n",
       "      <td>-0.491852</td>\n",
       "    </tr>\n",
       "    <tr>\n",
       "      <th>4</th>\n",
       "      <td>1600</td>\n",
       "      <td>A</td>\n",
       "      <td>252217939038397</td>\n",
       "      <td>-7.973221</td>\n",
       "      <td>15.072464</td>\n",
       "      <td>-0.969360</td>\n",
       "      <td>1970-01-03 22:03:37.939038397</td>\n",
       "      <td>-1.388626</td>\n",
       "      <td>-0.085068</td>\n",
       "      <td>0.710587</td>\n",
       "    </tr>\n",
       "  </tbody>\n",
       "</table>\n",
       "</div>"
      ],
      "text/plain": [
       "   subject_id activity_code        timestamp   x_accel    y_accel   z_accel  \\\n",
       "0        1600             A  252208623536856  0.889343   4.531982 -0.228958   \n",
       "1        1600             A  252208875306876  1.651108  13.003159 -2.630463   \n",
       "2        1600             A  252212249025138 -0.697052  11.577240  3.471695   \n",
       "3        1600             A  252217435498358 -0.366928   8.423248  3.045731   \n",
       "4        1600             A  252217939038397 -7.973221  15.072464 -0.969360   \n",
       "\n",
       "                   timestamp_dt    x_gyro    y_gyro    z_gyro  \n",
       "0 1970-01-03 22:03:28.623536856  0.910889 -0.612137  0.197403  \n",
       "1 1970-01-03 22:03:28.875306876  1.082046  0.425598  0.237305  \n",
       "2 1970-01-03 22:03:32.249025138 -0.653595  0.831863  0.515823  \n",
       "3 1970-01-03 22:03:37.435498358 -0.254837 -0.243484 -0.491852  \n",
       "4 1970-01-03 22:03:37.939038397 -1.388626 -0.085068  0.710587  "
      ]
     },
     "execution_count": 237,
     "metadata": {},
     "output_type": "execute_result"
    }
   ],
   "source": [
    "# Phone\n",
    "phone_combined_df = phone_accel_df.merge(phone_gyro_df, on=[\"subject_id\", \"activity_code\", \"timestamp_dt\"], how=\"inner\", suffixes=['_accel', '_gyro'])\n",
    "phone_combined_df = phone_combined_df.drop(['timestamp_gyro'], axis=1)\n",
    "phone_combined_df = phone_combined_df.rename(columns={'timestamp_accel': 'timestamp'})\n",
    "phone_combined_df.head()"
   ]
  },
  {
   "cell_type": "code",
   "execution_count": 238,
   "id": "fb587fba",
   "metadata": {},
   "outputs": [
    {
     "data": {
      "text/html": [
       "<div>\n",
       "<style scoped>\n",
       "    .dataframe tbody tr th:only-of-type {\n",
       "        vertical-align: middle;\n",
       "    }\n",
       "\n",
       "    .dataframe tbody tr th {\n",
       "        vertical-align: top;\n",
       "    }\n",
       "\n",
       "    .dataframe thead th {\n",
       "        text-align: right;\n",
       "    }\n",
       "</style>\n",
       "<table border=\"1\" class=\"dataframe\">\n",
       "  <thead>\n",
       "    <tr style=\"text-align: right;\">\n",
       "      <th></th>\n",
       "      <th>subject_id</th>\n",
       "      <th>activity_code</th>\n",
       "      <th>timestamp</th>\n",
       "      <th>x_accel</th>\n",
       "      <th>y_accel</th>\n",
       "      <th>z_accel</th>\n",
       "      <th>timestamp_dt</th>\n",
       "      <th>x_gyro</th>\n",
       "      <th>y_gyro</th>\n",
       "      <th>z_gyro</th>\n",
       "    </tr>\n",
       "  </thead>\n",
       "  <tbody>\n",
       "    <tr>\n",
       "      <th>0</th>\n",
       "      <td>1600</td>\n",
       "      <td>A</td>\n",
       "      <td>90426856696641</td>\n",
       "      <td>2.801216</td>\n",
       "      <td>-0.155922</td>\n",
       "      <td>5.997625</td>\n",
       "      <td>1970-01-02 01:07:06.856696641</td>\n",
       "      <td>0.070999</td>\n",
       "      <td>-0.209480</td>\n",
       "      <td>-0.195978</td>\n",
       "    </tr>\n",
       "    <tr>\n",
       "      <th>1</th>\n",
       "      <td>1600</td>\n",
       "      <td>A</td>\n",
       "      <td>90432470714381</td>\n",
       "      <td>9.172187</td>\n",
       "      <td>-1.099238</td>\n",
       "      <td>-1.656638</td>\n",
       "      <td>1970-01-02 01:07:12.470714381</td>\n",
       "      <td>-0.522468</td>\n",
       "      <td>1.546161</td>\n",
       "      <td>0.871395</td>\n",
       "    </tr>\n",
       "    <tr>\n",
       "      <th>2</th>\n",
       "      <td>1600</td>\n",
       "      <td>A</td>\n",
       "      <td>90432918723401</td>\n",
       "      <td>10.740389</td>\n",
       "      <td>-5.506963</td>\n",
       "      <td>0.048034</td>\n",
       "      <td>1970-01-02 01:07:12.918723401</td>\n",
       "      <td>2.188615</td>\n",
       "      <td>-0.352129</td>\n",
       "      <td>-2.769682</td>\n",
       "    </tr>\n",
       "    <tr>\n",
       "      <th>3</th>\n",
       "      <td>1600</td>\n",
       "      <td>A</td>\n",
       "      <td>90433267234501</td>\n",
       "      <td>11.561600</td>\n",
       "      <td>-1.341052</td>\n",
       "      <td>0.198868</td>\n",
       "      <td>1970-01-02 01:07:13.267234501</td>\n",
       "      <td>-0.189049</td>\n",
       "      <td>1.916880</td>\n",
       "      <td>6.515163</td>\n",
       "    </tr>\n",
       "    <tr>\n",
       "      <th>4</th>\n",
       "      <td>1600</td>\n",
       "      <td>A</td>\n",
       "      <td>90435458522181</td>\n",
       "      <td>8.470686</td>\n",
       "      <td>0.672471</td>\n",
       "      <td>-1.699734</td>\n",
       "      <td>1970-01-02 01:07:15.458522181</td>\n",
       "      <td>0.395773</td>\n",
       "      <td>0.778118</td>\n",
       "      <td>2.059161</td>\n",
       "    </tr>\n",
       "  </tbody>\n",
       "</table>\n",
       "</div>"
      ],
      "text/plain": [
       "   subject_id activity_code       timestamp    x_accel   y_accel   z_accel  \\\n",
       "0        1600             A  90426856696641   2.801216 -0.155922  5.997625   \n",
       "1        1600             A  90432470714381   9.172187 -1.099238 -1.656638   \n",
       "2        1600             A  90432918723401  10.740389 -5.506963  0.048034   \n",
       "3        1600             A  90433267234501  11.561600 -1.341052  0.198868   \n",
       "4        1600             A  90435458522181   8.470686  0.672471 -1.699734   \n",
       "\n",
       "                   timestamp_dt    x_gyro    y_gyro    z_gyro  \n",
       "0 1970-01-02 01:07:06.856696641  0.070999 -0.209480 -0.195978  \n",
       "1 1970-01-02 01:07:12.470714381 -0.522468  1.546161  0.871395  \n",
       "2 1970-01-02 01:07:12.918723401  2.188615 -0.352129 -2.769682  \n",
       "3 1970-01-02 01:07:13.267234501 -0.189049  1.916880  6.515163  \n",
       "4 1970-01-02 01:07:15.458522181  0.395773  0.778118  2.059161  "
      ]
     },
     "execution_count": 238,
     "metadata": {},
     "output_type": "execute_result"
    }
   ],
   "source": [
    "# Watch\n",
    "watch_combined_df = watch_accel_df.merge(watch_gyro_df, on=[\"subject_id\", \"activity_code\", \"timestamp_dt\"], how=\"inner\", suffixes=['_accel', '_gyro'])\n",
    "watch_combined_df = watch_combined_df.drop(['timestamp_gyro'], axis=1)\n",
    "watch_combined_df = watch_combined_df.rename(columns={'timestamp_accel': 'timestamp'})\n",
    "watch_combined_df.head()"
   ]
  },
  {
   "cell_type": "code",
   "execution_count": 239,
   "id": "d7a14f5f",
   "metadata": {},
   "outputs": [
    {
     "name": "stdout",
     "output_type": "stream",
     "text": [
      "Phone: 2909149\n",
      "Watch: 3368542\n"
     ]
    }
   ],
   "source": [
    "print(f'Phone: {len(phone_combined_df)}')\n",
    "print(f'Watch: {len(watch_combined_df)}')"
   ]
  },
  {
   "cell_type": "code",
   "execution_count": 243,
   "id": "a48b4b51",
   "metadata": {},
   "outputs": [
    {
     "data": {
      "text/html": [
       "<style  type=\"text/css\" >\n",
       "#T_020fa_row0_col0,#T_020fa_row1_col1,#T_020fa_row2_col2,#T_020fa_row3_col3,#T_020fa_row4_col4,#T_020fa_row5_col5,#T_020fa_row6_col6,#T_020fa_row7_col7{\n",
       "            background-color:  #b40426;\n",
       "            color:  #f1f1f1;\n",
       "        }#T_020fa_row0_col1{\n",
       "            background-color:  #f7ba9f;\n",
       "            color:  #000000;\n",
       "        }#T_020fa_row0_col2,#T_020fa_row5_col2{\n",
       "            background-color:  #4c66d6;\n",
       "            color:  #000000;\n",
       "        }#T_020fa_row0_col3,#T_020fa_row0_col4,#T_020fa_row1_col7,#T_020fa_row2_col6,#T_020fa_row3_col0,#T_020fa_row3_col6,#T_020fa_row3_col7,#T_020fa_row4_col1,#T_020fa_row4_col2,#T_020fa_row4_col5,#T_020fa_row4_col6,#T_020fa_row4_col7{\n",
       "            background-color:  #3b4cc0;\n",
       "            color:  #f1f1f1;\n",
       "        }#T_020fa_row0_col5,#T_020fa_row0_col6,#T_020fa_row1_col5{\n",
       "            background-color:  #4055c8;\n",
       "            color:  #f1f1f1;\n",
       "        }#T_020fa_row0_col7{\n",
       "            background-color:  #3d50c3;\n",
       "            color:  #f1f1f1;\n",
       "        }#T_020fa_row1_col0{\n",
       "            background-color:  #f7af91;\n",
       "            color:  #000000;\n",
       "        }#T_020fa_row1_col2{\n",
       "            background-color:  #5875e1;\n",
       "            color:  #000000;\n",
       "        }#T_020fa_row1_col3{\n",
       "            background-color:  #80a3fa;\n",
       "            color:  #000000;\n",
       "        }#T_020fa_row1_col4{\n",
       "            background-color:  #506bda;\n",
       "            color:  #000000;\n",
       "        }#T_020fa_row1_col6{\n",
       "            background-color:  #4257c9;\n",
       "            color:  #f1f1f1;\n",
       "        }#T_020fa_row2_col0,#T_020fa_row7_col0{\n",
       "            background-color:  #8caffe;\n",
       "            color:  #000000;\n",
       "        }#T_020fa_row2_col1{\n",
       "            background-color:  #7699f6;\n",
       "            color:  #000000;\n",
       "        }#T_020fa_row2_col3{\n",
       "            background-color:  #94b6ff;\n",
       "            color:  #000000;\n",
       "        }#T_020fa_row2_col4{\n",
       "            background-color:  #6f92f3;\n",
       "            color:  #000000;\n",
       "        }#T_020fa_row2_col5,#T_020fa_row5_col6{\n",
       "            background-color:  #4358cb;\n",
       "            color:  #f1f1f1;\n",
       "        }#T_020fa_row2_col7{\n",
       "            background-color:  #3f53c6;\n",
       "            color:  #f1f1f1;\n",
       "        }#T_020fa_row3_col1,#T_020fa_row5_col7{\n",
       "            background-color:  #5e7de7;\n",
       "            color:  #000000;\n",
       "        }#T_020fa_row3_col2{\n",
       "            background-color:  #5673e0;\n",
       "            color:  #000000;\n",
       "        }#T_020fa_row3_col4{\n",
       "            background-color:  #9dbdff;\n",
       "            color:  #000000;\n",
       "        }#T_020fa_row3_col5{\n",
       "            background-color:  #485fd1;\n",
       "            color:  #f1f1f1;\n",
       "        }#T_020fa_row4_col0,#T_020fa_row6_col2{\n",
       "            background-color:  #455cce;\n",
       "            color:  #f1f1f1;\n",
       "        }#T_020fa_row4_col3{\n",
       "            background-color:  #a6c4fe;\n",
       "            color:  #000000;\n",
       "        }#T_020fa_row5_col0,#T_020fa_row7_col3{\n",
       "            background-color:  #89acfd;\n",
       "            color:  #000000;\n",
       "        }#T_020fa_row5_col1,#T_020fa_row7_col1{\n",
       "            background-color:  #688aef;\n",
       "            color:  #000000;\n",
       "        }#T_020fa_row5_col3{\n",
       "            background-color:  #8fb1fe;\n",
       "            color:  #000000;\n",
       "        }#T_020fa_row5_col4{\n",
       "            background-color:  #779af7;\n",
       "            color:  #000000;\n",
       "        }#T_020fa_row6_col0{\n",
       "            background-color:  #8badfd;\n",
       "            color:  #000000;\n",
       "        }#T_020fa_row6_col1{\n",
       "            background-color:  #6b8df0;\n",
       "            color:  #000000;\n",
       "        }#T_020fa_row6_col3{\n",
       "            background-color:  #85a8fc;\n",
       "            color:  #000000;\n",
       "        }#T_020fa_row6_col4{\n",
       "            background-color:  #799cf8;\n",
       "            color:  #000000;\n",
       "        }#T_020fa_row6_col5{\n",
       "            background-color:  #445acc;\n",
       "            color:  #f1f1f1;\n",
       "        }#T_020fa_row6_col7{\n",
       "            background-color:  #5572df;\n",
       "            color:  #000000;\n",
       "        }#T_020fa_row7_col2{\n",
       "            background-color:  #4f69d9;\n",
       "            color:  #000000;\n",
       "        }#T_020fa_row7_col4{\n",
       "            background-color:  #7ea1fa;\n",
       "            color:  #000000;\n",
       "        }#T_020fa_row7_col5{\n",
       "            background-color:  #6485ec;\n",
       "            color:  #000000;\n",
       "        }#T_020fa_row7_col6{\n",
       "            background-color:  #5b7ae5;\n",
       "            color:  #000000;\n",
       "        }</style><table id=\"T_020fa_\" ><thead>    <tr>        <th class=\"blank level0\" ></th>        <th class=\"col_heading level0 col0\" >subject_id</th>        <th class=\"col_heading level0 col1\" >timestamp</th>        <th class=\"col_heading level0 col2\" >x_accel</th>        <th class=\"col_heading level0 col3\" >y_accel</th>        <th class=\"col_heading level0 col4\" >z_accel</th>        <th class=\"col_heading level0 col5\" >x_gyro</th>        <th class=\"col_heading level0 col6\" >y_gyro</th>        <th class=\"col_heading level0 col7\" >z_gyro</th>    </tr></thead><tbody>\n",
       "                <tr>\n",
       "                        <th id=\"T_020fa_level0_row0\" class=\"row_heading level0 row0\" >subject_id</th>\n",
       "                        <td id=\"T_020fa_row0_col0\" class=\"data row0 col0\" >1.000000</td>\n",
       "                        <td id=\"T_020fa_row0_col1\" class=\"data row0 col1\" >0.596690</td>\n",
       "                        <td id=\"T_020fa_row0_col2\" class=\"data row0 col2\" >0.005462</td>\n",
       "                        <td id=\"T_020fa_row0_col3\" class=\"data row0 col3\" >-0.319758</td>\n",
       "                        <td id=\"T_020fa_row0_col4\" class=\"data row0 col4\" >-0.269785</td>\n",
       "                        <td id=\"T_020fa_row0_col5\" class=\"data row0 col5\" >-0.004315</td>\n",
       "                        <td id=\"T_020fa_row0_col6\" class=\"data row0 col6\" >0.000357</td>\n",
       "                        <td id=\"T_020fa_row0_col7\" class=\"data row0 col7\" >0.006410</td>\n",
       "            </tr>\n",
       "            <tr>\n",
       "                        <th id=\"T_020fa_level0_row1\" class=\"row_heading level0 row1\" >timestamp</th>\n",
       "                        <td id=\"T_020fa_row1_col0\" class=\"data row1 col0\" >0.596690</td>\n",
       "                        <td id=\"T_020fa_row1_col1\" class=\"data row1 col1\" >1.000000</td>\n",
       "                        <td id=\"T_020fa_row1_col2\" class=\"data row1 col2\" >0.039603</td>\n",
       "                        <td id=\"T_020fa_row1_col3\" class=\"data row1 col3\" >-0.039545</td>\n",
       "                        <td id=\"T_020fa_row1_col4\" class=\"data row1 col4\" >-0.176558</td>\n",
       "                        <td id=\"T_020fa_row1_col5\" class=\"data row1 col5\" >-0.003824</td>\n",
       "                        <td id=\"T_020fa_row1_col6\" class=\"data row1 col6\" >0.002991</td>\n",
       "                        <td id=\"T_020fa_row1_col7\" class=\"data row1 col7\" >-0.003035</td>\n",
       "            </tr>\n",
       "            <tr>\n",
       "                        <th id=\"T_020fa_level0_row2\" class=\"row_heading level0 row2\" >x_accel</th>\n",
       "                        <td id=\"T_020fa_row2_col0\" class=\"data row2 col0\" >0.005462</td>\n",
       "                        <td id=\"T_020fa_row2_col1\" class=\"data row2 col1\" >0.039603</td>\n",
       "                        <td id=\"T_020fa_row2_col2\" class=\"data row2 col2\" >1.000000</td>\n",
       "                        <td id=\"T_020fa_row2_col3\" class=\"data row2 col3\" >0.037617</td>\n",
       "                        <td id=\"T_020fa_row2_col4\" class=\"data row2 col4\" >-0.060545</td>\n",
       "                        <td id=\"T_020fa_row2_col5\" class=\"data row2 col5\" >0.001618</td>\n",
       "                        <td id=\"T_020fa_row2_col6\" class=\"data row2 col6\" >-0.021004</td>\n",
       "                        <td id=\"T_020fa_row2_col7\" class=\"data row2 col7\" >0.012809</td>\n",
       "            </tr>\n",
       "            <tr>\n",
       "                        <th id=\"T_020fa_level0_row3\" class=\"row_heading level0 row3\" >y_accel</th>\n",
       "                        <td id=\"T_020fa_row3_col0\" class=\"data row3 col0\" >-0.319758</td>\n",
       "                        <td id=\"T_020fa_row3_col1\" class=\"data row3 col1\" >-0.039545</td>\n",
       "                        <td id=\"T_020fa_row3_col2\" class=\"data row3 col2\" >0.037617</td>\n",
       "                        <td id=\"T_020fa_row3_col3\" class=\"data row3 col3\" >1.000000</td>\n",
       "                        <td id=\"T_020fa_row3_col4\" class=\"data row3 col4\" >0.103309</td>\n",
       "                        <td id=\"T_020fa_row3_col5\" class=\"data row3 col5\" >0.019798</td>\n",
       "                        <td id=\"T_020fa_row3_col6\" class=\"data row3 col6\" >-0.020008</td>\n",
       "                        <td id=\"T_020fa_row3_col7\" class=\"data row3 col7\" >-0.002203</td>\n",
       "            </tr>\n",
       "            <tr>\n",
       "                        <th id=\"T_020fa_level0_row4\" class=\"row_heading level0 row4\" >z_accel</th>\n",
       "                        <td id=\"T_020fa_row4_col0\" class=\"data row4 col0\" >-0.269785</td>\n",
       "                        <td id=\"T_020fa_row4_col1\" class=\"data row4 col1\" >-0.176558</td>\n",
       "                        <td id=\"T_020fa_row4_col2\" class=\"data row4 col2\" >-0.060545</td>\n",
       "                        <td id=\"T_020fa_row4_col3\" class=\"data row4 col3\" >0.103309</td>\n",
       "                        <td id=\"T_020fa_row4_col4\" class=\"data row4 col4\" >1.000000</td>\n",
       "                        <td id=\"T_020fa_row4_col5\" class=\"data row4 col5\" >-0.027184</td>\n",
       "                        <td id=\"T_020fa_row4_col6\" class=\"data row4 col6\" >-0.022956</td>\n",
       "                        <td id=\"T_020fa_row4_col7\" class=\"data row4 col7\" >-0.003040</td>\n",
       "            </tr>\n",
       "            <tr>\n",
       "                        <th id=\"T_020fa_level0_row5\" class=\"row_heading level0 row5\" >x_gyro</th>\n",
       "                        <td id=\"T_020fa_row5_col0\" class=\"data row5 col0\" >-0.004315</td>\n",
       "                        <td id=\"T_020fa_row5_col1\" class=\"data row5 col1\" >-0.003824</td>\n",
       "                        <td id=\"T_020fa_row5_col2\" class=\"data row5 col2\" >0.001618</td>\n",
       "                        <td id=\"T_020fa_row5_col3\" class=\"data row5 col3\" >0.019798</td>\n",
       "                        <td id=\"T_020fa_row5_col4\" class=\"data row5 col4\" >-0.027184</td>\n",
       "                        <td id=\"T_020fa_row5_col5\" class=\"data row5 col5\" >1.000000</td>\n",
       "                        <td id=\"T_020fa_row5_col6\" class=\"data row5 col6\" >0.008144</td>\n",
       "                        <td id=\"T_020fa_row5_col7\" class=\"data row5 col7\" >0.113085</td>\n",
       "            </tr>\n",
       "            <tr>\n",
       "                        <th id=\"T_020fa_level0_row6\" class=\"row_heading level0 row6\" >y_gyro</th>\n",
       "                        <td id=\"T_020fa_row6_col0\" class=\"data row6 col0\" >0.000357</td>\n",
       "                        <td id=\"T_020fa_row6_col1\" class=\"data row6 col1\" >0.002991</td>\n",
       "                        <td id=\"T_020fa_row6_col2\" class=\"data row6 col2\" >-0.021004</td>\n",
       "                        <td id=\"T_020fa_row6_col3\" class=\"data row6 col3\" >-0.020008</td>\n",
       "                        <td id=\"T_020fa_row6_col4\" class=\"data row6 col4\" >-0.022956</td>\n",
       "                        <td id=\"T_020fa_row6_col5\" class=\"data row6 col5\" >0.008144</td>\n",
       "                        <td id=\"T_020fa_row6_col6\" class=\"data row6 col6\" >1.000000</td>\n",
       "                        <td id=\"T_020fa_row6_col7\" class=\"data row6 col7\" >0.086628</td>\n",
       "            </tr>\n",
       "            <tr>\n",
       "                        <th id=\"T_020fa_level0_row7\" class=\"row_heading level0 row7\" >z_gyro</th>\n",
       "                        <td id=\"T_020fa_row7_col0\" class=\"data row7 col0\" >0.006410</td>\n",
       "                        <td id=\"T_020fa_row7_col1\" class=\"data row7 col1\" >-0.003035</td>\n",
       "                        <td id=\"T_020fa_row7_col2\" class=\"data row7 col2\" >0.012809</td>\n",
       "                        <td id=\"T_020fa_row7_col3\" class=\"data row7 col3\" >-0.002203</td>\n",
       "                        <td id=\"T_020fa_row7_col4\" class=\"data row7 col4\" >-0.003040</td>\n",
       "                        <td id=\"T_020fa_row7_col5\" class=\"data row7 col5\" >0.113085</td>\n",
       "                        <td id=\"T_020fa_row7_col6\" class=\"data row7 col6\" >0.086628</td>\n",
       "                        <td id=\"T_020fa_row7_col7\" class=\"data row7 col7\" >1.000000</td>\n",
       "            </tr>\n",
       "    </tbody></table>"
      ],
      "text/plain": [
       "<pandas.io.formats.style.Styler at 0x7f6bb1408ac0>"
      ]
     },
     "execution_count": 243,
     "metadata": {},
     "output_type": "execute_result"
    }
   ],
   "source": [
    "corr_matrix_phone = phone_combined_df.corr()\n",
    "corr_matrix_phone.compute().style.background_gradient(cmap='coolwarm')"
   ]
  },
  {
   "cell_type": "code",
   "execution_count": 244,
   "id": "45ba1918",
   "metadata": {},
   "outputs": [
    {
     "data": {
      "text/html": [
       "<style  type=\"text/css\" >\n",
       "#T_52c66_row0_col0,#T_52c66_row1_col1,#T_52c66_row2_col2,#T_52c66_row3_col3,#T_52c66_row4_col4,#T_52c66_row5_col5,#T_52c66_row6_col6,#T_52c66_row7_col7{\n",
       "            background-color:  #b40426;\n",
       "            color:  #f1f1f1;\n",
       "        }#T_52c66_row0_col1{\n",
       "            background-color:  #e6d7cf;\n",
       "            color:  #000000;\n",
       "        }#T_52c66_row0_col2{\n",
       "            background-color:  #5977e3;\n",
       "            color:  #000000;\n",
       "        }#T_52c66_row0_col3{\n",
       "            background-color:  #506bda;\n",
       "            color:  #000000;\n",
       "        }#T_52c66_row0_col4,#T_52c66_row5_col4{\n",
       "            background-color:  #5a78e4;\n",
       "            color:  #000000;\n",
       "        }#T_52c66_row0_col5,#T_52c66_row0_col7,#T_52c66_row3_col6{\n",
       "            background-color:  #4e68d8;\n",
       "            color:  #000000;\n",
       "        }#T_52c66_row0_col6,#T_52c66_row1_col6,#T_52c66_row3_col5,#T_52c66_row6_col4{\n",
       "            background-color:  #5b7ae5;\n",
       "            color:  #000000;\n",
       "        }#T_52c66_row1_col0{\n",
       "            background-color:  #e7d7ce;\n",
       "            color:  #000000;\n",
       "        }#T_52c66_row1_col2{\n",
       "            background-color:  #5e7de7;\n",
       "            color:  #000000;\n",
       "        }#T_52c66_row1_col3,#T_52c66_row5_col6,#T_52c66_row7_col2{\n",
       "            background-color:  #4961d2;\n",
       "            color:  #f1f1f1;\n",
       "        }#T_52c66_row1_col4{\n",
       "            background-color:  #6384eb;\n",
       "            color:  #000000;\n",
       "        }#T_52c66_row1_col5,#T_52c66_row1_col7,#T_52c66_row2_col3,#T_52c66_row4_col1{\n",
       "            background-color:  #4c66d6;\n",
       "            color:  #000000;\n",
       "        }#T_52c66_row2_col0,#T_52c66_row2_col4,#T_52c66_row2_col6,#T_52c66_row2_col7,#T_52c66_row3_col1,#T_52c66_row5_col1,#T_52c66_row6_col1,#T_52c66_row6_col2,#T_52c66_row6_col3,#T_52c66_row6_col5,#T_52c66_row7_col1{\n",
       "            background-color:  #3b4cc0;\n",
       "            color:  #f1f1f1;\n",
       "        }#T_52c66_row2_col1,#T_52c66_row5_col0,#T_52c66_row7_col0{\n",
       "            background-color:  #3d50c3;\n",
       "            color:  #f1f1f1;\n",
       "        }#T_52c66_row2_col5{\n",
       "            background-color:  #4358cb;\n",
       "            color:  #f1f1f1;\n",
       "        }#T_52c66_row3_col0{\n",
       "            background-color:  #445acc;\n",
       "            color:  #f1f1f1;\n",
       "        }#T_52c66_row3_col2{\n",
       "            background-color:  #6180e9;\n",
       "            color:  #000000;\n",
       "        }#T_52c66_row3_col4{\n",
       "            background-color:  #6b8df0;\n",
       "            color:  #000000;\n",
       "        }#T_52c66_row3_col7{\n",
       "            background-color:  #4257c9;\n",
       "            color:  #f1f1f1;\n",
       "        }#T_52c66_row4_col0,#T_52c66_row4_col2{\n",
       "            background-color:  #455cce;\n",
       "            color:  #f1f1f1;\n",
       "        }#T_52c66_row4_col3{\n",
       "            background-color:  #6282ea;\n",
       "            color:  #000000;\n",
       "        }#T_52c66_row4_col5,#T_52c66_row5_col3{\n",
       "            background-color:  #5673e0;\n",
       "            color:  #000000;\n",
       "        }#T_52c66_row4_col6{\n",
       "            background-color:  #6687ed;\n",
       "            color:  #000000;\n",
       "        }#T_52c66_row4_col7{\n",
       "            background-color:  #4a63d3;\n",
       "            color:  #f1f1f1;\n",
       "        }#T_52c66_row5_col2{\n",
       "            background-color:  #516ddb;\n",
       "            color:  #000000;\n",
       "        }#T_52c66_row5_col7,#T_52c66_row7_col5{\n",
       "            background-color:  #6f92f3;\n",
       "            color:  #000000;\n",
       "        }#T_52c66_row6_col0,#T_52c66_row7_col3{\n",
       "            background-color:  #3c4ec2;\n",
       "            color:  #f1f1f1;\n",
       "        }#T_52c66_row6_col7{\n",
       "            background-color:  #8db0fe;\n",
       "            color:  #000000;\n",
       "        }#T_52c66_row7_col4{\n",
       "            background-color:  #4f69d9;\n",
       "            color:  #000000;\n",
       "        }#T_52c66_row7_col6{\n",
       "            background-color:  #9abbff;\n",
       "            color:  #000000;\n",
       "        }</style><table id=\"T_52c66_\" ><thead>    <tr>        <th class=\"blank level0\" ></th>        <th class=\"col_heading level0 col0\" >subject_id</th>        <th class=\"col_heading level0 col1\" >timestamp</th>        <th class=\"col_heading level0 col2\" >x_accel</th>        <th class=\"col_heading level0 col3\" >y_accel</th>        <th class=\"col_heading level0 col4\" >z_accel</th>        <th class=\"col_heading level0 col5\" >x_gyro</th>        <th class=\"col_heading level0 col6\" >y_gyro</th>        <th class=\"col_heading level0 col7\" >z_gyro</th>    </tr></thead><tbody>\n",
       "                <tr>\n",
       "                        <th id=\"T_52c66_level0_row0\" class=\"row_heading level0 row0\" >subject_id</th>\n",
       "                        <td id=\"T_52c66_row0_col0\" class=\"data row0 col0\" >1.000000</td>\n",
       "                        <td id=\"T_52c66_row0_col1\" class=\"data row0 col1\" >0.534694</td>\n",
       "                        <td id=\"T_52c66_row0_col2\" class=\"data row0 col2\" >-0.011912</td>\n",
       "                        <td id=\"T_52c66_row0_col3\" class=\"data row0 col3\" >0.023180</td>\n",
       "                        <td id=\"T_52c66_row0_col4\" class=\"data row0 col4\" >0.026741</td>\n",
       "                        <td id=\"T_52c66_row0_col5\" class=\"data row0 col5\" >-0.001473</td>\n",
       "                        <td id=\"T_52c66_row0_col6\" class=\"data row0 col6\" >-0.004214</td>\n",
       "                        <td id=\"T_52c66_row0_col7\" class=\"data row0 col7\" >-0.000735</td>\n",
       "            </tr>\n",
       "            <tr>\n",
       "                        <th id=\"T_52c66_level0_row1\" class=\"row_heading level0 row1\" >timestamp</th>\n",
       "                        <td id=\"T_52c66_row1_col0\" class=\"data row1 col0\" >0.534694</td>\n",
       "                        <td id=\"T_52c66_row1_col1\" class=\"data row1 col1\" >1.000000</td>\n",
       "                        <td id=\"T_52c66_row1_col2\" class=\"data row1 col2\" >0.005673</td>\n",
       "                        <td id=\"T_52c66_row1_col3\" class=\"data row1 col3\" >0.000108</td>\n",
       "                        <td id=\"T_52c66_row1_col4\" class=\"data row1 col4\" >0.056214</td>\n",
       "                        <td id=\"T_52c66_row1_col5\" class=\"data row1 col5\" >-0.002317</td>\n",
       "                        <td id=\"T_52c66_row1_col6\" class=\"data row1 col6\" >-0.002041</td>\n",
       "                        <td id=\"T_52c66_row1_col7\" class=\"data row1 col7\" >-0.002633</td>\n",
       "            </tr>\n",
       "            <tr>\n",
       "                        <th id=\"T_52c66_level0_row2\" class=\"row_heading level0 row2\" >x_accel</th>\n",
       "                        <td id=\"T_52c66_row2_col0\" class=\"data row2 col0\" >-0.011912</td>\n",
       "                        <td id=\"T_52c66_row2_col1\" class=\"data row2 col1\" >0.005673</td>\n",
       "                        <td id=\"T_52c66_row2_col2\" class=\"data row2 col2\" >1.000000</td>\n",
       "                        <td id=\"T_52c66_row2_col3\" class=\"data row2 col3\" >0.012759</td>\n",
       "                        <td id=\"T_52c66_row2_col4\" class=\"data row2 col4\" >-0.083554</td>\n",
       "                        <td id=\"T_52c66_row2_col5\" class=\"data row2 col5\" >-0.038202</td>\n",
       "                        <td id=\"T_52c66_row2_col6\" class=\"data row2 col6\" >-0.123529</td>\n",
       "                        <td id=\"T_52c66_row2_col7\" class=\"data row2 col7\" >-0.068413</td>\n",
       "            </tr>\n",
       "            <tr>\n",
       "                        <th id=\"T_52c66_level0_row3\" class=\"row_heading level0 row3\" >y_accel</th>\n",
       "                        <td id=\"T_52c66_row3_col0\" class=\"data row3 col0\" >0.023180</td>\n",
       "                        <td id=\"T_52c66_row3_col1\" class=\"data row3 col1\" >0.000108</td>\n",
       "                        <td id=\"T_52c66_row3_col2\" class=\"data row3 col2\" >0.012759</td>\n",
       "                        <td id=\"T_52c66_row3_col3\" class=\"data row3 col3\" >1.000000</td>\n",
       "                        <td id=\"T_52c66_row3_col4\" class=\"data row3 col4\" >0.082847</td>\n",
       "                        <td id=\"T_52c66_row3_col5\" class=\"data row3 col5\" >0.045854</td>\n",
       "                        <td id=\"T_52c66_row3_col6\" class=\"data row3 col6\" >-0.050834</td>\n",
       "                        <td id=\"T_52c66_row3_col7\" class=\"data row3 col7\" >-0.042866</td>\n",
       "            </tr>\n",
       "            <tr>\n",
       "                        <th id=\"T_52c66_level0_row4\" class=\"row_heading level0 row4\" >z_accel</th>\n",
       "                        <td id=\"T_52c66_row4_col0\" class=\"data row4 col0\" >0.026741</td>\n",
       "                        <td id=\"T_52c66_row4_col1\" class=\"data row4 col1\" >0.056214</td>\n",
       "                        <td id=\"T_52c66_row4_col2\" class=\"data row4 col2\" >-0.083554</td>\n",
       "                        <td id=\"T_52c66_row4_col3\" class=\"data row4 col3\" >0.082847</td>\n",
       "                        <td id=\"T_52c66_row4_col4\" class=\"data row4 col4\" >1.000000</td>\n",
       "                        <td id=\"T_52c66_row4_col5\" class=\"data row4 col5\" >0.029104</td>\n",
       "                        <td id=\"T_52c66_row4_col6\" class=\"data row4 col6\" >0.033523</td>\n",
       "                        <td id=\"T_52c66_row4_col7\" class=\"data row4 col7\" >-0.010475</td>\n",
       "            </tr>\n",
       "            <tr>\n",
       "                        <th id=\"T_52c66_level0_row5\" class=\"row_heading level0 row5\" >x_gyro</th>\n",
       "                        <td id=\"T_52c66_row5_col0\" class=\"data row5 col0\" >-0.001473</td>\n",
       "                        <td id=\"T_52c66_row5_col1\" class=\"data row5 col1\" >-0.002317</td>\n",
       "                        <td id=\"T_52c66_row5_col2\" class=\"data row5 col2\" >-0.038202</td>\n",
       "                        <td id=\"T_52c66_row5_col3\" class=\"data row5 col3\" >0.045854</td>\n",
       "                        <td id=\"T_52c66_row5_col4\" class=\"data row5 col4\" >0.029104</td>\n",
       "                        <td id=\"T_52c66_row5_col5\" class=\"data row5 col5\" >1.000000</td>\n",
       "                        <td id=\"T_52c66_row5_col6\" class=\"data row5 col6\" >-0.068556</td>\n",
       "                        <td id=\"T_52c66_row5_col7\" class=\"data row5 col7\" >0.110492</td>\n",
       "            </tr>\n",
       "            <tr>\n",
       "                        <th id=\"T_52c66_level0_row6\" class=\"row_heading level0 row6\" >y_gyro</th>\n",
       "                        <td id=\"T_52c66_row6_col0\" class=\"data row6 col0\" >-0.004214</td>\n",
       "                        <td id=\"T_52c66_row6_col1\" class=\"data row6 col1\" >-0.002041</td>\n",
       "                        <td id=\"T_52c66_row6_col2\" class=\"data row6 col2\" >-0.123529</td>\n",
       "                        <td id=\"T_52c66_row6_col3\" class=\"data row6 col3\" >-0.050834</td>\n",
       "                        <td id=\"T_52c66_row6_col4\" class=\"data row6 col4\" >0.033523</td>\n",
       "                        <td id=\"T_52c66_row6_col5\" class=\"data row6 col5\" >-0.068556</td>\n",
       "                        <td id=\"T_52c66_row6_col6\" class=\"data row6 col6\" >1.000000</td>\n",
       "                        <td id=\"T_52c66_row6_col7\" class=\"data row6 col7\" >0.200523</td>\n",
       "            </tr>\n",
       "            <tr>\n",
       "                        <th id=\"T_52c66_level0_row7\" class=\"row_heading level0 row7\" >z_gyro</th>\n",
       "                        <td id=\"T_52c66_row7_col0\" class=\"data row7 col0\" >-0.000735</td>\n",
       "                        <td id=\"T_52c66_row7_col1\" class=\"data row7 col1\" >-0.002633</td>\n",
       "                        <td id=\"T_52c66_row7_col2\" class=\"data row7 col2\" >-0.068413</td>\n",
       "                        <td id=\"T_52c66_row7_col3\" class=\"data row7 col3\" >-0.042866</td>\n",
       "                        <td id=\"T_52c66_row7_col4\" class=\"data row7 col4\" >-0.010475</td>\n",
       "                        <td id=\"T_52c66_row7_col5\" class=\"data row7 col5\" >0.110492</td>\n",
       "                        <td id=\"T_52c66_row7_col6\" class=\"data row7 col6\" >0.200523</td>\n",
       "                        <td id=\"T_52c66_row7_col7\" class=\"data row7 col7\" >1.000000</td>\n",
       "            </tr>\n",
       "    </tbody></table>"
      ],
      "text/plain": [
       "<pandas.io.formats.style.Styler at 0x7f6bb6e94f70>"
      ]
     },
     "execution_count": 244,
     "metadata": {},
     "output_type": "execute_result"
    }
   ],
   "source": [
    "corr_matrix_watch = watch_combined_df.corr()\n",
    "corr_matrix_watch.compute().style.background_gradient(cmap='coolwarm')"
   ]
  },
  {
   "cell_type": "code",
   "execution_count": 263,
   "id": "371f1272",
   "metadata": {},
   "outputs": [],
   "source": [
    "phone_grouped_df = combined_phone_df.set_index('timestamp_dt').groupby(['subject_id', 'activity_code', pd.Grouper(freq='3S')])"
   ]
  },
  {
   "cell_type": "code",
   "execution_count": 269,
   "id": "da24fb0d",
   "metadata": {},
   "outputs": [],
   "source": [
    "# more work to be done on the group by still; timestamps may be off for certain devices"
   ]
  },
  {
   "cell_type": "code",
   "execution_count": 302,
   "id": "e22212d1",
   "metadata": {},
   "outputs": [],
   "source": [
    "size = phone_grouped_df.size().rename('count').to_frame()"
   ]
  },
  {
   "cell_type": "code",
   "execution_count": 319,
   "id": "d09ca0bd",
   "metadata": {},
   "outputs": [
    {
     "data": {
      "text/plain": [
       "count\n",
       "60       17807\n",
       "59       10132\n",
       "75        8565\n",
       "1         2643\n",
       "76        1871\n",
       "74        1061\n",
       "240        572\n",
       "236        431\n",
       "61         208\n",
       "58          79\n",
       "2           79\n",
       "10          68\n",
       "38          67\n",
       "22          67\n",
       "35          61\n",
       "42          60\n",
       "11          59\n",
       "12          59\n",
       "16          59\n",
       "57          57\n",
       "4           57\n",
       "3           57\n",
       "49          57\n",
       "15          56\n",
       "47          55\n",
       "dtype: int64"
      ]
     },
     "execution_count": 319,
     "metadata": {},
     "output_type": "execute_result"
    }
   ],
   "source": [
    "size.compute().value_counts().head(25)"
   ]
  },
  {
   "cell_type": "code",
   "execution_count": 317,
   "id": "26b149b8",
   "metadata": {},
   "outputs": [
    {
     "data": {
      "text/html": [
       "<div>\n",
       "<style scoped>\n",
       "    .dataframe tbody tr th:only-of-type {\n",
       "        vertical-align: middle;\n",
       "    }\n",
       "\n",
       "    .dataframe tbody tr th {\n",
       "        vertical-align: top;\n",
       "    }\n",
       "\n",
       "    .dataframe thead th {\n",
       "        text-align: right;\n",
       "    }\n",
       "</style>\n",
       "<table border=\"1\" class=\"dataframe\">\n",
       "  <thead>\n",
       "    <tr style=\"text-align: right;\">\n",
       "      <th></th>\n",
       "      <th></th>\n",
       "      <th></th>\n",
       "      <th>count</th>\n",
       "    </tr>\n",
       "    <tr>\n",
       "      <th>subject_id</th>\n",
       "      <th>activity_code</th>\n",
       "      <th>timestamp_dt</th>\n",
       "      <th></th>\n",
       "    </tr>\n",
       "  </thead>\n",
       "  <tbody>\n",
       "    <tr>\n",
       "      <th rowspan=\"5\" valign=\"top\">1603</th>\n",
       "      <th rowspan=\"5\" valign=\"top\">A</th>\n",
       "      <th>1970-01-01 02:21:27</th>\n",
       "      <td>75</td>\n",
       "    </tr>\n",
       "    <tr>\n",
       "      <th>1970-01-01 02:21:30</th>\n",
       "      <td>75</td>\n",
       "    </tr>\n",
       "    <tr>\n",
       "      <th>1970-01-01 02:21:33</th>\n",
       "      <td>75</td>\n",
       "    </tr>\n",
       "    <tr>\n",
       "      <th>1970-01-01 02:21:39</th>\n",
       "      <td>75</td>\n",
       "    </tr>\n",
       "    <tr>\n",
       "      <th>1970-01-01 02:21:42</th>\n",
       "      <td>75</td>\n",
       "    </tr>\n",
       "  </tbody>\n",
       "</table>\n",
       "</div>"
      ],
      "text/plain": [
       "                                              count\n",
       "subject_id activity_code timestamp_dt              \n",
       "1603       A             1970-01-01 02:21:27     75\n",
       "                         1970-01-01 02:21:30     75\n",
       "                         1970-01-01 02:21:33     75\n",
       "                         1970-01-01 02:21:39     75\n",
       "                         1970-01-01 02:21:42     75"
      ]
     },
     "execution_count": 317,
     "metadata": {},
     "output_type": "execute_result"
    }
   ],
   "source": [
    "size[size['count'] == 75].head()"
   ]
  },
  {
   "cell_type": "code",
   "execution_count": 316,
   "id": "1ac1e1d9",
   "metadata": {},
   "outputs": [
    {
     "ename": "KeyError",
     "evalue": "'subject_id'",
     "output_type": "error",
     "traceback": [
      "\u001b[0;31m---------------------------------------------------------------------------\u001b[0m",
      "\u001b[0;31mKeyError\u001b[0m                                  Traceback (most recent call last)",
      "\u001b[0;32m/usr/local/lib/python3.8/dist-packages/pandas/core/indexes/base.py\u001b[0m in \u001b[0;36mget_loc\u001b[0;34m(self, key, method, tolerance)\u001b[0m\n\u001b[1;32m   3079\u001b[0m             \u001b[0;32mtry\u001b[0m\u001b[0;34m:\u001b[0m\u001b[0;34m\u001b[0m\u001b[0;34m\u001b[0m\u001b[0m\n\u001b[0;32m-> 3080\u001b[0;31m                 \u001b[0;32mreturn\u001b[0m \u001b[0mself\u001b[0m\u001b[0;34m.\u001b[0m\u001b[0m_engine\u001b[0m\u001b[0;34m.\u001b[0m\u001b[0mget_loc\u001b[0m\u001b[0;34m(\u001b[0m\u001b[0mcasted_key\u001b[0m\u001b[0;34m)\u001b[0m\u001b[0;34m\u001b[0m\u001b[0;34m\u001b[0m\u001b[0m\n\u001b[0m\u001b[1;32m   3081\u001b[0m             \u001b[0;32mexcept\u001b[0m \u001b[0mKeyError\u001b[0m \u001b[0;32mas\u001b[0m \u001b[0merr\u001b[0m\u001b[0;34m:\u001b[0m\u001b[0;34m\u001b[0m\u001b[0;34m\u001b[0m\u001b[0m\n",
      "\u001b[0;32mpandas/_libs/index.pyx\u001b[0m in \u001b[0;36mpandas._libs.index.IndexEngine.get_loc\u001b[0;34m()\u001b[0m\n",
      "\u001b[0;32mpandas/_libs/index.pyx\u001b[0m in \u001b[0;36mpandas._libs.index.IndexEngine.get_loc\u001b[0;34m()\u001b[0m\n",
      "\u001b[0;32mpandas/_libs/hashtable_class_helper.pxi\u001b[0m in \u001b[0;36mpandas._libs.hashtable.PyObjectHashTable.get_item\u001b[0;34m()\u001b[0m\n",
      "\u001b[0;32mpandas/_libs/hashtable_class_helper.pxi\u001b[0m in \u001b[0;36mpandas._libs.hashtable.PyObjectHashTable.get_item\u001b[0;34m()\u001b[0m\n",
      "\u001b[0;31mKeyError\u001b[0m: 'subject_id'",
      "\nThe above exception was the direct cause of the following exception:\n",
      "\u001b[0;31mKeyError\u001b[0m                                  Traceback (most recent call last)",
      "\u001b[0;32m<ipython-input-316-f52e0b46899e>\u001b[0m in \u001b[0;36m<module>\u001b[0;34m\u001b[0m\n\u001b[0;32m----> 1\u001b[0;31m \u001b[0msize\u001b[0m\u001b[0;34m[\u001b[0m \u001b[0;34m(\u001b[0m\u001b[0msize\u001b[0m\u001b[0;34m[\u001b[0m\u001b[0;34m'subject_id'\u001b[0m\u001b[0;34m]\u001b[0m \u001b[0;34m==\u001b[0m \u001b[0;36m1603\u001b[0m\u001b[0;34m)\u001b[0m \u001b[0;34m&\u001b[0m \u001b[0;34m(\u001b[0m\u001b[0msize\u001b[0m\u001b[0;34m[\u001b[0m\u001b[0;34m'activity_code'\u001b[0m\u001b[0;34m]\u001b[0m \u001b[0;34m==\u001b[0m \u001b[0;34m'A'\u001b[0m\u001b[0;34m)\u001b[0m \u001b[0;34m]\u001b[0m\u001b[0;34m\u001b[0m\u001b[0;34m\u001b[0m\u001b[0m\n\u001b[0m",
      "\u001b[0;32m/usr/local/lib/python3.8/dist-packages/dask/dataframe/core.py\u001b[0m in \u001b[0;36m__getitem__\u001b[0;34m(self, key)\u001b[0m\n\u001b[1;32m   3862\u001b[0m \u001b[0;34m\u001b[0m\u001b[0m\n\u001b[1;32m   3863\u001b[0m             \u001b[0;31m# error is raised from pandas\u001b[0m\u001b[0;34m\u001b[0m\u001b[0;34m\u001b[0m\u001b[0;34m\u001b[0m\u001b[0m\n\u001b[0;32m-> 3864\u001b[0;31m             \u001b[0mmeta\u001b[0m \u001b[0;34m=\u001b[0m \u001b[0mself\u001b[0m\u001b[0;34m.\u001b[0m\u001b[0m_meta\u001b[0m\u001b[0;34m[\u001b[0m\u001b[0m_extract_meta\u001b[0m\u001b[0;34m(\u001b[0m\u001b[0mkey\u001b[0m\u001b[0;34m)\u001b[0m\u001b[0;34m]\u001b[0m\u001b[0;34m\u001b[0m\u001b[0;34m\u001b[0m\u001b[0m\n\u001b[0m\u001b[1;32m   3865\u001b[0m             \u001b[0mdsk\u001b[0m \u001b[0;34m=\u001b[0m \u001b[0mpartitionwise_graph\u001b[0m\u001b[0;34m(\u001b[0m\u001b[0moperator\u001b[0m\u001b[0;34m.\u001b[0m\u001b[0mgetitem\u001b[0m\u001b[0;34m,\u001b[0m \u001b[0mname\u001b[0m\u001b[0;34m,\u001b[0m \u001b[0mself\u001b[0m\u001b[0;34m,\u001b[0m \u001b[0mkey\u001b[0m\u001b[0;34m)\u001b[0m\u001b[0;34m\u001b[0m\u001b[0;34m\u001b[0m\u001b[0m\n\u001b[1;32m   3866\u001b[0m             \u001b[0mgraph\u001b[0m \u001b[0;34m=\u001b[0m \u001b[0mHighLevelGraph\u001b[0m\u001b[0;34m.\u001b[0m\u001b[0mfrom_collections\u001b[0m\u001b[0;34m(\u001b[0m\u001b[0mname\u001b[0m\u001b[0;34m,\u001b[0m \u001b[0mdsk\u001b[0m\u001b[0;34m,\u001b[0m \u001b[0mdependencies\u001b[0m\u001b[0;34m=\u001b[0m\u001b[0;34m[\u001b[0m\u001b[0mself\u001b[0m\u001b[0;34m]\u001b[0m\u001b[0;34m)\u001b[0m\u001b[0;34m\u001b[0m\u001b[0;34m\u001b[0m\u001b[0m\n",
      "\u001b[0;32m/usr/local/lib/python3.8/dist-packages/pandas/core/frame.py\u001b[0m in \u001b[0;36m__getitem__\u001b[0;34m(self, key)\u001b[0m\n\u001b[1;32m   3022\u001b[0m             \u001b[0;32mif\u001b[0m \u001b[0mself\u001b[0m\u001b[0;34m.\u001b[0m\u001b[0mcolumns\u001b[0m\u001b[0;34m.\u001b[0m\u001b[0mnlevels\u001b[0m \u001b[0;34m>\u001b[0m \u001b[0;36m1\u001b[0m\u001b[0;34m:\u001b[0m\u001b[0;34m\u001b[0m\u001b[0;34m\u001b[0m\u001b[0m\n\u001b[1;32m   3023\u001b[0m                 \u001b[0;32mreturn\u001b[0m \u001b[0mself\u001b[0m\u001b[0;34m.\u001b[0m\u001b[0m_getitem_multilevel\u001b[0m\u001b[0;34m(\u001b[0m\u001b[0mkey\u001b[0m\u001b[0;34m)\u001b[0m\u001b[0;34m\u001b[0m\u001b[0;34m\u001b[0m\u001b[0m\n\u001b[0;32m-> 3024\u001b[0;31m             \u001b[0mindexer\u001b[0m \u001b[0;34m=\u001b[0m \u001b[0mself\u001b[0m\u001b[0;34m.\u001b[0m\u001b[0mcolumns\u001b[0m\u001b[0;34m.\u001b[0m\u001b[0mget_loc\u001b[0m\u001b[0;34m(\u001b[0m\u001b[0mkey\u001b[0m\u001b[0;34m)\u001b[0m\u001b[0;34m\u001b[0m\u001b[0;34m\u001b[0m\u001b[0m\n\u001b[0m\u001b[1;32m   3025\u001b[0m             \u001b[0;32mif\u001b[0m \u001b[0mis_integer\u001b[0m\u001b[0;34m(\u001b[0m\u001b[0mindexer\u001b[0m\u001b[0;34m)\u001b[0m\u001b[0;34m:\u001b[0m\u001b[0;34m\u001b[0m\u001b[0;34m\u001b[0m\u001b[0m\n\u001b[1;32m   3026\u001b[0m                 \u001b[0mindexer\u001b[0m \u001b[0;34m=\u001b[0m \u001b[0;34m[\u001b[0m\u001b[0mindexer\u001b[0m\u001b[0;34m]\u001b[0m\u001b[0;34m\u001b[0m\u001b[0;34m\u001b[0m\u001b[0m\n",
      "\u001b[0;32m/usr/local/lib/python3.8/dist-packages/pandas/core/indexes/base.py\u001b[0m in \u001b[0;36mget_loc\u001b[0;34m(self, key, method, tolerance)\u001b[0m\n\u001b[1;32m   3080\u001b[0m                 \u001b[0;32mreturn\u001b[0m \u001b[0mself\u001b[0m\u001b[0;34m.\u001b[0m\u001b[0m_engine\u001b[0m\u001b[0;34m.\u001b[0m\u001b[0mget_loc\u001b[0m\u001b[0;34m(\u001b[0m\u001b[0mcasted_key\u001b[0m\u001b[0;34m)\u001b[0m\u001b[0;34m\u001b[0m\u001b[0;34m\u001b[0m\u001b[0m\n\u001b[1;32m   3081\u001b[0m             \u001b[0;32mexcept\u001b[0m \u001b[0mKeyError\u001b[0m \u001b[0;32mas\u001b[0m \u001b[0merr\u001b[0m\u001b[0;34m:\u001b[0m\u001b[0;34m\u001b[0m\u001b[0;34m\u001b[0m\u001b[0m\n\u001b[0;32m-> 3082\u001b[0;31m                 \u001b[0;32mraise\u001b[0m \u001b[0mKeyError\u001b[0m\u001b[0;34m(\u001b[0m\u001b[0mkey\u001b[0m\u001b[0;34m)\u001b[0m \u001b[0;32mfrom\u001b[0m \u001b[0merr\u001b[0m\u001b[0;34m\u001b[0m\u001b[0;34m\u001b[0m\u001b[0m\n\u001b[0m\u001b[1;32m   3083\u001b[0m \u001b[0;34m\u001b[0m\u001b[0m\n\u001b[1;32m   3084\u001b[0m         \u001b[0;32mif\u001b[0m \u001b[0mtolerance\u001b[0m \u001b[0;32mis\u001b[0m \u001b[0;32mnot\u001b[0m \u001b[0;32mNone\u001b[0m\u001b[0;34m:\u001b[0m\u001b[0;34m\u001b[0m\u001b[0;34m\u001b[0m\u001b[0m\n",
      "\u001b[0;31mKeyError\u001b[0m: 'subject_id'"
     ]
    }
   ],
   "source": [
    "size[ (size['subject_id'] == 1603) & (size['activity_code'] == 'A') ]"
   ]
  },
  {
   "cell_type": "code",
   "execution_count": 314,
   "id": "9026bdd6",
   "metadata": {},
   "outputs": [
    {
     "name": "stdout",
     "output_type": "stream",
     "text": [
      "2238-11-15 06:20:49\n"
     ]
    }
   ],
   "source": [
    "from datetime import datetime\n",
    "ts = int(\"8484762049269\")\n",
    "ts /= 1000\n",
    "\n",
    "# if you encounter a \"year is out of range\" error the timestamp\n",
    "# may be in milliseconds, try `ts /= 1000` in that case\n",
    "print(datetime.utcfromtimestamp(ts).strftime('%Y-%m-%d %H:%M:%S'))"
   ]
  },
  {
   "cell_type": "code",
   "execution_count": 300,
   "id": "0f0378a2",
   "metadata": {},
   "outputs": [],
   "source": [
    "\n",
    "size2 = size[size['count'] < 29].compute().sort_values(by=['count'], ascending=True)"
   ]
  },
  {
   "cell_type": "code",
   "execution_count": 301,
   "id": "c45f5800",
   "metadata": {},
   "outputs": [
    {
     "name": "stdout",
     "output_type": "stream",
     "text": [
      "(4047, 1)\n"
     ]
    },
    {
     "data": {
      "text/plain": [
       "subject_id\n",
       "1600      1\n",
       "1602      1\n",
       "1605      1\n",
       "1608      1\n",
       "1609      4\n",
       "1612      1\n",
       "1613      2\n",
       "1614     33\n",
       "1618      1\n",
       "1620      1\n",
       "1621      1\n",
       "1623      1\n",
       "1625      4\n",
       "1628      6\n",
       "1635      3\n",
       "1637      1\n",
       "1640      1\n",
       "1641    441\n",
       "1642    353\n",
       "1643      6\n",
       "1644    476\n",
       "1645    444\n",
       "1646    503\n",
       "1647      1\n",
       "1648    349\n",
       "1650      7\n",
       "dtype: int64"
      ]
     },
     "execution_count": 301,
     "metadata": {},
     "output_type": "execute_result"
    }
   ],
   "source": [
    "print(size2.shape)\n",
    "size2[size2['count'] == 1].groupby(['subject_id']).size()"
   ]
  },
  {
   "cell_type": "code",
   "execution_count": 299,
   "id": "2f79b311",
   "metadata": {},
   "outputs": [
    {
     "data": {
      "text/plain": [
       "(41, 1)"
      ]
     },
     "execution_count": 299,
     "metadata": {},
     "output_type": "execute_result"
    }
   ],
   "source": [
    "size2[size2['count'] != 29].shape"
   ]
  },
  {
   "cell_type": "code",
   "execution_count": null,
   "id": "7123b584",
   "metadata": {},
   "outputs": [],
   "source": [
    "phone_grouped_means_df = phone_grouped_df.mean()\n",
    "phone_grouped_means_df.head()"
   ]
  },
  {
   "cell_type": "code",
   "execution_count": null,
   "id": "c2a87b89",
   "metadata": {},
   "outputs": [],
   "source": [
    "len(phone_grouped_means_df)"
   ]
  },
  {
   "cell_type": "code",
   "execution_count": null,
   "id": "adb9248a",
   "metadata": {},
   "outputs": [],
   "source": []
  },
  {
   "cell_type": "code",
   "execution_count": null,
   "id": "b385e5a5",
   "metadata": {},
   "outputs": [],
   "source": []
  },
  {
   "cell_type": "code",
   "execution_count": null,
   "id": "83c7f371",
   "metadata": {},
   "outputs": [],
   "source": [
    "# Group by subject id, activity, time interval window (3s) - mean, std x, y, z with group by\n",
    "\n",
    "# https://stackoverflow.com/questions/35898667/group-by-time-and-other-column-in-pandas"
   ]
  },
  {
   "cell_type": "code",
   "execution_count": null,
   "id": "5e6da322",
   "metadata": {},
   "outputs": [],
   "source": [
    "# Join back together for single dataframe "
   ]
  },
  {
   "cell_type": "markdown",
   "id": "b7effaa8",
   "metadata": {},
   "source": [
    "# 2. Model Selection & Training"
   ]
  },
  {
   "cell_type": "code",
   "execution_count": null,
   "id": "ad21fe23",
   "metadata": {},
   "outputs": [],
   "source": [
    "# train test split\n",
    "import dask_ml.model_selection\n",
    "#train_test_split with 80-20 split\n",
    "X_train, X_test = dask_ml.model_selection.train_test_split(phone_grouped_means_df, shuffle = True, random_state=0, test_size = 0.2, train_size=0.8)"
   ]
  },
  {
   "cell_type": "code",
   "execution_count": null,
   "id": "877e57ce",
   "metadata": {},
   "outputs": [],
   "source": [
    "X_train.head()"
   ]
  },
  {
   "cell_type": "code",
   "execution_count": null,
   "id": "11a28ad4",
   "metadata": {},
   "outputs": [],
   "source": [
    "len(X_train)"
   ]
  },
  {
   "cell_type": "code",
   "execution_count": null,
   "id": "b3bfe87c",
   "metadata": {},
   "outputs": [],
   "source": [
    "len(X_test)"
   ]
  },
  {
   "cell_type": "code",
   "execution_count": null,
   "id": "7ffb02a8",
   "metadata": {},
   "outputs": [],
   "source": [
    "#reset the indices of the training data so that we can separate out the activity_code as labels\n",
    "X_train_reset = X_train.reset_index()\n",
    "#create a separate df just for the training labels\n",
    "X_train_labels = X_train_reset['activity_code']\n",
    "#drop the timestamp columns and the activity_code column from the index reset training data\n",
    "X_train_reset = X_train_reset.drop(['timestamp_dt', 'timestamp', 'activity_code'], axis=1)\n",
    "X_train_reset.head()"
   ]
  },
  {
   "cell_type": "code",
   "execution_count": null,
   "id": "f0091dc6",
   "metadata": {},
   "outputs": [],
   "source": [
    "X_train_labels.head()"
   ]
  },
  {
   "cell_type": "code",
   "execution_count": null,
   "id": "8f38fa3b",
   "metadata": {},
   "outputs": [],
   "source": [
    "%%time\n",
    "\n",
    "# fit model\n",
    "from sklearn.ensemble import RandomForestClassifier\n",
    "randomForestClassifier = RandomForestClassifier(random_state=0)\n",
    "with joblib.parallel_backend('dask'):\n",
    "    randomForestClassifier.fit(X_train_reset, X_train_labels)\n",
    "# hyperparamter tuning depending on model selected (if time permits)"
   ]
  },
  {
   "cell_type": "markdown",
   "id": "31d07024",
   "metadata": {},
   "source": [
    "# 3. Model Test"
   ]
  },
  {
   "cell_type": "code",
   "execution_count": null,
   "id": "88bbc975",
   "metadata": {},
   "outputs": [],
   "source": [
    "X_test.head()"
   ]
  },
  {
   "cell_type": "code",
   "execution_count": null,
   "id": "8eb0022d",
   "metadata": {},
   "outputs": [],
   "source": [
    "#reset the indices of the testing data so that we can separate out the activity_code as labels\n",
    "X_test_reset = X_test.reset_index()\n",
    "#create a separate df just for the testing labels\n",
    "X_test_labels = X_test_reset['activity_code']\n",
    "#drop the timestamp columns and the activity_code column from the index reset testing data\n",
    "X_test_reset = X_test_reset.drop(['timestamp_dt', 'timestamp', 'activity_code'], axis=1)\n",
    "X_test_reset.head()"
   ]
  },
  {
   "cell_type": "code",
   "execution_count": null,
   "id": "bee8b359",
   "metadata": {},
   "outputs": [],
   "source": [
    "X_test_labels.head()"
   ]
  },
  {
   "cell_type": "code",
   "execution_count": null,
   "id": "e0cf2d35",
   "metadata": {},
   "outputs": [],
   "source": [
    "# test /validate and provide final accurracy\n",
    "# with joblib.parallel_backend('dask'):\n",
    "#     score = randomForestClassifier.score(X_test_reset, X_test_labels)\n",
    "# score"
   ]
  },
  {
   "cell_type": "code",
   "execution_count": null,
   "id": "2f9959ee",
   "metadata": {},
   "outputs": [],
   "source": [
    "# from sklearn.metrics import confusion_matrix\n",
    "# with joblib.parallel_backend('dask'):\n",
    "#     confusion_matrix(X_test_labels, randomForestClassifier.predict(X_test_reset) )"
   ]
  },
  {
   "cell_type": "code",
   "execution_count": null,
   "id": "e9a9d882",
   "metadata": {},
   "outputs": [],
   "source": [
    "from sklearn.metrics import confusion_matrix\n",
    "from sklearn.metrics import accuracy_score\n",
    "with joblib.parallel_backend('dask'):\n",
    "    predicted_labels = randomForestClassifier.predict(X_test_reset)"
   ]
  },
  {
   "cell_type": "code",
   "execution_count": null,
   "id": "26a489cc",
   "metadata": {},
   "outputs": [],
   "source": [
    "confusion_matrix(X_test_labels, predicted_labels)"
   ]
  },
  {
   "cell_type": "code",
   "execution_count": null,
   "id": "ed6018ee",
   "metadata": {},
   "outputs": [],
   "source": [
    "%%time\n",
    "\n",
    "with joblib.parallel_backend('dask'):\n",
    "    print(accuracy_score(X_test_labels, predicted_labels))"
   ]
  },
  {
   "cell_type": "markdown",
   "id": "af1536c8",
   "metadata": {},
   "source": [
    "# 4. Results & Conclusion"
   ]
  },
  {
   "cell_type": "code",
   "execution_count": null,
   "id": "68cb5e02",
   "metadata": {},
   "outputs": [],
   "source": [
    "# Summarize final results and conclusion - include any helpful charts/graphs"
   ]
  },
  {
   "cell_type": "code",
   "execution_count": null,
   "id": "9f27f690",
   "metadata": {},
   "outputs": [],
   "source": [
    "client.shutdown()"
   ]
  },
  {
   "cell_type": "code",
   "execution_count": null,
   "id": "da5f5fcf",
   "metadata": {},
   "outputs": [],
   "source": []
  }
 ],
 "metadata": {
  "kernelspec": {
   "display_name": "Python 3",
   "language": "python",
   "name": "python3"
  },
  "language_info": {
   "codemirror_mode": {
    "name": "ipython",
    "version": 3
   },
   "file_extension": ".py",
   "mimetype": "text/x-python",
   "name": "python",
   "nbconvert_exporter": "python",
   "pygments_lexer": "ipython3",
   "version": "3.8.5"
  }
 },
 "nbformat": 4,
 "nbformat_minor": 5
}
