{
 "cells": [
  {
   "cell_type": "code",
   "execution_count": null,
   "id": "72f1d4ab",
   "metadata": {},
   "outputs": [],
   "source": [
    "%matplotlib inline\n",
    "\n",
    "from dask.distributed import Client\n",
    "import dask.dataframe as dd\n",
    "import matplotlib.pyplot as plt\n",
    "import joblib\n",
    "import numpy as np"
   ]
  },
  {
   "cell_type": "code",
   "execution_count": null,
   "id": "fcb71ae8",
   "metadata": {},
   "outputs": [],
   "source": [
    "# Start and connect to local client\n",
    "\n",
    "client = Client(n_workers=4)\n",
    "# client = Client(\"scheduler-address:8786\")  # connecting to remote cluster"
   ]
  },
  {
   "cell_type": "code",
   "execution_count": null,
   "id": "92c16a8d",
   "metadata": {},
   "outputs": [],
   "source": [
    "client"
   ]
  },
  {
   "cell_type": "code",
   "execution_count": null,
   "id": "2907bd0b",
   "metadata": {},
   "outputs": [],
   "source": [
    "def read_file(filepath):\n",
    "    df = dd.read_csv(filepath, sep = ',', header = None)\n",
    "    df.columns = ['subject_id', 'activity_code', 'timestamp', 'x_coord', 'y_coord', 'z_coord']\n",
    "    df['z_coord'] = df['z_coord'].str.replace(\";\",\"\").astype('float64') # remove ; and ensure float (having issues with lineterminator)\n",
    "    return df"
   ]
  },
  {
   "cell_type": "code",
   "execution_count": null,
   "id": "78ed39dd",
   "metadata": {},
   "outputs": [],
   "source": [
    "phone_gyro_df = read_file('wisdm-dataset/raw/phone/gyro/*.txt')\n",
    "phone_accel_df = read_file('wisdm-dataset/raw/phone/accel/*.txt')\n",
    "watch_gyro_df = read_file('wisdm-dataset/raw/watch/gyro/*.txt')\n",
    "watch_accel_df = read_file('wisdm-dataset/raw/watch/accel/*.txt')"
   ]
  },
  {
   "cell_type": "code",
   "execution_count": null,
   "id": "c84f7f68",
   "metadata": {},
   "outputs": [],
   "source": [
    "len(phone_gyro_df[ (phone_gyro_df['subject_id'] == 1600) & (phone_gyro_df['activity_code'] == 'A') ])"
   ]
  },
  {
   "cell_type": "code",
   "execution_count": null,
   "id": "a40d1914",
   "metadata": {},
   "outputs": [],
   "source": [
    "client.shutdown()"
   ]
  },
  {
   "cell_type": "code",
   "execution_count": null,
   "id": "8f5f407a",
   "metadata": {},
   "outputs": [],
   "source": []
  },
  {
   "cell_type": "code",
   "execution_count": null,
   "id": "35552030",
   "metadata": {},
   "outputs": [],
   "source": []
  }
 ],
 "metadata": {
  "kernelspec": {
   "display_name": "Python 3",
   "language": "python",
   "name": "python3"
  },
  "language_info": {
   "codemirror_mode": {
    "name": "ipython",
    "version": 3
   },
   "file_extension": ".py",
   "mimetype": "text/x-python",
   "name": "python",
   "nbconvert_exporter": "python",
   "pygments_lexer": "ipython3",
   "version": "3.8.5"
  }
 },
 "nbformat": 4,
 "nbformat_minor": 5
}
